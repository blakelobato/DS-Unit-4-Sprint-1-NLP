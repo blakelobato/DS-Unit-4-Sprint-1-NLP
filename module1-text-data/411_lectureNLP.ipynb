{
 "cells": [
  {
   "cell_type": "markdown",
   "metadata": {
    "toc-hr-collapsed": false
   },
   "source": [
    "Lambda School Data Science\n",
    "\n",
    "*Unit 4, Sprint 1, Module 1*\n",
    "\n",
    "---\n",
    "<h1 id=\"moduleTitle\"> Natural Language Processing Introduction (Prepare)</h1>\n",
    "\n",
    "\"Natural\" meaning - not computer languages but spoken/written human languages. The hard thing about NLP is that human languages are far less structured or consistent than computer languages. This is perhaps the largest source of difficulty when trying to get computers to \"understand\" human languages. How do you get a machine to understand sarcasm, and irony, and synonyms, connotation, denotation, nuance, and tone of voice --all without it having lived a lifetime of experience for context? If you think about it, our human brains have been exposed to quite a lot of training data to help us interpret languages, and even then we misunderstand each other pretty frequently. \n",
    "    \n",
    "\n",
    "<h2 id='moduleObjectives'>Learning Objectives</h2>\n",
    "\n",
    "By the end of end of this module, a student should be able to:\n",
    "* <a href=\"#p1\">Objective 1</a>: Tokenize text\n",
    "* <a href=\"#p1\">Objective 2</a>: Remove stop words from text\n",
    "* <a href=\"#p3\">Objective 3</a>: Perform stemming and lemmatization on tokens\n",
    "\n",
    "## Conda Environments\n",
    "\n",
    "You will be completing each module this sprint on your machine. We will be using conda environments to manage the packages and their dependencies for this sprint's content. In a classroom setting, instructors typically abstract away environment for you. However, environment management is an important professional data science skill. We showed you how to manage environments using pipvirtual env during Unit 3, but in this sprint, we will introduce an environment management tool common in the data science community: \n",
    "\n",
    "> __conda__: Package, dependency and environment management for any language—Python, R, Ruby, Lua, Scala, Java, JavaScript, C/ C++, FORTRAN, and more.\n",
    "\n",
    "The easiest way to install conda on your machine is via the [Anaconda Distribution](https://www.anaconda.com/distribution/) of Python & R. Once you have conda installed, read [\"A Guide to Conda Environments\"](https://towardsdatascience.com/a-guide-to-conda-environments-bc6180fc533). This article will provide an introduce into some of the conda basics. If you need some additional help getting started, the official [\"Setting started with conda\"](https://conda.io/projects/conda/en/latest/user-guide/getting-started.html) guide will point you in the right direction. \n",
    "\n",
    ":snake: \n",
    "\n",
    "To get the sprint environment setup: \n",
    "\n",
    "1. Open your command line tool (Terminal for MacOS, Anaconda Prompt for Windows)\n",
    "2. Navigate to the folder with this sprint's content. There should be a `requirements.txt`\n",
    "3. Run `conda create -n U4-S1-NLP python==3.7` => You can also rename the environment if you would like. Once the command completes, your conda environment should be ready.\n",
    "4. Now, we are going to add in the require python packages for this sprint. You will need to 'activate' the conda environment: `source activate U4-S1-NLP` on Terminal or `conda activate U4-S1-NLP` on Anaconda Prompt. Once your environment is activate, run `pip install -r requirements.txt` which will install the required packages into your environment.\n",
    "5. We are going to also add an Ipython Kernel reference to your conda environment, so we can use it from JupyterLab. \n",
    "6. Next run `python -m ipykernel install --user --name U4-S1-NLP --display-name \"U4-S1-NLP (Python3)\"` => This will add a json object to an ipython file, so JupterLab will know that it can use this isolated instance of Python. :) \n",
    "7. Last step, we need to install the models for Spacy. Run these commands `python -m spacy download en_core_web_md` and `python -m spacy download en_core_web_lg`\n",
    "8. Deactivate your conda environment and launch JupyterLab. You should know see \"U4-S1-NLP (Python3)\" in the list of available kernels on launch screen. "
   ]
  },
  {
   "cell_type": "markdown",
   "metadata": {
    "toc-hr-collapsed": false
   },
   "source": [
    "# Tokenze Text (Learn)\n",
    "<a id=\"p1\"></a>"
   ]
  },
  {
   "cell_type": "markdown",
   "metadata": {
    "toc-hr-collapsed": true
   },
   "source": [
    "## Overview\n",
    "\n",
    "> **token**: an instance of a sequence of characters in some particular document that are grouped together as a useful semantic unit for processing\n",
    "\n",
    "> [_*Introduction to Information Retrival*_](https://nlp.stanford.edu/IR-book/)\n",
    "\n",
    "\n",
    "### The attributes of good tokens\n",
    "\n",
    "* Should be stored in an iterable data structure\n",
    "  - Allows analysis of the \"semantic unit\"\n",
    "* Should be all the same case\n",
    "  - Reduces the complexity of our data\n",
    "* Should be free of non-alphanumeric characters (ie punctuation, whitespace)\n",
    "  - Removes information that is probably not relevant to the analysis"
   ]
  },
  {
   "cell_type": "markdown",
   "metadata": {},
   "source": [
    "Let's pretend we are trying analyze the random sequence here. Question: what is the most common character in this sequence?"
   ]
  },
  {
   "cell_type": "code",
   "execution_count": 1,
   "metadata": {},
   "outputs": [],
   "source": [
    "random_seq = \"AABAAFBBBBCGCDDEEEFCFFDFFAFFZFGGGGHEAFJAAZBBFCZ\""
   ]
  },
  {
   "cell_type": "markdown",
   "metadata": {},
   "source": [
    "A useful unit of analysis for us is going to be a letter or character"
   ]
  },
  {
   "cell_type": "code",
   "execution_count": 2,
   "metadata": {},
   "outputs": [
    {
     "name": "stdout",
     "output_type": "stream",
     "text": [
      "['A', 'A', 'B', 'A', 'A', 'F', 'B', 'B', 'B', 'B', 'C', 'G', 'C', 'D', 'D', 'E', 'E', 'E', 'F', 'C', 'F', 'F', 'D', 'F', 'F', 'A', 'F', 'F', 'Z', 'F', 'G', 'G', 'G', 'G', 'H', 'E', 'A', 'F', 'J', 'A', 'A', 'Z', 'B', 'B', 'F', 'C', 'Z']\n"
     ]
    }
   ],
   "source": [
    "tokens = list(random_seq)\n",
    "print(tokens)"
   ]
  },
  {
   "cell_type": "markdown",
   "metadata": {},
   "source": [
    "Our tokens are already \"good\": in an iterable datastructure, all the same case, and free of noise characters (punctuation, whitespace), so we can jump straight into analysis."
   ]
  },
  {
   "cell_type": "code",
   "execution_count": 3,
   "metadata": {},
   "outputs": [
    {
     "data": {
      "image/png": "[encoded data removed]",
      "text/plain": [
       "<Figure size 432x288 with 1 Axes>"
      ]
     },
     "metadata": {
      "needs_background": "light"
     },
     "output_type": "display_data"
    }
   ],
   "source": [
    "import seaborn as sns\n",
    "\n",
    "sns.countplot(tokens);"
   ]
  },
  {
   "cell_type": "markdown",
   "metadata": {},
   "source": [
    "The most common character in our sequence is  \"F\". We can't just glance at the the sequence to know which character is the most common. We (humans) struggle to subitize complex data (like random text sequences).\n",
    "\n",
    "> __Subitize__ is the ability to tell the number of objects in a set, quickly, without counting.  \n",
    "\n",
    "We need to chunk the data into countable pieces \"tokens\" for us to analyze them. This inability subitize text data is the motivation for our discussion today."
   ]
  },
  {
   "cell_type": "markdown",
   "metadata": {
    "toc-hr-collapsed": true
   },
   "source": [
    "### Tokenizing with Pure Python"
   ]
  },
  {
   "cell_type": "code",
   "execution_count": 4,
   "metadata": {},
   "outputs": [],
   "source": [
    "sample = \"Friends, Romans, countrymen, lend me your ears;\""
   ]
  },
  {
   "cell_type": "markdown",
   "metadata": {},
   "source": [
    "##### Iterable Tokens\n",
    "\n",
    "A string object in Python is already iterable. However, the item you iterate over is a character not a token:\n",
    "\n",
    "```\n",
    "from time import sleep\n",
    "for num, character in enumerate(sample):\n",
    "    sleep(.5)\n",
    "    print(f\"Char {num} - {character}\", end=\"\\r\")\n",
    "```\n",
    "\n",
    "If we instead care about the words in our sample (our semantic unit), we can use the string method `.split()` to separate the whitespace and create iterable units. :)"
   ]
  },
  {
   "cell_type": "code",
   "execution_count": 5,
   "metadata": {},
   "outputs": [
    {
     "data": {
      "text/plain": [
       "['Friends,', 'Romans,', 'countrymen,', 'lend', 'me', 'your', 'ears;']"
      ]
     },
     "execution_count": 5,
     "metadata": {},
     "output_type": "execute_result"
    }
   ],
   "source": [
    "sample.split(\" \")"
   ]
  },
  {
   "cell_type": "markdown",
   "metadata": {},
   "source": [
    "##### Case Normalization\n",
    "A common data cleaning data cleaning task with token is to standardize or normalize the case. Normalizing case reduces the chance that you have duplicate records for things which have practically the same semantic meaning. You can use either the `.lower()` or `.upper()` string methods to normalize case.\n",
    "\n",
    "Consider the following example: "
   ]
  },
  {
   "cell_type": "code",
   "execution_count": 11,
   "metadata": {},
   "outputs": [],
   "source": [
    "import pandas as pd\n",
    "df = pd.read_csv('./data/Datafiniti_Amazon_Consumer_Reviews_of_Amazon_Products_May19.csv')"
   ]
  },
  {
   "cell_type": "code",
   "execution_count": 12,
   "metadata": {},
   "outputs": [
    {
     "data": {
      "text/plain": [
       "Amazon          16153\n",
       "Amazonbasics    12169\n",
       "AmazonBasics       10\n",
       "Name: brand, dtype: int64"
      ]
     },
     "execution_count": 12,
     "metadata": {},
     "output_type": "execute_result"
    }
   ],
   "source": [
    "# Notice anything odd here? \n",
    "df['brand'].value_counts()"
   ]
  },
  {
   "cell_type": "code",
   "execution_count": 13,
   "metadata": {},
   "outputs": [
    {
     "data": {
      "text/plain": [
       "amazon          16153\n",
       "amazonbasics    12179\n",
       "Name: brand, dtype: int64"
      ]
     },
     "execution_count": 13,
     "metadata": {},
     "output_type": "execute_result"
    }
   ],
   "source": [
    "# Much cleaner\n",
    "df['brand'] = df['brand'].apply(lambda x: x.lower())\n",
    "df['brand'].value_counts()"
   ]
  },
  {
   "cell_type": "markdown",
   "metadata": {},
   "source": [
    "##### Keep Only Alphanumeric Characters (ONLY SOMETIMES) \n",
    "Yes, we only want letters and numbers. Everything else is probably noise: punctuation, whitespace, and other notation. This one is little bit more complicated than our previous example. Here we will have to import the base package `re` (regular expressions). \n",
    "\n",
    "The only regex expression pattern you need for this is `'[^a-zA-Z ^0-9]'` which keeps lower case letters, upper case letters, spaces, and numbers."
   ]
  },
  {
   "cell_type": "code",
   "execution_count": 14,
   "metadata": {},
   "outputs": [
    {
     "name": "stdout",
     "output_type": "stream",
     "text": [
      "Friends, Romans, countrymen, lend me your ears; 911\n"
     ]
    }
   ],
   "source": [
    "sample = sample+\" 911\"\n",
    "print(sample)"
   ]
  },
  {
   "cell_type": "code",
   "execution_count": 15,
   "metadata": {},
   "outputs": [
    {
     "data": {
      "text/plain": [
       "'Friends Romans countrymen lend me your ears 911'"
      ]
     },
     "execution_count": 15,
     "metadata": {},
     "output_type": "execute_result"
    }
   ],
   "source": [
    "import re\n",
    "\n",
    "re.sub(r'[^a-zA-Z ^0-9]', '', sample)"
   ]
  },
  {
   "cell_type": "markdown",
   "metadata": {},
   "source": [
    "#### Two Minute Challenge \n",
    "- Complete the function `tokenize` below\n",
    "- Combine the methods which we discussed above to clean text before we analyze it\n",
    "- You can put the methods in any order you want"
   ]
  },
  {
   "cell_type": "code",
   "execution_count": 16,
   "metadata": {},
   "outputs": [],
   "source": [
    "def tokenize(text):\n",
    "    \"\"\"Parses a string into a list of semantic units (words)\n",
    "\n",
    "    Args:\n",
    "        text (str): The string that the function will tokenize.\n",
    "\n",
    "    Returns:\n",
    "        list: tokens parsed out by the mechanics of your choice\n",
    "    \"\"\"\n",
    "    \n",
    "    tokens = re.sub(r'[^a-zA-Z ^0-9]', '', text)\n",
    "    tokens = tokens.lower().split()\n",
    "    \n",
    "    return tokens"
   ]
  },
  {
   "cell_type": "code",
   "execution_count": 17,
   "metadata": {},
   "outputs": [
    {
     "data": {
      "text/plain": [
       "['friends', 'romans', 'countrymen', 'lend', 'me', 'your', 'ears', '911']"
      ]
     },
     "execution_count": 17,
     "metadata": {},
     "output_type": "execute_result"
    }
   ],
   "source": [
    "tokenize(sample)"
   ]
  },
  {
   "cell_type": "markdown",
   "metadata": {
    "toc-hr-collapsed": true
   },
   "source": [
    "## Follow Along\n",
    "\n",
    "Our inability to analyze text data becomes quickly amplified in a business context. Consider the following: \n",
    "\n",
    "A business which sells widgets also collects customer reviews of those widgets. When the business first started out, they had a human read the reviews to look for patterns. Now, the business sells thousands of widgets a month. The human readers can't keep up with the pace of reviews to synthesize an accurate analysis. They need some science to help them analyze their data.\n",
    "\n",
    "Now, let's pretend that business is Amazon, and the widgets are Amazon products such as the Alexa, Echo, or other AmazonBasics products. Let's analyze their reviews with some counts. This dataset is available on [Kaggle](https://www.kaggle.com/datafiniti/consumer-reviews-of-amazon-products/)."
   ]
  },
  {
   "cell_type": "code",
   "execution_count": 82,
   "metadata": {},
   "outputs": [],
   "source": [
    "\"\"\"\n",
    "Import Statements\n",
    "\"\"\"\n",
    "\n",
    "# Base\n",
    "from collections import Counter\n",
    "import re\n",
    " \n",
    "import pandas as pd\n",
    "\n",
    "# Plotting\n",
    "import squarify\n",
    "import matplotlib.pyplot as plt\n",
    "import seaborn as sns\n",
    "\n",
    "# NLP Libraries\n",
    "import spacy\n",
    "from spacy.tokenizer import Tokenizer\n",
    "from nltk.stem import PorterStemmer\n",
    "\n",
    "nlp = spacy.load(\"en_core_web_lg\")"
   ]
  },
  {
   "cell_type": "code",
   "execution_count": 83,
   "metadata": {},
   "outputs": [
    {
     "data": {
      "text/html": [
       "<div>\n",
       "<style scoped>\n",
       "    .dataframe tbody tr th:only-of-type {\n",
       "        vertical-align: middle;\n",
       "    }\n",
       "\n",
       "    .dataframe tbody tr th {\n",
       "        vertical-align: top;\n",
       "    }\n",
       "\n",
       "    .dataframe thead th {\n",
       "        text-align: right;\n",
       "    }\n",
       "</style>\n",
       "<table border=\"1\" class=\"dataframe\">\n",
       "  <thead>\n",
       "    <tr style=\"text-align: right;\">\n",
       "      <th></th>\n",
       "      <th>id</th>\n",
       "      <th>dateAdded</th>\n",
       "      <th>dateUpdated</th>\n",
       "      <th>name</th>\n",
       "      <th>asins</th>\n",
       "      <th>brand</th>\n",
       "      <th>categories</th>\n",
       "      <th>primaryCategories</th>\n",
       "      <th>imageURLs</th>\n",
       "      <th>keys</th>\n",
       "      <th>...</th>\n",
       "      <th>reviews.sourceURLs</th>\n",
       "      <th>reviews.text</th>\n",
       "      <th>reviews.title</th>\n",
       "      <th>reviews.username</th>\n",
       "      <th>sourceURLs</th>\n",
       "      <th>tokens</th>\n",
       "      <th>FireHD_8</th>\n",
       "      <th>Kindle</th>\n",
       "      <th>stems</th>\n",
       "      <th>lemmas</th>\n",
       "    </tr>\n",
       "  </thead>\n",
       "  <tbody>\n",
       "    <tr>\n",
       "      <th>8343</th>\n",
       "      <td>AVpe7nGV1cnluZ0-aG2o</td>\n",
       "      <td>2014-10-28T11:14:38Z</td>\n",
       "      <td>2019-04-25T09:05:28Z</td>\n",
       "      <td>AmazonBasics Nylon CD/DVD Binder (400 Capacity)</td>\n",
       "      <td>B00DIHVMEA,B00EZ1ZTV0</td>\n",
       "      <td>amazonbasics</td>\n",
       "      <td>Audio &amp; Video Accessories,TV, Video &amp; Home Audio,Home Audio &amp; Video Accessories,DVD Cases,Electronics,Media Cases &amp; Storage,TV, Video &amp; Audio Accessories,Media Storage &amp; Organization,Disc Storage Wallets,Consumer Electronics,CD, DVD &amp; Blu-ray Discs,Blank Audio/Video Media,Accessories &amp; Supplies,all electronics</td>\n",
       "      <td>Electronics</td>\n",
       "      <td>http://ecx.images-amazon.com/images/I/41jQha7Z7VL._SS40_.jpg,https://i.ebayimg.com/images/g/fzIAAOSwyHJcfeFd/s-l64.jpg,http://ecx.images-amazon.com/images/I/41wHqrf0wpL._SS40_.jpg,https://images-na.ssl-images-amazon.com/images/I/A10hSrURNlL._SL1500_.jpg,https://images-na.ssl-images-amazon.com/images/I/41rePmoxK0L._SS40_.jpg,https://images-na.ssl-images-amazon.com/images/I/41rePmoxK0L._SY300_QL70_.jpg,http://ecx.images-amazon.com/images/I/01G2aSYe7yS._SS40_PKmb-play-button-overlay-thumb_.png,https://i.ebayimg.com/thumbs/images/g/UsYAAOSwF31b4vv0/s-l96.jpg,https://images-na.ssl-images-amazon.com/images/I/81MKtWTvVfL._SL1500_.jpg,https://i.ebayimg.com/thumbs/images/g/hW4AAOSwn-lZcBGA/s-l200.jpg,https://i.ebayimg.com/images/g/VTYAAOSwKLxbX3mg/s-l64.jpg,https://i.ebayimg.com/images/g/~DQAAOSwwcFcfeFa/s-l300.jpg,https://images-na.ssl-images-amazon.com/images/I/91Qkogm3eRL._SL1500_.jpg,http://ecx.images-amazon.com/images/I/411OrNMIkpL._SS40_.jpg,https://images-na.ssl-images-amazon.com/images/I/81veZwqxAwL._SL1500_.jpg,https://i.ebayimg.com/images/g/hrUAAOSwoXZcfeFm/s-l64.jpg</td>\n",
       "      <td>amazonbasicsnyloncddvdbinder400capacity/b00ez1ztv0,amazonbasicsnyloncddvdbinder400capacity/113673983053,amazonbasicsnyloncddvdbinder400capacity/b00dihvmea,amazonbasics/ybb12400r2</td>\n",
       "      <td>...</td>\n",
       "      <td>https://www.ebay.com/itm/Amazonbasics-Nylon-Cd-Dvd-Binder-400-Capacity/113673983053</td>\n",
       "      <td>Great case to keep everything in its place! My husband love it!!!! Holds a lot of cds!</td>\n",
       "      <td>Excellent product</td>\n",
       "      <td>qs341_5</td>\n",
       "      <td>https://www.ebay.com/itm/AmazonBasics-Nylon-CD-DVD-Binder-400-Capacity/142888810490,https://www.amazon.com/AmazonBasics-Nylon-DVD-Binder-Capacity/dp/B00DIHVMEA,http://www.amazon.com/AmazonBasics-Nylon-DVD-Wallet-Capacity/dp/B00DIHVM36,https://www.amazon.com/AmazonBasics-Nylon-DVD-Binder-Capacity/dp/B00DIHVMEA/,https://www.ebay.com/itm/Amazonbasics-Nylon-Cd-Dvd-Binder-400-Capacity/113673983053</td>\n",
       "      <td>[great, case, place!, husband, love, it!!!!, holds, lot, cds!]</td>\n",
       "      <td>False</td>\n",
       "      <td>False</td>\n",
       "      <td>[great, case, place!, husband, love, it!!!!, hold, lot, cds!]</td>\n",
       "      <td>[great, case, place, husband, love, hold, lot, cd]</td>\n",
       "    </tr>\n",
       "    <tr>\n",
       "      <th>8344</th>\n",
       "      <td>AVpe7nGV1cnluZ0-aG2o</td>\n",
       "      <td>2014-10-28T11:14:38Z</td>\n",
       "      <td>2019-04-25T09:05:28Z</td>\n",
       "      <td>AmazonBasics Nylon CD/DVD Binder (400 Capacity)</td>\n",
       "      <td>B00DIHVMEA,B00EZ1ZTV0</td>\n",
       "      <td>amazonbasics</td>\n",
       "      <td>Audio &amp; Video Accessories,TV, Video &amp; Home Audio,Home Audio &amp; Video Accessories,DVD Cases,Electronics,Media Cases &amp; Storage,TV, Video &amp; Audio Accessories,Media Storage &amp; Organization,Disc Storage Wallets,Consumer Electronics,CD, DVD &amp; Blu-ray Discs,Blank Audio/Video Media,Accessories &amp; Supplies,all electronics</td>\n",
       "      <td>Electronics</td>\n",
       "      <td>http://ecx.images-amazon.com/images/I/41jQha7Z7VL._SS40_.jpg,https://i.ebayimg.com/images/g/fzIAAOSwyHJcfeFd/s-l64.jpg,http://ecx.images-amazon.com/images/I/41wHqrf0wpL._SS40_.jpg,https://images-na.ssl-images-amazon.com/images/I/A10hSrURNlL._SL1500_.jpg,https://images-na.ssl-images-amazon.com/images/I/41rePmoxK0L._SS40_.jpg,https://images-na.ssl-images-amazon.com/images/I/41rePmoxK0L._SY300_QL70_.jpg,http://ecx.images-amazon.com/images/I/01G2aSYe7yS._SS40_PKmb-play-button-overlay-thumb_.png,https://i.ebayimg.com/thumbs/images/g/UsYAAOSwF31b4vv0/s-l96.jpg,https://images-na.ssl-images-amazon.com/images/I/81MKtWTvVfL._SL1500_.jpg,https://i.ebayimg.com/thumbs/images/g/hW4AAOSwn-lZcBGA/s-l200.jpg,https://i.ebayimg.com/images/g/VTYAAOSwKLxbX3mg/s-l64.jpg,https://i.ebayimg.com/images/g/~DQAAOSwwcFcfeFa/s-l300.jpg,https://images-na.ssl-images-amazon.com/images/I/91Qkogm3eRL._SL1500_.jpg,http://ecx.images-amazon.com/images/I/411OrNMIkpL._SS40_.jpg,https://images-na.ssl-images-amazon.com/images/I/81veZwqxAwL._SL1500_.jpg,https://i.ebayimg.com/images/g/hrUAAOSwoXZcfeFm/s-l64.jpg</td>\n",
       "      <td>amazonbasicsnyloncddvdbinder400capacity/b00ez1ztv0,amazonbasicsnyloncddvdbinder400capacity/113673983053,amazonbasicsnyloncddvdbinder400capacity/b00dihvmea,amazonbasics/ybb12400r2</td>\n",
       "      <td>...</td>\n",
       "      <td>http://www.amazon.co.uk/gp/product-reviews/B00DIHVMEA%253Fie%253DUTF8%2526showViewpoints%253D1</td>\n",
       "      <td>After discarding and getting rid of broken cd cases, broken cds, and selecting those ones we really like, this binder turned up to be an excellent option to store our favourite cds and dvds and keep them in a small space at our living room, giving us the choice to donate or get rid of those cds towers that took a lot of room, despite looking nice. And because you can turn the pages, you can spot the cd you want to play without the hassle of taking it from a case that is falling apart. After storing them cds, all the cases and printed covers went straight to the recycling centre. We have a small version to put those cds my husband would like to listen to whenever he must drive away for work.</td>\n",
       "      <td>It was a much needed storage</td>\n",
       "      <td>Diablita</td>\n",
       "      <td>https://www.ebay.com/itm/AmazonBasics-Nylon-CD-DVD-Binder-400-Capacity/142888810490,https://www.amazon.com/AmazonBasics-Nylon-DVD-Binder-Capacity/dp/B00DIHVMEA,http://www.amazon.com/AmazonBasics-Nylon-DVD-Wallet-Capacity/dp/B00DIHVM36,https://www.amazon.com/AmazonBasics-Nylon-DVD-Binder-Capacity/dp/B00DIHVMEA/,https://www.ebay.com/itm/Amazonbasics-Nylon-Cd-Dvd-Binder-400-Capacity/113673983053</td>\n",
       "      <td>[discarding, getting, rid, broken, cd, cases,, broken, cds,, selecting, ones, like,, binder, turned, excellent, option, store, favourite, cds, dvds, small, space, living, room,, giving, choice, donate, rid, cds, towers, took, lot, room,, despite, looking, nice., turn, pages,, spot, cd, want, play, hassle, taking, case, falling, apart., storing, cds,, cases, printed, covers, went, straight, recycling, centre., small, version, cds, husband, like, listen, drive, away, work.]</td>\n",
       "      <td>False</td>\n",
       "      <td>False</td>\n",
       "      <td>[discard, get, rid, broken, cd, cases,, broken, cds,, select, one, like,, binder, turn, excel, option, store, favourit, cd, dvd, small, space, live, room,, give, choic, donat, rid, cd, tower, took, lot, room,, despit, look, nice., turn, pages,, spot, cd, want, play, hassl, take, case, fall, apart., store, cds,, case, print, cover, went, straight, recycl, centre., small, version, cd, husband, like, listen, drive, away, work.]</td>\n",
       "      <td>[discard, get, rid, broken, cd, case, broken, cd, select, one, like, binder, turn, excellent, option, store, favourite, cd, dvd, small, space, living, room, give, choice, donate, rid, cd, tower, take, lot, room, despite, look, nice, turn, page, spot, cd, want, play, hassle, take, case, fall, apart, store, cd, case, print, cover, go, straight, recycling, centre, small, version, cd, husband, like, listen, drive, away, work]</td>\n",
       "    </tr>\n",
       "  </tbody>\n",
       "</table>\n",
       "<p>2 rows × 29 columns</p>\n",
       "</div>"
      ],
      "text/plain": [
       "                        id             dateAdded           dateUpdated  \\\n",
       "8343  AVpe7nGV1cnluZ0-aG2o  2014-10-28T11:14:38Z  2019-04-25T09:05:28Z   \n",
       "8344  AVpe7nGV1cnluZ0-aG2o  2014-10-28T11:14:38Z  2019-04-25T09:05:28Z   \n",
       "\n",
       "                                                 name                  asins  \\\n",
       "8343  AmazonBasics Nylon CD/DVD Binder (400 Capacity)  B00DIHVMEA,B00EZ1ZTV0   \n",
       "8344  AmazonBasics Nylon CD/DVD Binder (400 Capacity)  B00DIHVMEA,B00EZ1ZTV0   \n",
       "\n",
       "             brand  \\\n",
       "8343  amazonbasics   \n",
       "8344  amazonbasics   \n",
       "\n",
       "                                                                                                                                                                                                                                                                                                                   categories  \\\n",
       "8343  Audio & Video Accessories,TV, Video & Home Audio,Home Audio & Video Accessories,DVD Cases,Electronics,Media Cases & Storage,TV, Video & Audio Accessories,Media Storage & Organization,Disc Storage Wallets,Consumer Electronics,CD, DVD & Blu-ray Discs,Blank Audio/Video Media,Accessories & Supplies,all electronics   \n",
       "8344  Audio & Video Accessories,TV, Video & Home Audio,Home Audio & Video Accessories,DVD Cases,Electronics,Media Cases & Storage,TV, Video & Audio Accessories,Media Storage & Organization,Disc Storage Wallets,Consumer Electronics,CD, DVD & Blu-ray Discs,Blank Audio/Video Media,Accessories & Supplies,all electronics   \n",
       "\n",
       "     primaryCategories  \\\n",
       "8343  Electronics        \n",
       "8344  Electronics        \n",
       "\n",
       "                                                                                                                                                                                                                                                                                                                                                                                                                                                                                                                                                                                                                                                                                                                                                                                                                                                                                                                                                                                                                                                                                                                         imageURLs  \\\n",
       "8343  http://ecx.images-amazon.com/images/I/41jQha7Z7VL._SS40_.jpg,https://i.ebayimg.com/images/g/fzIAAOSwyHJcfeFd/s-l64.jpg,http://ecx.images-amazon.com/images/I/41wHqrf0wpL._SS40_.jpg,https://images-na.ssl-images-amazon.com/images/I/A10hSrURNlL._SL1500_.jpg,https://images-na.ssl-images-amazon.com/images/I/41rePmoxK0L._SS40_.jpg,https://images-na.ssl-images-amazon.com/images/I/41rePmoxK0L._SY300_QL70_.jpg,http://ecx.images-amazon.com/images/I/01G2aSYe7yS._SS40_PKmb-play-button-overlay-thumb_.png,https://i.ebayimg.com/thumbs/images/g/UsYAAOSwF31b4vv0/s-l96.jpg,https://images-na.ssl-images-amazon.com/images/I/81MKtWTvVfL._SL1500_.jpg,https://i.ebayimg.com/thumbs/images/g/hW4AAOSwn-lZcBGA/s-l200.jpg,https://i.ebayimg.com/images/g/VTYAAOSwKLxbX3mg/s-l64.jpg,https://i.ebayimg.com/images/g/~DQAAOSwwcFcfeFa/s-l300.jpg,https://images-na.ssl-images-amazon.com/images/I/91Qkogm3eRL._SL1500_.jpg,http://ecx.images-amazon.com/images/I/411OrNMIkpL._SS40_.jpg,https://images-na.ssl-images-amazon.com/images/I/81veZwqxAwL._SL1500_.jpg,https://i.ebayimg.com/images/g/hrUAAOSwoXZcfeFm/s-l64.jpg   \n",
       "8344  http://ecx.images-amazon.com/images/I/41jQha7Z7VL._SS40_.jpg,https://i.ebayimg.com/images/g/fzIAAOSwyHJcfeFd/s-l64.jpg,http://ecx.images-amazon.com/images/I/41wHqrf0wpL._SS40_.jpg,https://images-na.ssl-images-amazon.com/images/I/A10hSrURNlL._SL1500_.jpg,https://images-na.ssl-images-amazon.com/images/I/41rePmoxK0L._SS40_.jpg,https://images-na.ssl-images-amazon.com/images/I/41rePmoxK0L._SY300_QL70_.jpg,http://ecx.images-amazon.com/images/I/01G2aSYe7yS._SS40_PKmb-play-button-overlay-thumb_.png,https://i.ebayimg.com/thumbs/images/g/UsYAAOSwF31b4vv0/s-l96.jpg,https://images-na.ssl-images-amazon.com/images/I/81MKtWTvVfL._SL1500_.jpg,https://i.ebayimg.com/thumbs/images/g/hW4AAOSwn-lZcBGA/s-l200.jpg,https://i.ebayimg.com/images/g/VTYAAOSwKLxbX3mg/s-l64.jpg,https://i.ebayimg.com/images/g/~DQAAOSwwcFcfeFa/s-l300.jpg,https://images-na.ssl-images-amazon.com/images/I/91Qkogm3eRL._SL1500_.jpg,http://ecx.images-amazon.com/images/I/411OrNMIkpL._SS40_.jpg,https://images-na.ssl-images-amazon.com/images/I/81veZwqxAwL._SL1500_.jpg,https://i.ebayimg.com/images/g/hrUAAOSwoXZcfeFm/s-l64.jpg   \n",
       "\n",
       "                                                                                                                                                                                    keys  \\\n",
       "8343  amazonbasicsnyloncddvdbinder400capacity/b00ez1ztv0,amazonbasicsnyloncddvdbinder400capacity/113673983053,amazonbasicsnyloncddvdbinder400capacity/b00dihvmea,amazonbasics/ybb12400r2   \n",
       "8344  amazonbasicsnyloncddvdbinder400capacity/b00ez1ztv0,amazonbasicsnyloncddvdbinder400capacity/113673983053,amazonbasicsnyloncddvdbinder400capacity/b00dihvmea,amazonbasics/ybb12400r2   \n",
       "\n",
       "      ...  \\\n",
       "8343  ...   \n",
       "8344  ...   \n",
       "\n",
       "                                                                                  reviews.sourceURLs  \\\n",
       "8343  https://www.ebay.com/itm/Amazonbasics-Nylon-Cd-Dvd-Binder-400-Capacity/113673983053              \n",
       "8344  http://www.amazon.co.uk/gp/product-reviews/B00DIHVMEA%253Fie%253DUTF8%2526showViewpoints%253D1   \n",
       "\n",
       "                                                                                                                                                                                                                                                                                                                                                                                                                                                                                                                                                                                                                                                                                                                     reviews.text  \\\n",
       "8343  Great case to keep everything in its place! My husband love it!!!! Holds a lot of cds!                                                                                                                                                                                                                                                                                                                                                                                                                                                                                                                                                                                                                                        \n",
       "8344  After discarding and getting rid of broken cd cases, broken cds, and selecting those ones we really like, this binder turned up to be an excellent option to store our favourite cds and dvds and keep them in a small space at our living room, giving us the choice to donate or get rid of those cds towers that took a lot of room, despite looking nice. And because you can turn the pages, you can spot the cd you want to play without the hassle of taking it from a case that is falling apart. After storing them cds, all the cases and printed covers went straight to the recycling centre. We have a small version to put those cds my husband would like to listen to whenever he must drive away for work.   \n",
       "\n",
       "                     reviews.title reviews.username  \\\n",
       "8343  Excellent product             qs341_5           \n",
       "8344  It was a much needed storage  Diablita          \n",
       "\n",
       "                                                                                                                                                                                                                                                                                                                                                                                                       sourceURLs  \\\n",
       "8343  https://www.ebay.com/itm/AmazonBasics-Nylon-CD-DVD-Binder-400-Capacity/142888810490,https://www.amazon.com/AmazonBasics-Nylon-DVD-Binder-Capacity/dp/B00DIHVMEA,http://www.amazon.com/AmazonBasics-Nylon-DVD-Wallet-Capacity/dp/B00DIHVM36,https://www.amazon.com/AmazonBasics-Nylon-DVD-Binder-Capacity/dp/B00DIHVMEA/,https://www.ebay.com/itm/Amazonbasics-Nylon-Cd-Dvd-Binder-400-Capacity/113673983053   \n",
       "8344  https://www.ebay.com/itm/AmazonBasics-Nylon-CD-DVD-Binder-400-Capacity/142888810490,https://www.amazon.com/AmazonBasics-Nylon-DVD-Binder-Capacity/dp/B00DIHVMEA,http://www.amazon.com/AmazonBasics-Nylon-DVD-Wallet-Capacity/dp/B00DIHVM36,https://www.amazon.com/AmazonBasics-Nylon-DVD-Binder-Capacity/dp/B00DIHVMEA/,https://www.ebay.com/itm/Amazonbasics-Nylon-Cd-Dvd-Binder-400-Capacity/113673983053   \n",
       "\n",
       "                                                                                                                                                                                                                                                                                                                                                                                                                                                                                            tokens  \\\n",
       "8343  [great, case, place!, husband, love, it!!!!, holds, lot, cds!]                                                                                                                                                                                                                                                                                                                                                                                                                                 \n",
       "8344  [discarding, getting, rid, broken, cd, cases,, broken, cds,, selecting, ones, like,, binder, turned, excellent, option, store, favourite, cds, dvds, small, space, living, room,, giving, choice, donate, rid, cds, towers, took, lot, room,, despite, looking, nice., turn, pages,, spot, cd, want, play, hassle, taking, case, falling, apart., storing, cds,, cases, printed, covers, went, straight, recycling, centre., small, version, cds, husband, like, listen, drive, away, work.]   \n",
       "\n",
       "      FireHD_8  Kindle  \\\n",
       "8343  False     False    \n",
       "8344  False     False    \n",
       "\n",
       "                                                                                                                                                                                                                                                                                                                                                                                                                                             stems  \\\n",
       "8343  [great, case, place!, husband, love, it!!!!, hold, lot, cds!]                                                                                                                                                                                                                                                                                                                                                                                  \n",
       "8344  [discard, get, rid, broken, cd, cases,, broken, cds,, select, one, like,, binder, turn, excel, option, store, favourit, cd, dvd, small, space, live, room,, give, choic, donat, rid, cd, tower, took, lot, room,, despit, look, nice., turn, pages,, spot, cd, want, play, hassl, take, case, fall, apart., store, cds,, case, print, cover, went, straight, recycl, centre., small, version, cd, husband, like, listen, drive, away, work.]   \n",
       "\n",
       "                                                                                                                                                                                                                                                                                                                                                                                                                                         lemmas  \n",
       "8343  [great, case, place, husband, love, hold, lot, cd]                                                                                                                                                                                                                                                                                                                                                                                         \n",
       "8344  [discard, get, rid, broken, cd, case, broken, cd, select, one, like, binder, turn, excellent, option, store, favourite, cd, dvd, small, space, living, room, give, choice, donate, rid, cd, tower, take, lot, room, despite, look, nice, turn, page, spot, cd, want, play, hassle, take, case, fall, apart, store, cd, case, print, cover, go, straight, recycling, centre, small, version, cd, husband, like, listen, drive, away, work]  \n",
       "\n",
       "[2 rows x 29 columns]"
      ]
     },
     "execution_count": 83,
     "metadata": {},
     "output_type": "execute_result"
    }
   ],
   "source": [
    "df.head(2)"
   ]
  },
  {
   "cell_type": "code",
   "execution_count": null,
   "metadata": {},
   "outputs": [],
   "source": [
    "df.shape"
   ]
  },
  {
   "cell_type": "code",
   "execution_count": 21,
   "metadata": {},
   "outputs": [
    {
     "data": {
      "text/html": [
       "<div>\n",
       "<style scoped>\n",
       "    .dataframe tbody tr th:only-of-type {\n",
       "        vertical-align: middle;\n",
       "    }\n",
       "\n",
       "    .dataframe tbody tr th {\n",
       "        vertical-align: top;\n",
       "    }\n",
       "\n",
       "    .dataframe thead th {\n",
       "        text-align: right;\n",
       "    }\n",
       "</style>\n",
       "<table border=\"1\" class=\"dataframe\">\n",
       "  <thead>\n",
       "    <tr style=\"text-align: right;\">\n",
       "      <th></th>\n",
       "      <th>name</th>\n",
       "      <th>reviews.text</th>\n",
       "    </tr>\n",
       "  </thead>\n",
       "  <tbody>\n",
       "    <tr>\n",
       "      <th>22083</th>\n",
       "      <td>Fire Tablet with Alexa, 7 Display, 16 GB, Blue - with Special Offers</td>\n",
       "      <td>I bought this for my niece and she loves it. Works great.</td>\n",
       "    </tr>\n",
       "    <tr>\n",
       "      <th>22636</th>\n",
       "      <td>Fire Tablet with Alexa, 7 Display, 16 GB, Blue - with Special Offers</td>\n",
       "      <td>Got it for the kids and they love it. I am also a prime member as well there are so many great things for members, movies, apps, games and shows that are free. If you are looking for a simple tablet to help occupy some free time look into one.</td>\n",
       "    </tr>\n",
       "    <tr>\n",
       "      <th>25109</th>\n",
       "      <td>Kindle E-reader - White, 6 Glare-Free Touchscreen Display, Wi-Fi - Includes Special Offers</td>\n",
       "      <td>Easy to navigate. Daughter loves it. It's lightweigh and its just what she needed for this avid reader.</td>\n",
       "    </tr>\n",
       "    <tr>\n",
       "      <th>22513</th>\n",
       "      <td>Fire Tablet with Alexa, 7 Display, 16 GB, Blue - with Special Offers</td>\n",
       "      <td>Purchased for my 9 yr old nephew. Such a great price, he only wants to play games on it. His brother broke his original tablet, so this repaved it. He's happy! I also bought me one!</td>\n",
       "    </tr>\n",
       "    <tr>\n",
       "      <th>25621</th>\n",
       "      <td>Fire Kids Edition Tablet, 7 Display, Wi-Fi, 16 GB, Green Kid-Proof Case</td>\n",
       "      <td>The tablet itself works fine but this is the 2nd one I have gotten with a similar problem. The port seems to come defected. The charger doesn't stay in and it takes a long time to charge. Replaced charger with a brand new one and it still has issues.</td>\n",
       "    </tr>\n",
       "    <tr>\n",
       "      <th>16197</th>\n",
       "      <td>Fire Kids Edition Tablet, 7 Display, Wi-Fi, 16 GB, Pink Kid-Proof Case</td>\n",
       "      <td>reviews were quite on spot with this product,very easy setup and very easy to use</td>\n",
       "    </tr>\n",
       "    <tr>\n",
       "      <th>25152</th>\n",
       "      <td>Fire Kids Edition Tablet, 7 Display, Wi-Fi, 16 GB, Green Kid-Proof Case</td>\n",
       "      <td>Set up for kids right out of the box. Can't beat Amazon's warranty either. Thanks for providing an outstanding product.</td>\n",
       "    </tr>\n",
       "    <tr>\n",
       "      <th>17906</th>\n",
       "      <td>Fire Tablet, 7 Display, Wi-Fi, 16 GB - Includes Special Offers, Black</td>\n",
       "      <td>The Amazon FIre Tablet is awesome. My daughter loves it very much. It is very easy to access and download your apps. The settings functions are very easy to use and program.</td>\n",
       "    </tr>\n",
       "    <tr>\n",
       "      <th>13728</th>\n",
       "      <td>All-New Fire HD 8 Tablet, 8 HD Display, Wi-Fi, 16 GB - Includes Special Offers, Black</td>\n",
       "      <td>I already had the Kindle Fire 7\", and this KF8 not only has a bigger picture screen but is faster.</td>\n",
       "    </tr>\n",
       "    <tr>\n",
       "      <th>14680</th>\n",
       "      <td>All-New Fire HD 8 Tablet, 8 HD Display, Wi-Fi, 16 GB - Includes Special Offers, Black</td>\n",
       "      <td>Nice size tablet. Very easy to use. Love it!!!!! Beats my laptop.</td>\n",
       "    </tr>\n",
       "    <tr>\n",
       "      <th>3390</th>\n",
       "      <td>AmazonBasics AAA Performance Alkaline Batteries (36 Count)</td>\n",
       "      <td>these seem fine only time will tell</td>\n",
       "    </tr>\n",
       "    <tr>\n",
       "      <th>22343</th>\n",
       "      <td>Fire Tablet with Alexa, 7 Display, 16 GB, Blue - with Special Offers</td>\n",
       "      <td>Amazon keeps getting better. Tablet now has option to move icons, set wallpaper and more. With added SD card option, is even better.</td>\n",
       "    </tr>\n",
       "    <tr>\n",
       "      <th>22734</th>\n",
       "      <td>All-New Kindle Oasis E-reader - 7 High-Resolution Display (300 ppi), Waterproof, Built-In Audible, 8 GB, Wi-Fi - Includes Special Offers</td>\n",
       "      <td>This e reader is great because of higher pixel dpi - no blemish to detract from reading. My only grip is it‚Äôs kind of a finger print magnet slash sweaty but it‚Äôs my first e-reader so maybe that‚Äôs to be expected and I don‚Äôt use a case.Try reading in landscape mode it‚Äôs so comfy and feels like less natural reading eye fatigue somehow.</td>\n",
       "    </tr>\n",
       "    <tr>\n",
       "      <th>17849</th>\n",
       "      <td>All-New Fire 7 Tablet with Alexa, 7\" Display, 8 GB - Marine Blue</td>\n",
       "      <td>Had to be a couple of inexpensive tablets for work. It does everything it is supposed to, for a great price.</td>\n",
       "    </tr>\n",
       "    <tr>\n",
       "      <th>15161</th>\n",
       "      <td>Fire Kids Edition Tablet, 7 Display, Wi-Fi, 16 GB, Pink Kid-Proof Case</td>\n",
       "      <td>My daughter loves it keeps the kids occupied. I would recommend to anyone with kids</td>\n",
       "    </tr>\n",
       "    <tr>\n",
       "      <th>27736</th>\n",
       "      <td>Fire HD 8 Tablet with Alexa, 8 HD Display, 16 GB, Tangerine - with Special Offers</td>\n",
       "      <td>Love everything about my Kindle. I'm a long-term Amazon Prime member.</td>\n",
       "    </tr>\n",
       "    <tr>\n",
       "      <th>11822</th>\n",
       "      <td>AmazonBasics AA Performance Alkaline Batteries (48 Count) - Packaging May Vary</td>\n",
       "      <td>Very good so far</td>\n",
       "    </tr>\n",
       "    <tr>\n",
       "      <th>21006</th>\n",
       "      <td>Fire Tablet with Alexa, 7 Display, 16 GB, Magenta - with Special Offers</td>\n",
       "      <td>Bought this to use on my travels. comes in handy surfing the web.</td>\n",
       "    </tr>\n",
       "    <tr>\n",
       "      <th>25480</th>\n",
       "      <td>Fire Kids Edition Tablet, 7 Display, Wi-Fi, 16 GB, Green Kid-Proof Case</td>\n",
       "      <td>it was great for reading but the lag time for loading videos was a little bit longer than an iPad</td>\n",
       "    </tr>\n",
       "    <tr>\n",
       "      <th>7947</th>\n",
       "      <td>AmazonBasics AAA Performance Alkaline Batteries (36 Count)</td>\n",
       "      <td>Horrible. Amazon batteries are the WORST!! I have a battery operated little decorative light string. 2 Duracell batteries will light those things for weeks. 2 amazon batteries last about (and I'm not kidding) maybe 4 hours. Complete waist of money. Dollar store batteries are better. Do NOT purchase these</td>\n",
       "    </tr>\n",
       "  </tbody>\n",
       "</table>\n",
       "</div>"
      ],
      "text/plain": [
       "                                                                                                                                           name  \\\n",
       "22083  Fire Tablet with Alexa, 7 Display, 16 GB, Blue - with Special Offers                                                                       \n",
       "22636  Fire Tablet with Alexa, 7 Display, 16 GB, Blue - with Special Offers                                                                       \n",
       "25109  Kindle E-reader - White, 6 Glare-Free Touchscreen Display, Wi-Fi - Includes Special Offers                                                 \n",
       "22513  Fire Tablet with Alexa, 7 Display, 16 GB, Blue - with Special Offers                                                                       \n",
       "25621  Fire Kids Edition Tablet, 7 Display, Wi-Fi, 16 GB, Green Kid-Proof Case                                                                    \n",
       "16197  Fire Kids Edition Tablet, 7 Display, Wi-Fi, 16 GB, Pink Kid-Proof Case                                                                     \n",
       "25152  Fire Kids Edition Tablet, 7 Display, Wi-Fi, 16 GB, Green Kid-Proof Case                                                                    \n",
       "17906  Fire Tablet, 7 Display, Wi-Fi, 16 GB - Includes Special Offers, Black                                                                      \n",
       "13728  All-New Fire HD 8 Tablet, 8 HD Display, Wi-Fi, 16 GB - Includes Special Offers, Black                                                      \n",
       "14680  All-New Fire HD 8 Tablet, 8 HD Display, Wi-Fi, 16 GB - Includes Special Offers, Black                                                      \n",
       "3390   AmazonBasics AAA Performance Alkaline Batteries (36 Count)                                                                                 \n",
       "22343  Fire Tablet with Alexa, 7 Display, 16 GB, Blue - with Special Offers                                                                       \n",
       "22734  All-New Kindle Oasis E-reader - 7 High-Resolution Display (300 ppi), Waterproof, Built-In Audible, 8 GB, Wi-Fi - Includes Special Offers   \n",
       "17849  All-New Fire 7 Tablet with Alexa, 7\" Display, 8 GB - Marine Blue                                                                           \n",
       "15161  Fire Kids Edition Tablet, 7 Display, Wi-Fi, 16 GB, Pink Kid-Proof Case                                                                     \n",
       "27736  Fire HD 8 Tablet with Alexa, 8 HD Display, 16 GB, Tangerine - with Special Offers                                                          \n",
       "11822  AmazonBasics AA Performance Alkaline Batteries (48 Count) - Packaging May Vary                                                             \n",
       "21006  Fire Tablet with Alexa, 7 Display, 16 GB, Magenta - with Special Offers                                                                    \n",
       "25480  Fire Kids Edition Tablet, 7 Display, Wi-Fi, 16 GB, Green Kid-Proof Case                                                                    \n",
       "7947   AmazonBasics AAA Performance Alkaline Batteries (36 Count)                                                                                 \n",
       "\n",
       "                                                                                                                                                                                                                                                                                                                                                   reviews.text  \n",
       "22083  I bought this for my niece and she loves it. Works great.                                                                                                                                                                                                                                                                                                 \n",
       "22636  Got it for the kids and they love it. I am also a prime member as well there are so many great things for members, movies, apps, games and shows that are free. If you are looking for a simple tablet to help occupy some free time look into one.                                                                                                       \n",
       "25109  Easy to navigate. Daughter loves it. It's lightweigh and its just what she needed for this avid reader.                                                                                                                                                                                                                                                   \n",
       "22513  Purchased for my 9 yr old nephew. Such a great price, he only wants to play games on it. His brother broke his original tablet, so this repaved it. He's happy! I also bought me one!                                                                                                                                                                     \n",
       "25621  The tablet itself works fine but this is the 2nd one I have gotten with a similar problem. The port seems to come defected. The charger doesn't stay in and it takes a long time to charge. Replaced charger with a brand new one and it still has issues.                                                                                                \n",
       "16197  reviews were quite on spot with this product,very easy setup and very easy to use                                                                                                                                                                                                                                                                         \n",
       "25152  Set up for kids right out of the box. Can't beat Amazon's warranty either. Thanks for providing an outstanding product.                                                                                                                                                                                                                                   \n",
       "17906  The Amazon FIre Tablet is awesome. My daughter loves it very much. It is very easy to access and download your apps. The settings functions are very easy to use and program.                                                                                                                                                                             \n",
       "13728  I already had the Kindle Fire 7\", and this KF8 not only has a bigger picture screen but is faster.                                                                                                                                                                                                                                                        \n",
       "14680  Nice size tablet. Very easy to use. Love it!!!!! Beats my laptop.                                                                                                                                                                                                                                                                                         \n",
       "3390   these seem fine only time will tell                                                                                                                                                                                                                                                                                                                       \n",
       "22343  Amazon keeps getting better. Tablet now has option to move icons, set wallpaper and more. With added SD card option, is even better.                                                                                                                                                                                                                      \n",
       "22734  This e reader is great because of higher pixel dpi - no blemish to detract from reading. My only grip is it‚Äôs kind of a finger print magnet slash sweaty but it‚Äôs my first e-reader so maybe that‚Äôs to be expected and I don‚Äôt use a case.Try reading in landscape mode it‚Äôs so comfy and feels like less natural reading eye fatigue somehow.  \n",
       "17849  Had to be a couple of inexpensive tablets for work. It does everything it is supposed to, for a great price.                                                                                                                                                                                                                                              \n",
       "15161  My daughter loves it keeps the kids occupied. I would recommend to anyone with kids                                                                                                                                                                                                                                                                       \n",
       "27736  Love everything about my Kindle. I'm a long-term Amazon Prime member.                                                                                                                                                                                                                                                                                     \n",
       "11822  Very good so far                                                                                                                                                                                                                                                                                                                                          \n",
       "21006  Bought this to use on my travels. comes in handy surfing the web.                                                                                                                                                                                                                                                                                         \n",
       "25480  it was great for reading but the lag time for loading videos was a little bit longer than an iPad                                                                                                                                                                                                                                                         \n",
       "7947   Horrible. Amazon batteries are the WORST!! I have a battery operated little decorative light string. 2 Duracell batteries will light those things for weeks. 2 amazon batteries last about (and I'm not kidding) maybe 4 hours. Complete waist of money. Dollar store batteries are better. Do NOT purchase these                                         "
      ]
     },
     "execution_count": 21,
     "metadata": {},
     "output_type": "execute_result"
    }
   ],
   "source": [
    "pd.set_option('display.max_colwidth',0) #wraps text with 0\n",
    "df[['name', 'reviews.text']].sample(20)"
   ]
  },
  {
   "cell_type": "code",
   "execution_count": 22,
   "metadata": {},
   "outputs": [
    {
     "data": {
      "text/html": [
       "<div>\n",
       "<style scoped>\n",
       "    .dataframe tbody tr th:only-of-type {\n",
       "        vertical-align: middle;\n",
       "    }\n",
       "\n",
       "    .dataframe tbody tr th {\n",
       "        vertical-align: top;\n",
       "    }\n",
       "\n",
       "    .dataframe thead th {\n",
       "        text-align: right;\n",
       "    }\n",
       "</style>\n",
       "<table border=\"1\" class=\"dataframe\">\n",
       "  <thead>\n",
       "    <tr style=\"text-align: right;\">\n",
       "      <th></th>\n",
       "      <th>name</th>\n",
       "    </tr>\n",
       "  </thead>\n",
       "  <tbody>\n",
       "    <tr>\n",
       "      <th>AmazonBasics AAA Performance Alkaline Batteries (36 Count)</th>\n",
       "      <td>8343</td>\n",
       "    </tr>\n",
       "    <tr>\n",
       "      <th>AmazonBasics AA Performance Alkaline Batteries (48 Count) - Packaging May Vary</th>\n",
       "      <td>3728</td>\n",
       "    </tr>\n",
       "    <tr>\n",
       "      <th>Fire HD 8 Tablet with Alexa, 8 HD Display, 16 GB, Tangerine - with Special Offers</th>\n",
       "      <td>2443</td>\n",
       "    </tr>\n",
       "    <tr>\n",
       "      <th>All-New Fire HD 8 Tablet, 8 HD Display, Wi-Fi, 16 GB - Includes Special Offers, Black</th>\n",
       "      <td>2370</td>\n",
       "    </tr>\n",
       "    <tr>\n",
       "      <th>Fire Kids Edition Tablet, 7 Display, Wi-Fi, 16 GB, Pink Kid-Proof Case</th>\n",
       "      <td>1676</td>\n",
       "    </tr>\n",
       "    <tr>\n",
       "      <th>...</th>\n",
       "      <td>...</td>\n",
       "    </tr>\n",
       "    <tr>\n",
       "      <th>Echo Dot (Previous generation)</th>\n",
       "      <td>1</td>\n",
       "    </tr>\n",
       "    <tr>\n",
       "      <th>AmazonBasics Silicone Hot Handle Cover/Holder - Red</th>\n",
       "      <td>1</td>\n",
       "    </tr>\n",
       "    <tr>\n",
       "      <th>Two Door Top Load Pet Kennel Travel Crate Dog Cat Pet Cage Carrier Box Tray 23\"</th>\n",
       "      <td>1</td>\n",
       "    </tr>\n",
       "    <tr>\n",
       "      <th>Amazon Echo Show - Black</th>\n",
       "      <td>1</td>\n",
       "    </tr>\n",
       "    <tr>\n",
       "      <th>AmazonBasics Nespresso Pod Storage Drawer - 50 Capsule Capacity</th>\n",
       "      <td>1</td>\n",
       "    </tr>\n",
       "  </tbody>\n",
       "</table>\n",
       "<p>65 rows × 1 columns</p>\n",
       "</div>"
      ],
      "text/plain": [
       "                                                                                       name\n",
       "AmazonBasics AAA Performance Alkaline Batteries (36 Count)                             8343\n",
       "AmazonBasics AA Performance Alkaline Batteries (48 Count) - Packaging May Vary         3728\n",
       "Fire HD 8 Tablet with Alexa, 8 HD Display, 16 GB, Tangerine - with Special Offers      2443\n",
       "All-New Fire HD 8 Tablet, 8 HD Display, Wi-Fi, 16 GB - Includes Special Offers, Black  2370\n",
       "Fire Kids Edition Tablet, 7 Display, Wi-Fi, 16 GB, Pink Kid-Proof Case                 1676\n",
       "...                                                                                     ...\n",
       "Echo Dot (Previous generation)                                                         1   \n",
       "AmazonBasics Silicone Hot Handle Cover/Holder - Red                                    1   \n",
       "Two Door Top Load Pet Kennel Travel Crate Dog Cat Pet Cage Carrier Box Tray 23\"        1   \n",
       "Amazon Echo Show - Black                                                               1   \n",
       "AmazonBasics Nespresso Pod Storage Drawer - 50 Capsule Capacity                        1   \n",
       "\n",
       "[65 rows x 1 columns]"
      ]
     },
     "execution_count": 22,
     "metadata": {},
     "output_type": "execute_result"
    }
   ],
   "source": [
    "df.name.value_counts().to_frame()"
   ]
  },
  {
   "cell_type": "code",
   "execution_count": 23,
   "metadata": {},
   "outputs": [
    {
     "data": {
      "text/plain": [
       "good                0.002118\n",
       "great               0.001729\n",
       "Good                0.001482\n",
       "Great               0.001341\n",
       "ok                  0.001165\n",
       "Great price         0.001059\n",
       "great price         0.000988\n",
       "Excellent           0.000988\n",
       "Great value         0.000953\n",
       "good price          0.000812\n",
       "great value         0.000777\n",
       "Great price!        0.000635\n",
       "good value          0.000600\n",
       "Great value.        0.000565\n",
       "good deal           0.000565\n",
       "Great deal          0.000529\n",
       "OK                  0.000529\n",
       "Good deal           0.000529\n",
       "Great product       0.000529\n",
       "As expected         0.000529\n",
       "Good value          0.000494\n",
       "Good batteries      0.000494\n",
       "Great batteries.    0.000459\n",
       "Good price          0.000459\n",
       "Great value!        0.000459\n",
       "So far so good      0.000459\n",
       "great deal          0.000459\n",
       "Good buy            0.000424\n",
       "Work great          0.000424\n",
       "Great buy           0.000388\n",
       "good batteries      0.000388\n",
       "As described        0.000388\n",
       "Great price.        0.000388\n",
       "Great deal!         0.000388\n",
       "very good           0.000388\n",
       "Great!              0.000388\n",
       "as expected         0.000388\n",
       "excellent           0.000388\n",
       "Good value.         0.000388\n",
       "Great batteries     0.000388\n",
       "great batteries     0.000353\n",
       "Nice                0.000353\n",
       "Ok                  0.000353\n",
       "Work great.         0.000353\n",
       "good product        0.000353\n",
       "Perfect!            0.000353\n",
       "So far so good.     0.000318\n",
       "Good price.         0.000318\n",
       "love it             0.000318\n",
       "works great         0.000318\n",
       "Name: reviews.text, dtype: float64"
      ]
     },
     "execution_count": 23,
     "metadata": {},
     "output_type": "execute_result"
    }
   ],
   "source": [
    "# How can we count the raw text?\n",
    "df['reviews.text'].value_counts(normalize=True)[:50]"
   ]
  },
  {
   "cell_type": "code",
   "execution_count": 25,
   "metadata": {},
   "outputs": [
    {
     "data": {
      "text/plain": [
       "5    19897\n",
       "4    5648 \n",
       "3    1206 \n",
       "1    965  \n",
       "2    616  \n",
       "Name: reviews.rating, dtype: int64"
      ]
     },
     "execution_count": 25,
     "metadata": {},
     "output_type": "execute_result"
    }
   ],
   "source": [
    "df['reviews.rating'].value_counts()"
   ]
  },
  {
   "cell_type": "code",
   "execution_count": 26,
   "metadata": {},
   "outputs": [],
   "source": [
    "df['tokens'] = df['reviews.text'].apply(tokenize)"
   ]
  },
  {
   "cell_type": "code",
   "execution_count": 27,
   "metadata": {},
   "outputs": [
    {
     "data": {
      "text/plain": [
       "0    [i, order, 3, of, them, and, one, of, the, item, is, bad, quality, is, missing, backup, spring, so, i, have, to, put, a, pcs, of, aluminum, to, make, the, battery, work]\n",
       "1    [bulk, is, always, the, less, expensive, way, to, go, for, products, like, these]                                                                                        \n",
       "2    [well, they, are, not, duracell, but, for, the, price, i, am, happy]                                                                                                     \n",
       "3    [seem, to, work, as, well, as, name, brand, batteries, at, a, much, better, price]                                                                                       \n",
       "4    [these, batteries, are, very, long, lasting, the, price, is, great]                                                                                                      \n",
       "Name: tokens, dtype: object"
      ]
     },
     "execution_count": 27,
     "metadata": {},
     "output_type": "execute_result"
    }
   ],
   "source": [
    "df['tokens'].head()"
   ]
  },
  {
   "cell_type": "code",
   "execution_count": 28,
   "metadata": {},
   "outputs": [
    {
     "data": {
      "text/html": [
       "<div>\n",
       "<style scoped>\n",
       "    .dataframe tbody tr th:only-of-type {\n",
       "        vertical-align: middle;\n",
       "    }\n",
       "\n",
       "    .dataframe tbody tr th {\n",
       "        vertical-align: top;\n",
       "    }\n",
       "\n",
       "    .dataframe thead th {\n",
       "        text-align: right;\n",
       "    }\n",
       "</style>\n",
       "<table border=\"1\" class=\"dataframe\">\n",
       "  <thead>\n",
       "    <tr style=\"text-align: right;\">\n",
       "      <th></th>\n",
       "      <th>reviews.text</th>\n",
       "      <th>tokens</th>\n",
       "    </tr>\n",
       "  </thead>\n",
       "  <tbody>\n",
       "    <tr>\n",
       "      <th>0</th>\n",
       "      <td>I order 3 of them and one of the item is bad quality. Is missing backup spring so I have to put a pcs of aluminum to make the battery work.</td>\n",
       "      <td>[i, order, 3, of, them, and, one, of, the, item, is, bad, quality, is, missing, backup, spring, so, i, have, to, put, a, pcs, of, aluminum, to, make, the, battery, work]</td>\n",
       "    </tr>\n",
       "    <tr>\n",
       "      <th>1</th>\n",
       "      <td>Bulk is always the less expensive way to go for products like these</td>\n",
       "      <td>[bulk, is, always, the, less, expensive, way, to, go, for, products, like, these]</td>\n",
       "    </tr>\n",
       "    <tr>\n",
       "      <th>2</th>\n",
       "      <td>Well they are not Duracell but for the price i am happy.</td>\n",
       "      <td>[well, they, are, not, duracell, but, for, the, price, i, am, happy]</td>\n",
       "    </tr>\n",
       "    <tr>\n",
       "      <th>3</th>\n",
       "      <td>Seem to work as well as name brand batteries at a much better price</td>\n",
       "      <td>[seem, to, work, as, well, as, name, brand, batteries, at, a, much, better, price]</td>\n",
       "    </tr>\n",
       "    <tr>\n",
       "      <th>4</th>\n",
       "      <td>These batteries are very long lasting the price is great.</td>\n",
       "      <td>[these, batteries, are, very, long, lasting, the, price, is, great]</td>\n",
       "    </tr>\n",
       "    <tr>\n",
       "      <th>5</th>\n",
       "      <td>Bought a lot of batteries for Christmas and the AmazonBasics Cell have been good. I haven't noticed a difference between the brand name batteries and the Amazon Basic brand. Just a lot easier to purchase and have arrive at the house and have on hand. Will buy again.</td>\n",
       "      <td>[bought, a, lot, of, batteries, for, christmas, and, the, amazonbasics, cell, have, been, good, i, havent, noticed, a, difference, between, the, brand, name, batteries, and, the, amazon, basic, brand, just, a, lot, easier, to, purchase, and, have, arrive, at, the, house, and, have, on, hand, will, buy, again]</td>\n",
       "    </tr>\n",
       "    <tr>\n",
       "      <th>6</th>\n",
       "      <td>ive not had any problame with these batteries have ordered them in the past been very pleased.</td>\n",
       "      <td>[ive, not, had, any, problame, with, these, batteries, have, ordered, them, in, the, past, been, very, pleased]</td>\n",
       "    </tr>\n",
       "    <tr>\n",
       "      <th>7</th>\n",
       "      <td>Well if you are looking for cheap non-rechargeable batteries that last quite a while then these are perfect. Nothing more to say.</td>\n",
       "      <td>[well, if, you, are, looking, for, cheap, nonrechargeable, batteries, that, last, quite, a, while, then, these, are, perfect, nothing, more, to, say]</td>\n",
       "    </tr>\n",
       "    <tr>\n",
       "      <th>8</th>\n",
       "      <td>These do not hold the amount of high power juice like energizer or duracell, but they are half the price.</td>\n",
       "      <td>[these, do, not, hold, the, amount, of, high, power, juice, like, energizer, or, duracell, but, they, are, half, the, price]</td>\n",
       "    </tr>\n",
       "    <tr>\n",
       "      <th>9</th>\n",
       "      <td>AmazonBasics AA AAA batteries have done well by me appear to have a good shelf life. I'll buy them again.</td>\n",
       "      <td>[amazonbasics, aa, aaa, batteries, have, done, well, by, me, appear, to, have, a, good, shelf, life, ill, buy, them, again]</td>\n",
       "    </tr>\n",
       "  </tbody>\n",
       "</table>\n",
       "</div>"
      ],
      "text/plain": [
       "                                                                                                                                                                                                                                                                 reviews.text  \\\n",
       "0  I order 3 of them and one of the item is bad quality. Is missing backup spring so I have to put a pcs of aluminum to make the battery work.                                                                                                                                  \n",
       "1  Bulk is always the less expensive way to go for products like these                                                                                                                                                                                                          \n",
       "2  Well they are not Duracell but for the price i am happy.                                                                                                                                                                                                                     \n",
       "3  Seem to work as well as name brand batteries at a much better price                                                                                                                                                                                                          \n",
       "4  These batteries are very long lasting the price is great.                                                                                                                                                                                                                    \n",
       "5  Bought a lot of batteries for Christmas and the AmazonBasics Cell have been good. I haven't noticed a difference between the brand name batteries and the Amazon Basic brand. Just a lot easier to purchase and have arrive at the house and have on hand. Will buy again.   \n",
       "6  ive not had any problame with these batteries have ordered them in the past been very pleased.                                                                                                                                                                               \n",
       "7  Well if you are looking for cheap non-rechargeable batteries that last quite a while then these are perfect. Nothing more to say.                                                                                                                                            \n",
       "8  These do not hold the amount of high power juice like energizer or duracell, but they are half the price.                                                                                                                                                                    \n",
       "9  AmazonBasics AA AAA batteries have done well by me appear to have a good shelf life. I'll buy them again.                                                                                                                                                                    \n",
       "\n",
       "                                                                                                                                                                                                                                                                                                                   tokens  \n",
       "0  [i, order, 3, of, them, and, one, of, the, item, is, bad, quality, is, missing, backup, spring, so, i, have, to, put, a, pcs, of, aluminum, to, make, the, battery, work]                                                                                                                                               \n",
       "1  [bulk, is, always, the, less, expensive, way, to, go, for, products, like, these]                                                                                                                                                                                                                                       \n",
       "2  [well, they, are, not, duracell, but, for, the, price, i, am, happy]                                                                                                                                                                                                                                                    \n",
       "3  [seem, to, work, as, well, as, name, brand, batteries, at, a, much, better, price]                                                                                                                                                                                                                                      \n",
       "4  [these, batteries, are, very, long, lasting, the, price, is, great]                                                                                                                                                                                                                                                     \n",
       "5  [bought, a, lot, of, batteries, for, christmas, and, the, amazonbasics, cell, have, been, good, i, havent, noticed, a, difference, between, the, brand, name, batteries, and, the, amazon, basic, brand, just, a, lot, easier, to, purchase, and, have, arrive, at, the, house, and, have, on, hand, will, buy, again]  \n",
       "6  [ive, not, had, any, problame, with, these, batteries, have, ordered, them, in, the, past, been, very, pleased]                                                                                                                                                                                                         \n",
       "7  [well, if, you, are, looking, for, cheap, nonrechargeable, batteries, that, last, quite, a, while, then, these, are, perfect, nothing, more, to, say]                                                                                                                                                                   \n",
       "8  [these, do, not, hold, the, amount, of, high, power, juice, like, energizer, or, duracell, but, they, are, half, the, price]                                                                                                                                                                                            \n",
       "9  [amazonbasics, aa, aaa, batteries, have, done, well, by, me, appear, to, have, a, good, shelf, life, ill, buy, them, again]                                                                                                                                                                                             "
      ]
     },
     "execution_count": 28,
     "metadata": {},
     "output_type": "execute_result"
    }
   ],
   "source": [
    "df[['reviews.text', 'tokens']][:10]"
   ]
  },
  {
   "cell_type": "code",
   "execution_count": 29,
   "metadata": {},
   "outputs": [
    {
     "data": {
      "text/plain": [
       "Electronics                    13995\n",
       "Health & Beauty                12071\n",
       "Toys & Games,Electronics       1676 \n",
       "Office Supplies,Electronics    386  \n",
       "Electronics,Media              185  \n",
       "Office Supplies                9    \n",
       "Animals & Pet Supplies         6    \n",
       "Home & Garden                  2    \n",
       "Electronics,Furniture          2    \n",
       "Name: primaryCategories, dtype: int64"
      ]
     },
     "execution_count": 29,
     "metadata": {},
     "output_type": "execute_result"
    }
   ],
   "source": [
    "df['primaryCategories'].value_counts()"
   ]
  },
  {
   "cell_type": "code",
   "execution_count": 30,
   "metadata": {},
   "outputs": [],
   "source": [
    "df = df[df['primaryCategories'] == 'Electronics'].copy()"
   ]
  },
  {
   "cell_type": "code",
   "execution_count": 31,
   "metadata": {},
   "outputs": [
    {
     "data": {
      "text/html": [
       "<div>\n",
       "<style scoped>\n",
       "    .dataframe tbody tr th:only-of-type {\n",
       "        vertical-align: middle;\n",
       "    }\n",
       "\n",
       "    .dataframe tbody tr th {\n",
       "        vertical-align: top;\n",
       "    }\n",
       "\n",
       "    .dataframe thead th {\n",
       "        text-align: right;\n",
       "    }\n",
       "</style>\n",
       "<table border=\"1\" class=\"dataframe\">\n",
       "  <thead>\n",
       "    <tr style=\"text-align: right;\">\n",
       "      <th></th>\n",
       "      <th>id</th>\n",
       "      <th>dateAdded</th>\n",
       "      <th>dateUpdated</th>\n",
       "      <th>name</th>\n",
       "      <th>asins</th>\n",
       "      <th>brand</th>\n",
       "      <th>categories</th>\n",
       "      <th>primaryCategories</th>\n",
       "      <th>imageURLs</th>\n",
       "      <th>keys</th>\n",
       "      <th>...</th>\n",
       "      <th>reviews.doRecommend</th>\n",
       "      <th>reviews.id</th>\n",
       "      <th>reviews.numHelpful</th>\n",
       "      <th>reviews.rating</th>\n",
       "      <th>reviews.sourceURLs</th>\n",
       "      <th>reviews.text</th>\n",
       "      <th>reviews.title</th>\n",
       "      <th>reviews.username</th>\n",
       "      <th>sourceURLs</th>\n",
       "      <th>tokens</th>\n",
       "    </tr>\n",
       "  </thead>\n",
       "  <tbody>\n",
       "    <tr>\n",
       "      <th>8343</th>\n",
       "      <td>AVpe7nGV1cnluZ0-aG2o</td>\n",
       "      <td>2014-10-28T11:14:38Z</td>\n",
       "      <td>2019-04-25T09:05:28Z</td>\n",
       "      <td>AmazonBasics Nylon CD/DVD Binder (400 Capacity)</td>\n",
       "      <td>B00DIHVMEA,B00EZ1ZTV0</td>\n",
       "      <td>amazonbasics</td>\n",
       "      <td>Audio &amp; Video Accessories,TV, Video &amp; Home Audio,Home Audio &amp; Video Accessories,DVD Cases,Electronics,Media Cases &amp; Storage,TV, Video &amp; Audio Accessories,Media Storage &amp; Organization,Disc Storage Wallets,Consumer Electronics,CD, DVD &amp; Blu-ray Discs,Blank Audio/Video Media,Accessories &amp; Supplies,all electronics</td>\n",
       "      <td>Electronics</td>\n",
       "      <td>http://ecx.images-amazon.com/images/I/41jQha7Z7VL._SS40_.jpg,https://i.ebayimg.com/images/g/fzIAAOSwyHJcfeFd/s-l64.jpg,http://ecx.images-amazon.com/images/I/41wHqrf0wpL._SS40_.jpg,https://images-na.ssl-images-amazon.com/images/I/A10hSrURNlL._SL1500_.jpg,https://images-na.ssl-images-amazon.com/images/I/41rePmoxK0L._SS40_.jpg,https://images-na.ssl-images-amazon.com/images/I/41rePmoxK0L._SY300_QL70_.jpg,http://ecx.images-amazon.com/images/I/01G2aSYe7yS._SS40_PKmb-play-button-overlay-thumb_.png,https://i.ebayimg.com/thumbs/images/g/UsYAAOSwF31b4vv0/s-l96.jpg,https://images-na.ssl-images-amazon.com/images/I/81MKtWTvVfL._SL1500_.jpg,https://i.ebayimg.com/thumbs/images/g/hW4AAOSwn-lZcBGA/s-l200.jpg,https://i.ebayimg.com/images/g/VTYAAOSwKLxbX3mg/s-l64.jpg,https://i.ebayimg.com/images/g/~DQAAOSwwcFcfeFa/s-l300.jpg,https://images-na.ssl-images-amazon.com/images/I/91Qkogm3eRL._SL1500_.jpg,http://ecx.images-amazon.com/images/I/411OrNMIkpL._SS40_.jpg,https://images-na.ssl-images-amazon.com/images/I/81veZwqxAwL._SL1500_.jpg,https://i.ebayimg.com/images/g/hrUAAOSwoXZcfeFm/s-l64.jpg</td>\n",
       "      <td>amazonbasicsnyloncddvdbinder400capacity/b00ez1ztv0,amazonbasicsnyloncddvdbinder400capacity/113673983053,amazonbasicsnyloncddvdbinder400capacity/b00dihvmea,amazonbasics/ybb12400r2</td>\n",
       "      <td>...</td>\n",
       "      <td>NaN</td>\n",
       "      <td>NaN</td>\n",
       "      <td>NaN</td>\n",
       "      <td>5</td>\n",
       "      <td>https://www.ebay.com/itm/Amazonbasics-Nylon-Cd-Dvd-Binder-400-Capacity/113673983053</td>\n",
       "      <td>Great case to keep everything in its place! My husband love it!!!! Holds a lot of cds!</td>\n",
       "      <td>Excellent product</td>\n",
       "      <td>qs341_5</td>\n",
       "      <td>https://www.ebay.com/itm/AmazonBasics-Nylon-CD-DVD-Binder-400-Capacity/142888810490,https://www.amazon.com/AmazonBasics-Nylon-DVD-Binder-Capacity/dp/B00DIHVMEA,http://www.amazon.com/AmazonBasics-Nylon-DVD-Wallet-Capacity/dp/B00DIHVM36,https://www.amazon.com/AmazonBasics-Nylon-DVD-Binder-Capacity/dp/B00DIHVMEA/,https://www.ebay.com/itm/Amazonbasics-Nylon-Cd-Dvd-Binder-400-Capacity/113673983053</td>\n",
       "      <td>[great, case, to, keep, everything, in, its, place, my, husband, love, it, holds, a, lot, of, cds]</td>\n",
       "    </tr>\n",
       "    <tr>\n",
       "      <th>8344</th>\n",
       "      <td>AVpe7nGV1cnluZ0-aG2o</td>\n",
       "      <td>2014-10-28T11:14:38Z</td>\n",
       "      <td>2019-04-25T09:05:28Z</td>\n",
       "      <td>AmazonBasics Nylon CD/DVD Binder (400 Capacity)</td>\n",
       "      <td>B00DIHVMEA,B00EZ1ZTV0</td>\n",
       "      <td>amazonbasics</td>\n",
       "      <td>Audio &amp; Video Accessories,TV, Video &amp; Home Audio,Home Audio &amp; Video Accessories,DVD Cases,Electronics,Media Cases &amp; Storage,TV, Video &amp; Audio Accessories,Media Storage &amp; Organization,Disc Storage Wallets,Consumer Electronics,CD, DVD &amp; Blu-ray Discs,Blank Audio/Video Media,Accessories &amp; Supplies,all electronics</td>\n",
       "      <td>Electronics</td>\n",
       "      <td>http://ecx.images-amazon.com/images/I/41jQha7Z7VL._SS40_.jpg,https://i.ebayimg.com/images/g/fzIAAOSwyHJcfeFd/s-l64.jpg,http://ecx.images-amazon.com/images/I/41wHqrf0wpL._SS40_.jpg,https://images-na.ssl-images-amazon.com/images/I/A10hSrURNlL._SL1500_.jpg,https://images-na.ssl-images-amazon.com/images/I/41rePmoxK0L._SS40_.jpg,https://images-na.ssl-images-amazon.com/images/I/41rePmoxK0L._SY300_QL70_.jpg,http://ecx.images-amazon.com/images/I/01G2aSYe7yS._SS40_PKmb-play-button-overlay-thumb_.png,https://i.ebayimg.com/thumbs/images/g/UsYAAOSwF31b4vv0/s-l96.jpg,https://images-na.ssl-images-amazon.com/images/I/81MKtWTvVfL._SL1500_.jpg,https://i.ebayimg.com/thumbs/images/g/hW4AAOSwn-lZcBGA/s-l200.jpg,https://i.ebayimg.com/images/g/VTYAAOSwKLxbX3mg/s-l64.jpg,https://i.ebayimg.com/images/g/~DQAAOSwwcFcfeFa/s-l300.jpg,https://images-na.ssl-images-amazon.com/images/I/91Qkogm3eRL._SL1500_.jpg,http://ecx.images-amazon.com/images/I/411OrNMIkpL._SS40_.jpg,https://images-na.ssl-images-amazon.com/images/I/81veZwqxAwL._SL1500_.jpg,https://i.ebayimg.com/images/g/hrUAAOSwoXZcfeFm/s-l64.jpg</td>\n",
       "      <td>amazonbasicsnyloncddvdbinder400capacity/b00ez1ztv0,amazonbasicsnyloncddvdbinder400capacity/113673983053,amazonbasicsnyloncddvdbinder400capacity/b00dihvmea,amazonbasics/ybb12400r2</td>\n",
       "      <td>...</td>\n",
       "      <td>NaN</td>\n",
       "      <td>NaN</td>\n",
       "      <td>NaN</td>\n",
       "      <td>5</td>\n",
       "      <td>http://www.amazon.co.uk/gp/product-reviews/B00DIHVMEA%253Fie%253DUTF8%2526showViewpoints%253D1</td>\n",
       "      <td>After discarding and getting rid of broken cd cases, broken cds, and selecting those ones we really like, this binder turned up to be an excellent option to store our favourite cds and dvds and keep them in a small space at our living room, giving us the choice to donate or get rid of those cds towers that took a lot of room, despite looking nice. And because you can turn the pages, you can spot the cd you want to play without the hassle of taking it from a case that is falling apart. After storing them cds, all the cases and printed covers went straight to the recycling centre. We have a small version to put those cds my husband would like to listen to whenever he must drive away for work.</td>\n",
       "      <td>It was a much needed storage</td>\n",
       "      <td>Diablita</td>\n",
       "      <td>https://www.ebay.com/itm/AmazonBasics-Nylon-CD-DVD-Binder-400-Capacity/142888810490,https://www.amazon.com/AmazonBasics-Nylon-DVD-Binder-Capacity/dp/B00DIHVMEA,http://www.amazon.com/AmazonBasics-Nylon-DVD-Wallet-Capacity/dp/B00DIHVM36,https://www.amazon.com/AmazonBasics-Nylon-DVD-Binder-Capacity/dp/B00DIHVMEA/,https://www.ebay.com/itm/Amazonbasics-Nylon-Cd-Dvd-Binder-400-Capacity/113673983053</td>\n",
       "      <td>[after, discarding, and, getting, rid, of, broken, cd, cases, broken, cds, and, selecting, those, ones, we, really, like, this, binder, turned, up, to, be, an, excellent, option, to, store, our, favourite, cds, and, dvds, and, keep, them, in, a, small, space, at, our, living, room, giving, us, the, choice, to, donate, or, get, rid, of, those, cds, towers, that, took, a, lot, of, room, despite, looking, nice, and, because, you, can, turn, the, pages, you, can, spot, the, cd, you, want, to, play, without, the, hassle, of, taking, it, from, a, case, that, is, falling, apart, after, storing, them, cds, ...]</td>\n",
       "    </tr>\n",
       "    <tr>\n",
       "      <th>8345</th>\n",
       "      <td>AVpe7nGV1cnluZ0-aG2o</td>\n",
       "      <td>2014-10-28T11:14:38Z</td>\n",
       "      <td>2019-04-25T09:05:28Z</td>\n",
       "      <td>AmazonBasics Nylon CD/DVD Binder (400 Capacity)</td>\n",
       "      <td>B00DIHVMEA,B00EZ1ZTV0</td>\n",
       "      <td>amazonbasics</td>\n",
       "      <td>Audio &amp; Video Accessories,TV, Video &amp; Home Audio,Home Audio &amp; Video Accessories,DVD Cases,Electronics,Media Cases &amp; Storage,TV, Video &amp; Audio Accessories,Media Storage &amp; Organization,Disc Storage Wallets,Consumer Electronics,CD, DVD &amp; Blu-ray Discs,Blank Audio/Video Media,Accessories &amp; Supplies,all electronics</td>\n",
       "      <td>Electronics</td>\n",
       "      <td>http://ecx.images-amazon.com/images/I/41jQha7Z7VL._SS40_.jpg,https://i.ebayimg.com/images/g/fzIAAOSwyHJcfeFd/s-l64.jpg,http://ecx.images-amazon.com/images/I/41wHqrf0wpL._SS40_.jpg,https://images-na.ssl-images-amazon.com/images/I/A10hSrURNlL._SL1500_.jpg,https://images-na.ssl-images-amazon.com/images/I/41rePmoxK0L._SS40_.jpg,https://images-na.ssl-images-amazon.com/images/I/41rePmoxK0L._SY300_QL70_.jpg,http://ecx.images-amazon.com/images/I/01G2aSYe7yS._SS40_PKmb-play-button-overlay-thumb_.png,https://i.ebayimg.com/thumbs/images/g/UsYAAOSwF31b4vv0/s-l96.jpg,https://images-na.ssl-images-amazon.com/images/I/81MKtWTvVfL._SL1500_.jpg,https://i.ebayimg.com/thumbs/images/g/hW4AAOSwn-lZcBGA/s-l200.jpg,https://i.ebayimg.com/images/g/VTYAAOSwKLxbX3mg/s-l64.jpg,https://i.ebayimg.com/images/g/~DQAAOSwwcFcfeFa/s-l300.jpg,https://images-na.ssl-images-amazon.com/images/I/91Qkogm3eRL._SL1500_.jpg,http://ecx.images-amazon.com/images/I/411OrNMIkpL._SS40_.jpg,https://images-na.ssl-images-amazon.com/images/I/81veZwqxAwL._SL1500_.jpg,https://i.ebayimg.com/images/g/hrUAAOSwoXZcfeFm/s-l64.jpg</td>\n",
       "      <td>amazonbasicsnyloncddvdbinder400capacity/b00ez1ztv0,amazonbasicsnyloncddvdbinder400capacity/113673983053,amazonbasicsnyloncddvdbinder400capacity/b00dihvmea,amazonbasics/ybb12400r2</td>\n",
       "      <td>...</td>\n",
       "      <td>NaN</td>\n",
       "      <td>NaN</td>\n",
       "      <td>NaN</td>\n",
       "      <td>5</td>\n",
       "      <td>https://www.ebay.com/itm/Amazonbasics-Nylon-Cd-Dvd-Binder-400-Capacity/113673983053</td>\n",
       "      <td>A few dollars more, but I am boycotting amazon</td>\n",
       "      <td>it was worth it</td>\n",
       "      <td>coldbloodblazing</td>\n",
       "      <td>https://www.ebay.com/itm/AmazonBasics-Nylon-CD-DVD-Binder-400-Capacity/142888810490,https://www.amazon.com/AmazonBasics-Nylon-DVD-Binder-Capacity/dp/B00DIHVMEA,http://www.amazon.com/AmazonBasics-Nylon-DVD-Wallet-Capacity/dp/B00DIHVM36,https://www.amazon.com/AmazonBasics-Nylon-DVD-Binder-Capacity/dp/B00DIHVMEA/,https://www.ebay.com/itm/Amazonbasics-Nylon-Cd-Dvd-Binder-400-Capacity/113673983053</td>\n",
       "      <td>[a, few, dollars, more, but, i, am, boycotting, amazon]</td>\n",
       "    </tr>\n",
       "    <tr>\n",
       "      <th>8346</th>\n",
       "      <td>AVpe7nGV1cnluZ0-aG2o</td>\n",
       "      <td>2014-10-28T11:14:38Z</td>\n",
       "      <td>2019-04-25T09:05:28Z</td>\n",
       "      <td>AmazonBasics Nylon CD/DVD Binder (400 Capacity)</td>\n",
       "      <td>B00DIHVMEA,B00EZ1ZTV0</td>\n",
       "      <td>amazonbasics</td>\n",
       "      <td>Audio &amp; Video Accessories,TV, Video &amp; Home Audio,Home Audio &amp; Video Accessories,DVD Cases,Electronics,Media Cases &amp; Storage,TV, Video &amp; Audio Accessories,Media Storage &amp; Organization,Disc Storage Wallets,Consumer Electronics,CD, DVD &amp; Blu-ray Discs,Blank Audio/Video Media,Accessories &amp; Supplies,all electronics</td>\n",
       "      <td>Electronics</td>\n",
       "      <td>http://ecx.images-amazon.com/images/I/41jQha7Z7VL._SS40_.jpg,https://i.ebayimg.com/images/g/fzIAAOSwyHJcfeFd/s-l64.jpg,http://ecx.images-amazon.com/images/I/41wHqrf0wpL._SS40_.jpg,https://images-na.ssl-images-amazon.com/images/I/A10hSrURNlL._SL1500_.jpg,https://images-na.ssl-images-amazon.com/images/I/41rePmoxK0L._SS40_.jpg,https://images-na.ssl-images-amazon.com/images/I/41rePmoxK0L._SY300_QL70_.jpg,http://ecx.images-amazon.com/images/I/01G2aSYe7yS._SS40_PKmb-play-button-overlay-thumb_.png,https://i.ebayimg.com/thumbs/images/g/UsYAAOSwF31b4vv0/s-l96.jpg,https://images-na.ssl-images-amazon.com/images/I/81MKtWTvVfL._SL1500_.jpg,https://i.ebayimg.com/thumbs/images/g/hW4AAOSwn-lZcBGA/s-l200.jpg,https://i.ebayimg.com/images/g/VTYAAOSwKLxbX3mg/s-l64.jpg,https://i.ebayimg.com/images/g/~DQAAOSwwcFcfeFa/s-l300.jpg,https://images-na.ssl-images-amazon.com/images/I/91Qkogm3eRL._SL1500_.jpg,http://ecx.images-amazon.com/images/I/411OrNMIkpL._SS40_.jpg,https://images-na.ssl-images-amazon.com/images/I/81veZwqxAwL._SL1500_.jpg,https://i.ebayimg.com/images/g/hrUAAOSwoXZcfeFm/s-l64.jpg</td>\n",
       "      <td>amazonbasicsnyloncddvdbinder400capacity/b00ez1ztv0,amazonbasicsnyloncddvdbinder400capacity/113673983053,amazonbasicsnyloncddvdbinder400capacity/b00dihvmea,amazonbasics/ybb12400r2</td>\n",
       "      <td>...</td>\n",
       "      <td>NaN</td>\n",
       "      <td>NaN</td>\n",
       "      <td>NaN</td>\n",
       "      <td>2</td>\n",
       "      <td>http://www.amazon.co.uk/gp/product-reviews/B00DIHVMEA%253Fie%253DUTF8%2526showViewpoints%253D1</td>\n",
       "      <td>My initial impression of this was very good. The material is nicer than the shiny stuff on my Hama CD binders and the netting trim gives a nice appearance compared to plain look of most budget CD binders.There are 50 pages with 8 disc pockets each (4 per side) giving a total of 400 capacity. The pages are hung from the spine in two groups of 25. By that I mean that 25 pages all have a single attachment point to the plastic spine.This is where the first problem with this binder lies. Because each group of 25 pages shares the same anchor point in the spine, the pages cannot sit flat once full of discs. They bend and arch, and apart from looking tatty this puts a lot of tension across the plastic film. With long-term usage I suspect this plastic film will will tear due to the tension. It also makes it awkward to browse the binder as the pages don't sit flat. It may even crack or bend your discs.I look to my Hama 120 binder to see how it *should* be done - it only has 30 pages and yet they were smart enough to hang them from the spine in 3 bundles of 10. This spreads out the pages and allows easy browsing of the binder without putting any of the pockets under tension.After just 2 weeks in storage I opened the binder and the corners of all the pages have become dog-eared by themselves. This is due to the poor design and poor fit of the binder pages when filled with discs. Again, it is not a problem I have seen with my other disc binders, my two-year-old Hama binders look as good as new.Overally this binder has a lot of storage at a good price. If that's all you want you will probably be happy with the product. But sloppy design prevents it from being anything more than a mediocre binder. I feel that whoever designed this did not bother to fill it with discs to see how it would cope.</td>\n",
       "      <td>Not well designed, very tight when full. Becomes tatty when filled with discs.</td>\n",
       "      <td>Snrub</td>\n",
       "      <td>https://www.ebay.com/itm/AmazonBasics-Nylon-CD-DVD-Binder-400-Capacity/142888810490,https://www.amazon.com/AmazonBasics-Nylon-DVD-Binder-Capacity/dp/B00DIHVMEA,http://www.amazon.com/AmazonBasics-Nylon-DVD-Wallet-Capacity/dp/B00DIHVM36,https://www.amazon.com/AmazonBasics-Nylon-DVD-Binder-Capacity/dp/B00DIHVMEA/,https://www.ebay.com/itm/Amazonbasics-Nylon-Cd-Dvd-Binder-400-Capacity/113673983053</td>\n",
       "      <td>[my, initial, impression, of, this, was, very, good, the, material, is, nicer, than, the, shiny, stuff, on, my, hama, cd, binders, and, the, netting, trim, gives, a, nice, appearance, compared, to, plain, look, of, most, budget, cd, bindersthere, are, 50, pages, with, 8, disc, pockets, each, 4, per, side, giving, a, total, of, 400, capacity, the, pages, are, hung, from, the, spine, in, two, groups, of, 25, by, that, i, mean, that, 25, pages, all, have, a, single, attachment, point, to, the, plastic, spinethis, is, where, the, first, problem, with, this, binder, lies, because, each, group, of, 25, pages, shares, ...]</td>\n",
       "    </tr>\n",
       "    <tr>\n",
       "      <th>8347</th>\n",
       "      <td>AVpfl8cLLJeJML43AE3S</td>\n",
       "      <td>2016-04-08T18:16:28Z</td>\n",
       "      <td>2019-04-25T08:51:22Z</td>\n",
       "      <td>Amazon Echo ‚Äì White</td>\n",
       "      <td>B01E6AO69U,B00L9EPT8O</td>\n",
       "      <td>amazon</td>\n",
       "      <td>Stereos,Remote Controls,Audio Docks &amp; Mini Speakers,Kitchen &amp; Dining Features,Home &amp; Tools,Electronics,New Networking,Wireless Speakers,Home, Garage &amp; Office,Portable Speakers,iPod, Audio Player Accessories,Smart Home,Surveillance,Home Improvement,Smart Home &amp; Home Automation Devices,Alarms &amp; Sensors,Amazon Devices,Amazon,Holiday Shop,Kitchen Dining Features,Amazon Echo,Amazon Echo Accessories,Networking,Speaker Systems,TVs Entertainment,Clearance,Smart Hubs &amp; Wireless Routers,Featured Brands,Smart Home &amp; Connected Living,Home Security,Kindle Store,Home Automation,Home,Voice-Enabled Smart Assistants,Virtual Assistant Speakers,Portable Audio &amp; Headphones,Electronics Features,Smart Home Automation,Amazon Device Accessories,Speakers,Smart Hub &amp; Kits,Digital Device 3,Home &amp; Furniture Clearance,Consumer Electronics,Smart Hubs,Home Safety &amp; Security,Voice Assistants,Amazon Home,Virtual Assistant Speakers Displays,Audio</td>\n",
       "      <td>Electronics</td>\n",
       "      <td>https://i.ebayimg.com/images/g/NWEAAOSwDehbdx6M/s-l140.jpg,https://static.bhphoto.com/images/images500x500/amazon_b01e6ao69u_amazon_echo_white_1474554046000_1283942.jpg,https://c1.neweggimages.com/NeweggImage/ProductImage/A8SV_1_20171218336483163.jpg,https://c1.neweggimages.com/NeweggImage/ProductImage/A8SV_1_201712181840167816.jpg,https://static.bhphoto.com/images/multiple_images/thumbnails/1474553727000_IMG_689230.jpg,https://c1.neweggimages.com/NeweggImage/ProductImage/A8SV_1_201712181267043764.jpg,https://i.ebayimg.com/images/g/rBoAAOSwlR9cZ4-a/s-l64.jpg,https://static.bhphoto.com/images/multiple_images/thumbnails/1474553727000_IMG_689228.jpg,https://c1.neweggimages.com/NeweggImage/ProductImage/A1ND_1_201811071155387028.jpg,https://i.ebayimg.com/images/g/VJMAAOSwvcBcZ4-R/s-l64.jpg</td>\n",
       "      <td>amazonechowhite/b00l9ept8o,amazonechowhite/b01e6ao69u,amazonechowhite/9sia6v65v09997,841667112862,0841667112862,amazon/b01e6ao69u</td>\n",
       "      <td>...</td>\n",
       "      <td>NaN</td>\n",
       "      <td>NaN</td>\n",
       "      <td>NaN</td>\n",
       "      <td>5</td>\n",
       "      <td>https://www.newegg.com/Product/Product.aspx?Item=9SIA6V65V09997</td>\n",
       "      <td>Pros: Standard Echo. Cons: Older generation Echo. Other Thoughts: Arrived on time and was new in box.</td>\n",
       "      <td>Arrived as described.</td>\n",
       "      <td>Anonymous</td>\n",
       "      <td>https://www.newegg.com/Product/Product.aspx?Item=9SIA6V65V09997,https://www.newegg.com/Product/Product.aspx?Item=9SIACYN7RX6294</td>\n",
       "      <td>[pros, standard, echo, cons, older, generation, echo, other, thoughts, arrived, on, time, and, was, new, in, box]</td>\n",
       "    </tr>\n",
       "  </tbody>\n",
       "</table>\n",
       "<p>5 rows × 25 columns</p>\n",
       "</div>"
      ],
      "text/plain": [
       "                        id             dateAdded           dateUpdated  \\\n",
       "8343  AVpe7nGV1cnluZ0-aG2o  2014-10-28T11:14:38Z  2019-04-25T09:05:28Z   \n",
       "8344  AVpe7nGV1cnluZ0-aG2o  2014-10-28T11:14:38Z  2019-04-25T09:05:28Z   \n",
       "8345  AVpe7nGV1cnluZ0-aG2o  2014-10-28T11:14:38Z  2019-04-25T09:05:28Z   \n",
       "8346  AVpe7nGV1cnluZ0-aG2o  2014-10-28T11:14:38Z  2019-04-25T09:05:28Z   \n",
       "8347  AVpfl8cLLJeJML43AE3S  2016-04-08T18:16:28Z  2019-04-25T08:51:22Z   \n",
       "\n",
       "                                                 name                  asins  \\\n",
       "8343  AmazonBasics Nylon CD/DVD Binder (400 Capacity)  B00DIHVMEA,B00EZ1ZTV0   \n",
       "8344  AmazonBasics Nylon CD/DVD Binder (400 Capacity)  B00DIHVMEA,B00EZ1ZTV0   \n",
       "8345  AmazonBasics Nylon CD/DVD Binder (400 Capacity)  B00DIHVMEA,B00EZ1ZTV0   \n",
       "8346  AmazonBasics Nylon CD/DVD Binder (400 Capacity)  B00DIHVMEA,B00EZ1ZTV0   \n",
       "8347  Amazon Echo ‚Äì White                            B01E6AO69U,B00L9EPT8O   \n",
       "\n",
       "             brand  \\\n",
       "8343  amazonbasics   \n",
       "8344  amazonbasics   \n",
       "8345  amazonbasics   \n",
       "8346  amazonbasics   \n",
       "8347  amazon         \n",
       "\n",
       "                                                                                                                                                                                                                                                                                                                                                                                                                                                                                                                                                                                                                                                                                                                                                                                                                                                                                                                                                          categories  \\\n",
       "8343  Audio & Video Accessories,TV, Video & Home Audio,Home Audio & Video Accessories,DVD Cases,Electronics,Media Cases & Storage,TV, Video & Audio Accessories,Media Storage & Organization,Disc Storage Wallets,Consumer Electronics,CD, DVD & Blu-ray Discs,Blank Audio/Video Media,Accessories & Supplies,all electronics                                                                                                                                                                                                                                                                                                                                                                                                                                                                                                                                                                                                                                          \n",
       "8344  Audio & Video Accessories,TV, Video & Home Audio,Home Audio & Video Accessories,DVD Cases,Electronics,Media Cases & Storage,TV, Video & Audio Accessories,Media Storage & Organization,Disc Storage Wallets,Consumer Electronics,CD, DVD & Blu-ray Discs,Blank Audio/Video Media,Accessories & Supplies,all electronics                                                                                                                                                                                                                                                                                                                                                                                                                                                                                                                                                                                                                                          \n",
       "8345  Audio & Video Accessories,TV, Video & Home Audio,Home Audio & Video Accessories,DVD Cases,Electronics,Media Cases & Storage,TV, Video & Audio Accessories,Media Storage & Organization,Disc Storage Wallets,Consumer Electronics,CD, DVD & Blu-ray Discs,Blank Audio/Video Media,Accessories & Supplies,all electronics                                                                                                                                                                                                                                                                                                                                                                                                                                                                                                                                                                                                                                          \n",
       "8346  Audio & Video Accessories,TV, Video & Home Audio,Home Audio & Video Accessories,DVD Cases,Electronics,Media Cases & Storage,TV, Video & Audio Accessories,Media Storage & Organization,Disc Storage Wallets,Consumer Electronics,CD, DVD & Blu-ray Discs,Blank Audio/Video Media,Accessories & Supplies,all electronics                                                                                                                                                                                                                                                                                                                                                                                                                                                                                                                                                                                                                                          \n",
       "8347  Stereos,Remote Controls,Audio Docks & Mini Speakers,Kitchen & Dining Features,Home & Tools,Electronics,New Networking,Wireless Speakers,Home, Garage & Office,Portable Speakers,iPod, Audio Player Accessories,Smart Home,Surveillance,Home Improvement,Smart Home & Home Automation Devices,Alarms & Sensors,Amazon Devices,Amazon,Holiday Shop,Kitchen Dining Features,Amazon Echo,Amazon Echo Accessories,Networking,Speaker Systems,TVs Entertainment,Clearance,Smart Hubs & Wireless Routers,Featured Brands,Smart Home & Connected Living,Home Security,Kindle Store,Home Automation,Home,Voice-Enabled Smart Assistants,Virtual Assistant Speakers,Portable Audio & Headphones,Electronics Features,Smart Home Automation,Amazon Device Accessories,Speakers,Smart Hub & Kits,Digital Device 3,Home & Furniture Clearance,Consumer Electronics,Smart Hubs,Home Safety & Security,Voice Assistants,Amazon Home,Virtual Assistant Speakers Displays,Audio   \n",
       "\n",
       "     primaryCategories  \\\n",
       "8343  Electronics        \n",
       "8344  Electronics        \n",
       "8345  Electronics        \n",
       "8346  Electronics        \n",
       "8347  Electronics        \n",
       "\n",
       "                                                                                                                                                                                                                                                                                                                                                                                                                                                                                                                                                                                                                                                                                                                                                                                                                                                                                                                                                                                                                                                                                                                         imageURLs  \\\n",
       "8343  http://ecx.images-amazon.com/images/I/41jQha7Z7VL._SS40_.jpg,https://i.ebayimg.com/images/g/fzIAAOSwyHJcfeFd/s-l64.jpg,http://ecx.images-amazon.com/images/I/41wHqrf0wpL._SS40_.jpg,https://images-na.ssl-images-amazon.com/images/I/A10hSrURNlL._SL1500_.jpg,https://images-na.ssl-images-amazon.com/images/I/41rePmoxK0L._SS40_.jpg,https://images-na.ssl-images-amazon.com/images/I/41rePmoxK0L._SY300_QL70_.jpg,http://ecx.images-amazon.com/images/I/01G2aSYe7yS._SS40_PKmb-play-button-overlay-thumb_.png,https://i.ebayimg.com/thumbs/images/g/UsYAAOSwF31b4vv0/s-l96.jpg,https://images-na.ssl-images-amazon.com/images/I/81MKtWTvVfL._SL1500_.jpg,https://i.ebayimg.com/thumbs/images/g/hW4AAOSwn-lZcBGA/s-l200.jpg,https://i.ebayimg.com/images/g/VTYAAOSwKLxbX3mg/s-l64.jpg,https://i.ebayimg.com/images/g/~DQAAOSwwcFcfeFa/s-l300.jpg,https://images-na.ssl-images-amazon.com/images/I/91Qkogm3eRL._SL1500_.jpg,http://ecx.images-amazon.com/images/I/411OrNMIkpL._SS40_.jpg,https://images-na.ssl-images-amazon.com/images/I/81veZwqxAwL._SL1500_.jpg,https://i.ebayimg.com/images/g/hrUAAOSwoXZcfeFm/s-l64.jpg   \n",
       "8344  http://ecx.images-amazon.com/images/I/41jQha7Z7VL._SS40_.jpg,https://i.ebayimg.com/images/g/fzIAAOSwyHJcfeFd/s-l64.jpg,http://ecx.images-amazon.com/images/I/41wHqrf0wpL._SS40_.jpg,https://images-na.ssl-images-amazon.com/images/I/A10hSrURNlL._SL1500_.jpg,https://images-na.ssl-images-amazon.com/images/I/41rePmoxK0L._SS40_.jpg,https://images-na.ssl-images-amazon.com/images/I/41rePmoxK0L._SY300_QL70_.jpg,http://ecx.images-amazon.com/images/I/01G2aSYe7yS._SS40_PKmb-play-button-overlay-thumb_.png,https://i.ebayimg.com/thumbs/images/g/UsYAAOSwF31b4vv0/s-l96.jpg,https://images-na.ssl-images-amazon.com/images/I/81MKtWTvVfL._SL1500_.jpg,https://i.ebayimg.com/thumbs/images/g/hW4AAOSwn-lZcBGA/s-l200.jpg,https://i.ebayimg.com/images/g/VTYAAOSwKLxbX3mg/s-l64.jpg,https://i.ebayimg.com/images/g/~DQAAOSwwcFcfeFa/s-l300.jpg,https://images-na.ssl-images-amazon.com/images/I/91Qkogm3eRL._SL1500_.jpg,http://ecx.images-amazon.com/images/I/411OrNMIkpL._SS40_.jpg,https://images-na.ssl-images-amazon.com/images/I/81veZwqxAwL._SL1500_.jpg,https://i.ebayimg.com/images/g/hrUAAOSwoXZcfeFm/s-l64.jpg   \n",
       "8345  http://ecx.images-amazon.com/images/I/41jQha7Z7VL._SS40_.jpg,https://i.ebayimg.com/images/g/fzIAAOSwyHJcfeFd/s-l64.jpg,http://ecx.images-amazon.com/images/I/41wHqrf0wpL._SS40_.jpg,https://images-na.ssl-images-amazon.com/images/I/A10hSrURNlL._SL1500_.jpg,https://images-na.ssl-images-amazon.com/images/I/41rePmoxK0L._SS40_.jpg,https://images-na.ssl-images-amazon.com/images/I/41rePmoxK0L._SY300_QL70_.jpg,http://ecx.images-amazon.com/images/I/01G2aSYe7yS._SS40_PKmb-play-button-overlay-thumb_.png,https://i.ebayimg.com/thumbs/images/g/UsYAAOSwF31b4vv0/s-l96.jpg,https://images-na.ssl-images-amazon.com/images/I/81MKtWTvVfL._SL1500_.jpg,https://i.ebayimg.com/thumbs/images/g/hW4AAOSwn-lZcBGA/s-l200.jpg,https://i.ebayimg.com/images/g/VTYAAOSwKLxbX3mg/s-l64.jpg,https://i.ebayimg.com/images/g/~DQAAOSwwcFcfeFa/s-l300.jpg,https://images-na.ssl-images-amazon.com/images/I/91Qkogm3eRL._SL1500_.jpg,http://ecx.images-amazon.com/images/I/411OrNMIkpL._SS40_.jpg,https://images-na.ssl-images-amazon.com/images/I/81veZwqxAwL._SL1500_.jpg,https://i.ebayimg.com/images/g/hrUAAOSwoXZcfeFm/s-l64.jpg   \n",
       "8346  http://ecx.images-amazon.com/images/I/41jQha7Z7VL._SS40_.jpg,https://i.ebayimg.com/images/g/fzIAAOSwyHJcfeFd/s-l64.jpg,http://ecx.images-amazon.com/images/I/41wHqrf0wpL._SS40_.jpg,https://images-na.ssl-images-amazon.com/images/I/A10hSrURNlL._SL1500_.jpg,https://images-na.ssl-images-amazon.com/images/I/41rePmoxK0L._SS40_.jpg,https://images-na.ssl-images-amazon.com/images/I/41rePmoxK0L._SY300_QL70_.jpg,http://ecx.images-amazon.com/images/I/01G2aSYe7yS._SS40_PKmb-play-button-overlay-thumb_.png,https://i.ebayimg.com/thumbs/images/g/UsYAAOSwF31b4vv0/s-l96.jpg,https://images-na.ssl-images-amazon.com/images/I/81MKtWTvVfL._SL1500_.jpg,https://i.ebayimg.com/thumbs/images/g/hW4AAOSwn-lZcBGA/s-l200.jpg,https://i.ebayimg.com/images/g/VTYAAOSwKLxbX3mg/s-l64.jpg,https://i.ebayimg.com/images/g/~DQAAOSwwcFcfeFa/s-l300.jpg,https://images-na.ssl-images-amazon.com/images/I/91Qkogm3eRL._SL1500_.jpg,http://ecx.images-amazon.com/images/I/411OrNMIkpL._SS40_.jpg,https://images-na.ssl-images-amazon.com/images/I/81veZwqxAwL._SL1500_.jpg,https://i.ebayimg.com/images/g/hrUAAOSwoXZcfeFm/s-l64.jpg   \n",
       "8347  https://i.ebayimg.com/images/g/NWEAAOSwDehbdx6M/s-l140.jpg,https://static.bhphoto.com/images/images500x500/amazon_b01e6ao69u_amazon_echo_white_1474554046000_1283942.jpg,https://c1.neweggimages.com/NeweggImage/ProductImage/A8SV_1_20171218336483163.jpg,https://c1.neweggimages.com/NeweggImage/ProductImage/A8SV_1_201712181840167816.jpg,https://static.bhphoto.com/images/multiple_images/thumbnails/1474553727000_IMG_689230.jpg,https://c1.neweggimages.com/NeweggImage/ProductImage/A8SV_1_201712181267043764.jpg,https://i.ebayimg.com/images/g/rBoAAOSwlR9cZ4-a/s-l64.jpg,https://static.bhphoto.com/images/multiple_images/thumbnails/1474553727000_IMG_689228.jpg,https://c1.neweggimages.com/NeweggImage/ProductImage/A1ND_1_201811071155387028.jpg,https://i.ebayimg.com/images/g/VJMAAOSwvcBcZ4-R/s-l64.jpg                                                                                                                                                                                                                                                                                                    \n",
       "\n",
       "                                                                                                                                                                                    keys  \\\n",
       "8343  amazonbasicsnyloncddvdbinder400capacity/b00ez1ztv0,amazonbasicsnyloncddvdbinder400capacity/113673983053,amazonbasicsnyloncddvdbinder400capacity/b00dihvmea,amazonbasics/ybb12400r2   \n",
       "8344  amazonbasicsnyloncddvdbinder400capacity/b00ez1ztv0,amazonbasicsnyloncddvdbinder400capacity/113673983053,amazonbasicsnyloncddvdbinder400capacity/b00dihvmea,amazonbasics/ybb12400r2   \n",
       "8345  amazonbasicsnyloncddvdbinder400capacity/b00ez1ztv0,amazonbasicsnyloncddvdbinder400capacity/113673983053,amazonbasicsnyloncddvdbinder400capacity/b00dihvmea,amazonbasics/ybb12400r2   \n",
       "8346  amazonbasicsnyloncddvdbinder400capacity/b00ez1ztv0,amazonbasicsnyloncddvdbinder400capacity/113673983053,amazonbasicsnyloncddvdbinder400capacity/b00dihvmea,amazonbasics/ybb12400r2   \n",
       "8347  amazonechowhite/b00l9ept8o,amazonechowhite/b01e6ao69u,amazonechowhite/9sia6v65v09997,841667112862,0841667112862,amazon/b01e6ao69u                                                    \n",
       "\n",
       "      ... reviews.doRecommend reviews.id reviews.numHelpful reviews.rating  \\\n",
       "8343  ...  NaN                NaN        NaN                 5               \n",
       "8344  ...  NaN                NaN        NaN                 5               \n",
       "8345  ...  NaN                NaN        NaN                 5               \n",
       "8346  ...  NaN                NaN        NaN                 2               \n",
       "8347  ...  NaN                NaN        NaN                 5               \n",
       "\n",
       "                                                                                  reviews.sourceURLs  \\\n",
       "8343  https://www.ebay.com/itm/Amazonbasics-Nylon-Cd-Dvd-Binder-400-Capacity/113673983053              \n",
       "8344  http://www.amazon.co.uk/gp/product-reviews/B00DIHVMEA%253Fie%253DUTF8%2526showViewpoints%253D1   \n",
       "8345  https://www.ebay.com/itm/Amazonbasics-Nylon-Cd-Dvd-Binder-400-Capacity/113673983053              \n",
       "8346  http://www.amazon.co.uk/gp/product-reviews/B00DIHVMEA%253Fie%253DUTF8%2526showViewpoints%253D1   \n",
       "8347  https://www.newegg.com/Product/Product.aspx?Item=9SIA6V65V09997                                  \n",
       "\n",
       "                                                                                                                                                                                                                                                                                                                                                                                                                                                                                                                                                                                                                                                                                                                                                                                                                                                                                                                                                                                                                                                                                                                                                                                                                                                                                                                                                                                                                                                                                                                                                                                                                                                                                                                                                                                                                                                                          reviews.text  \\\n",
       "8343  Great case to keep everything in its place! My husband love it!!!! Holds a lot of cds!                                                                                                                                                                                                                                                                                                                                                                                                                                                                                                                                                                                                                                                                                                                                                                                                                                                                                                                                                                                                                                                                                                                                                                                                                                                                                                                                                                                                                                                                                                                                                                                                                                                                                                                                                                                             \n",
       "8344  After discarding and getting rid of broken cd cases, broken cds, and selecting those ones we really like, this binder turned up to be an excellent option to store our favourite cds and dvds and keep them in a small space at our living room, giving us the choice to donate or get rid of those cds towers that took a lot of room, despite looking nice. And because you can turn the pages, you can spot the cd you want to play without the hassle of taking it from a case that is falling apart. After storing them cds, all the cases and printed covers went straight to the recycling centre. We have a small version to put those cds my husband would like to listen to whenever he must drive away for work.                                                                                                                                                                                                                                                                                                                                                                                                                                                                                                                                                                                                                                                                                                                                                                                                                                                                                                                                                                                                                                                                                                                                                        \n",
       "8345  A few dollars more, but I am boycotting amazon                                                                                                                                                                                                                                                                                                                                                                                                                                                                                                                                                                                                                                                                                                                                                                                                                                                                                                                                                                                                                                                                                                                                                                                                                                                                                                                                                                                                                                                                                                                                                                                                                                                                                                                                                                                                                                     \n",
       "8346  My initial impression of this was very good. The material is nicer than the shiny stuff on my Hama CD binders and the netting trim gives a nice appearance compared to plain look of most budget CD binders.There are 50 pages with 8 disc pockets each (4 per side) giving a total of 400 capacity. The pages are hung from the spine in two groups of 25. By that I mean that 25 pages all have a single attachment point to the plastic spine.This is where the first problem with this binder lies. Because each group of 25 pages shares the same anchor point in the spine, the pages cannot sit flat once full of discs. They bend and arch, and apart from looking tatty this puts a lot of tension across the plastic film. With long-term usage I suspect this plastic film will will tear due to the tension. It also makes it awkward to browse the binder as the pages don't sit flat. It may even crack or bend your discs.I look to my Hama 120 binder to see how it *should* be done - it only has 30 pages and yet they were smart enough to hang them from the spine in 3 bundles of 10. This spreads out the pages and allows easy browsing of the binder without putting any of the pockets under tension.After just 2 weeks in storage I opened the binder and the corners of all the pages have become dog-eared by themselves. This is due to the poor design and poor fit of the binder pages when filled with discs. Again, it is not a problem I have seen with my other disc binders, my two-year-old Hama binders look as good as new.Overally this binder has a lot of storage at a good price. If that's all you want you will probably be happy with the product. But sloppy design prevents it from being anything more than a mediocre binder. I feel that whoever designed this did not bother to fill it with discs to see how it would cope.   \n",
       "8347  Pros: Standard Echo. Cons: Older generation Echo. Other Thoughts: Arrived on time and was new in box.                                                                                                                                                                                                                                                                                                                                                                                                                                                                                                                                                                                                                                                                                                                                                                                                                                                                                                                                                                                                                                                                                                                                                                                                                                                                                                                                                                                                                                                                                                                                                                                                                                                                                                                                                                              \n",
       "\n",
       "                                                                       reviews.title  \\\n",
       "8343  Excellent product                                                                \n",
       "8344  It was a much needed storage                                                     \n",
       "8345  it was worth it                                                                  \n",
       "8346  Not well designed, very tight when full. Becomes tatty when filled with discs.   \n",
       "8347  Arrived as described.                                                            \n",
       "\n",
       "      reviews.username  \\\n",
       "8343  qs341_5            \n",
       "8344  Diablita           \n",
       "8345  coldbloodblazing   \n",
       "8346  Snrub              \n",
       "8347  Anonymous          \n",
       "\n",
       "                                                                                                                                                                                                                                                                                                                                                                                                       sourceURLs  \\\n",
       "8343  https://www.ebay.com/itm/AmazonBasics-Nylon-CD-DVD-Binder-400-Capacity/142888810490,https://www.amazon.com/AmazonBasics-Nylon-DVD-Binder-Capacity/dp/B00DIHVMEA,http://www.amazon.com/AmazonBasics-Nylon-DVD-Wallet-Capacity/dp/B00DIHVM36,https://www.amazon.com/AmazonBasics-Nylon-DVD-Binder-Capacity/dp/B00DIHVMEA/,https://www.ebay.com/itm/Amazonbasics-Nylon-Cd-Dvd-Binder-400-Capacity/113673983053   \n",
       "8344  https://www.ebay.com/itm/AmazonBasics-Nylon-CD-DVD-Binder-400-Capacity/142888810490,https://www.amazon.com/AmazonBasics-Nylon-DVD-Binder-Capacity/dp/B00DIHVMEA,http://www.amazon.com/AmazonBasics-Nylon-DVD-Wallet-Capacity/dp/B00DIHVM36,https://www.amazon.com/AmazonBasics-Nylon-DVD-Binder-Capacity/dp/B00DIHVMEA/,https://www.ebay.com/itm/Amazonbasics-Nylon-Cd-Dvd-Binder-400-Capacity/113673983053   \n",
       "8345  https://www.ebay.com/itm/AmazonBasics-Nylon-CD-DVD-Binder-400-Capacity/142888810490,https://www.amazon.com/AmazonBasics-Nylon-DVD-Binder-Capacity/dp/B00DIHVMEA,http://www.amazon.com/AmazonBasics-Nylon-DVD-Wallet-Capacity/dp/B00DIHVM36,https://www.amazon.com/AmazonBasics-Nylon-DVD-Binder-Capacity/dp/B00DIHVMEA/,https://www.ebay.com/itm/Amazonbasics-Nylon-Cd-Dvd-Binder-400-Capacity/113673983053   \n",
       "8346  https://www.ebay.com/itm/AmazonBasics-Nylon-CD-DVD-Binder-400-Capacity/142888810490,https://www.amazon.com/AmazonBasics-Nylon-DVD-Binder-Capacity/dp/B00DIHVMEA,http://www.amazon.com/AmazonBasics-Nylon-DVD-Wallet-Capacity/dp/B00DIHVM36,https://www.amazon.com/AmazonBasics-Nylon-DVD-Binder-Capacity/dp/B00DIHVMEA/,https://www.ebay.com/itm/Amazonbasics-Nylon-Cd-Dvd-Binder-400-Capacity/113673983053   \n",
       "8347  https://www.newegg.com/Product/Product.aspx?Item=9SIA6V65V09997,https://www.newegg.com/Product/Product.aspx?Item=9SIACYN7RX6294                                                                                                                                                                                                                                                                               \n",
       "\n",
       "                                                                                                                                                                                                                                                                                                                                                                                                                                                                                                                                                                                                                                               tokens  \n",
       "8343  [great, case, to, keep, everything, in, its, place, my, husband, love, it, holds, a, lot, of, cds]                                                                                                                                                                                                                                                                                                                                                                                                                                                                                                                                               \n",
       "8344  [after, discarding, and, getting, rid, of, broken, cd, cases, broken, cds, and, selecting, those, ones, we, really, like, this, binder, turned, up, to, be, an, excellent, option, to, store, our, favourite, cds, and, dvds, and, keep, them, in, a, small, space, at, our, living, room, giving, us, the, choice, to, donate, or, get, rid, of, those, cds, towers, that, took, a, lot, of, room, despite, looking, nice, and, because, you, can, turn, the, pages, you, can, spot, the, cd, you, want, to, play, without, the, hassle, of, taking, it, from, a, case, that, is, falling, apart, after, storing, them, cds, ...]               \n",
       "8345  [a, few, dollars, more, but, i, am, boycotting, amazon]                                                                                                                                                                                                                                                                                                                                                                                                                                                                                                                                                                                          \n",
       "8346  [my, initial, impression, of, this, was, very, good, the, material, is, nicer, than, the, shiny, stuff, on, my, hama, cd, binders, and, the, netting, trim, gives, a, nice, appearance, compared, to, plain, look, of, most, budget, cd, bindersthere, are, 50, pages, with, 8, disc, pockets, each, 4, per, side, giving, a, total, of, 400, capacity, the, pages, are, hung, from, the, spine, in, two, groups, of, 25, by, that, i, mean, that, 25, pages, all, have, a, single, attachment, point, to, the, plastic, spinethis, is, where, the, first, problem, with, this, binder, lies, because, each, group, of, 25, pages, shares, ...]  \n",
       "8347  [pros, standard, echo, cons, older, generation, echo, other, thoughts, arrived, on, time, and, was, new, in, box]                                                                                                                                                                                                                                                                                                                                                                                                                                                                                                                                \n",
       "\n",
       "[5 rows x 25 columns]"
      ]
     },
     "execution_count": 31,
     "metadata": {},
     "output_type": "execute_result"
    }
   ],
   "source": [
    "df.head()"
   ]
  },
  {
   "cell_type": "markdown",
   "metadata": {},
   "source": [
    "#### Analyzing Tokens"
   ]
  },
  {
   "cell_type": "code",
   "execution_count": 32,
   "metadata": {},
   "outputs": [
    {
     "data": {
      "text/plain": [
       "[('the', 17723),\n",
       " ('and', 14005),\n",
       " ('it', 13113),\n",
       " ('to', 12750),\n",
       " ('for', 12224),\n",
       " ('i', 12037),\n",
       " ('a', 10494),\n",
       " ('is', 8508),\n",
       " ('this', 8109),\n",
       " ('my', 7914)]"
      ]
     },
     "execution_count": 32,
     "metadata": {},
     "output_type": "execute_result"
    }
   ],
   "source": [
    "# Object from Base Python\n",
    "from collections import Counter\n",
    "\n",
    "# The object `Counter` takes an iterable, but you can instaniate an empty one and update it. \n",
    "word_counts = Counter()\n",
    "\n",
    "# Update it based on a split of each of our documents\n",
    "df['tokens'].apply(lambda x: word_counts.update(x))\n",
    "\n",
    "# Print out the 10 most common words\n",
    "word_counts.most_common(10)"
   ]
  },
  {
   "cell_type": "markdown",
   "metadata": {},
   "source": [
    "Let's create a fuction which takes a corpus of document and returns and dataframe of word counts for us to analyze."
   ]
  },
  {
   "cell_type": "code",
   "execution_count": 33,
   "metadata": {},
   "outputs": [],
   "source": [
    "def count(docs):\n",
    "\n",
    "        word_counts = Counter()\n",
    "        appears_in = Counter()\n",
    "        \n",
    "        total_docs = len(docs)\n",
    "\n",
    "        for doc in docs:\n",
    "            word_counts.update(doc)\n",
    "            appears_in.update(set(doc))\n",
    "\n",
    "        temp = zip(word_counts.keys(), word_counts.values())\n",
    "        \n",
    "        wc = pd.DataFrame(temp, columns = ['word', 'count'])\n",
    "\n",
    "        wc['rank'] = wc['count'].rank(method='first', ascending=False)\n",
    "        total = wc['count'].sum()\n",
    "\n",
    "        wc['pct_total'] = wc['count'].apply(lambda x: x / total)\n",
    "        \n",
    "        wc = wc.sort_values(by='rank')\n",
    "        wc['cul_pct_total'] = wc['pct_total'].cumsum()\n",
    "\n",
    "        t2 = zip(appears_in.keys(), appears_in.values())\n",
    "        ac = pd.DataFrame(t2, columns=['word', 'appears_in'])\n",
    "        wc = ac.merge(wc, on='word')\n",
    "\n",
    "        wc['appears_in_pct'] = wc['appears_in'].apply(lambda x: x / total_docs)\n",
    "        \n",
    "        return wc.sort_values(by='rank')"
   ]
  },
  {
   "cell_type": "code",
   "execution_count": 34,
   "metadata": {},
   "outputs": [],
   "source": [
    "# Use the Function\n",
    "wc = count(df['tokens'])"
   ]
  },
  {
   "cell_type": "code",
   "execution_count": 35,
   "metadata": {},
   "outputs": [
    {
     "data": {
      "text/html": [
       "<div>\n",
       "<style scoped>\n",
       "    .dataframe tbody tr th:only-of-type {\n",
       "        vertical-align: middle;\n",
       "    }\n",
       "\n",
       "    .dataframe tbody tr th {\n",
       "        vertical-align: top;\n",
       "    }\n",
       "\n",
       "    .dataframe thead th {\n",
       "        text-align: right;\n",
       "    }\n",
       "</style>\n",
       "<table border=\"1\" class=\"dataframe\">\n",
       "  <thead>\n",
       "    <tr style=\"text-align: right;\">\n",
       "      <th></th>\n",
       "      <th>word</th>\n",
       "      <th>appears_in</th>\n",
       "      <th>count</th>\n",
       "      <th>rank</th>\n",
       "      <th>pct_total</th>\n",
       "      <th>cul_pct_total</th>\n",
       "      <th>appears_in_pct</th>\n",
       "    </tr>\n",
       "  </thead>\n",
       "  <tbody>\n",
       "    <tr>\n",
       "      <th>52</th>\n",
       "      <td>the</td>\n",
       "      <td>7809</td>\n",
       "      <td>17723</td>\n",
       "      <td>1.0</td>\n",
       "      <td>0.041211</td>\n",
       "      <td>0.041211</td>\n",
       "      <td>0.557985</td>\n",
       "    </tr>\n",
       "    <tr>\n",
       "      <th>49</th>\n",
       "      <td>and</td>\n",
       "      <td>8543</td>\n",
       "      <td>14005</td>\n",
       "      <td>2.0</td>\n",
       "      <td>0.032565</td>\n",
       "      <td>0.073776</td>\n",
       "      <td>0.610432</td>\n",
       "    </tr>\n",
       "    <tr>\n",
       "      <th>8</th>\n",
       "      <td>it</td>\n",
       "      <td>7490</td>\n",
       "      <td>13113</td>\n",
       "      <td>3.0</td>\n",
       "      <td>0.030491</td>\n",
       "      <td>0.104267</td>\n",
       "      <td>0.535191</td>\n",
       "    </tr>\n",
       "    <tr>\n",
       "      <th>9</th>\n",
       "      <td>to</td>\n",
       "      <td>7137</td>\n",
       "      <td>12750</td>\n",
       "      <td>4.0</td>\n",
       "      <td>0.029647</td>\n",
       "      <td>0.133914</td>\n",
       "      <td>0.509968</td>\n",
       "    </tr>\n",
       "    <tr>\n",
       "      <th>37</th>\n",
       "      <td>for</td>\n",
       "      <td>7990</td>\n",
       "      <td>12224</td>\n",
       "      <td>5.0</td>\n",
       "      <td>0.028424</td>\n",
       "      <td>0.162339</td>\n",
       "      <td>0.570918</td>\n",
       "    </tr>\n",
       "  </tbody>\n",
       "</table>\n",
       "</div>"
      ],
      "text/plain": [
       "   word  appears_in  count  rank  pct_total  cul_pct_total  appears_in_pct\n",
       "52  the  7809        17723  1.0   0.041211   0.041211       0.557985      \n",
       "49  and  8543        14005  2.0   0.032565   0.073776       0.610432      \n",
       "8   it   7490        13113  3.0   0.030491   0.104267       0.535191      \n",
       "9   to   7137        12750  4.0   0.029647   0.133914       0.509968      \n",
       "37  for  7990        12224  5.0   0.028424   0.162339       0.570918      "
      ]
     },
     "execution_count": 35,
     "metadata": {},
     "output_type": "execute_result"
    }
   ],
   "source": [
    "wc.head()"
   ]
  },
  {
   "cell_type": "code",
   "execution_count": 36,
   "metadata": {},
   "outputs": [
    {
     "data": {
      "image/png": "[encoded data removed]",
      "text/plain": [
       "<Figure size 432x288 with 1 Axes>"
      ]
     },
     "metadata": {
      "needs_background": "light"
     },
     "output_type": "display_data"
    }
   ],
   "source": [
    "import seaborn as sns\n",
    "\n",
    "# Cumulative Distribution Plot\n",
    "sns.lineplot(x='rank', y='cul_pct_total', data=wc);"
   ]
  },
  {
   "cell_type": "code",
   "execution_count": 37,
   "metadata": {},
   "outputs": [
    {
     "data": {
      "text/plain": [
       "0.6130405666212466"
      ]
     },
     "execution_count": 37,
     "metadata": {},
     "output_type": "execute_result"
    }
   ],
   "source": [
    "wc[wc['rank'] <= 100]['cul_pct_total'].max()"
   ]
  },
  {
   "cell_type": "code",
   "execution_count": 38,
   "metadata": {},
   "outputs": [
    {
     "data": {
      "image/png": "[encoded data removed]",
      "text/plain": [
       "<Figure size 432x288 with 1 Axes>"
      ]
     },
     "metadata": {
      "needs_background": "light"
     },
     "output_type": "display_data"
    }
   ],
   "source": [
    "import squarify\n",
    "import matplotlib.pyplot as plt\n",
    "\n",
    "wc_top20 = wc[wc['rank'] <= 20]\n",
    "\n",
    "squarify.plot(sizes=wc_top20['pct_total'], label=wc_top20['word'], alpha=.8 )\n",
    "plt.axis('off')\n",
    "plt.show()"
   ]
  },
  {
   "cell_type": "markdown",
   "metadata": {},
   "source": [
    "### Processing Raw Text with Spacy\n",
    "\n",
    "Spacy's datamodel for documents is unique among NLP libraries. Instead of storing the documents components in various data structures, Spacy indexes components and simply stores the lookup information. \n",
    "\n",
    "This is often why Spacy is considered to be more production grade than library like NLTK."
   ]
  },
  {
   "cell_type": "code",
   "execution_count": 39,
   "metadata": {},
   "outputs": [],
   "source": [
    "import spacy\n",
    "from spacy.tokenizer import Tokenizer\n",
    "\n",
    "nlp = spacy.load(\"en_core_web_lg\")\n",
    "\n",
    "# Tokenizer\n",
    "tokenizer = Tokenizer(nlp.vocab)"
   ]
  },
  {
   "cell_type": "code",
   "execution_count": 40,
   "metadata": {},
   "outputs": [
    {
     "data": {
      "text/plain": [
       "['Friends,', 'Romans,', 'countrymen,', 'lend', 'me', 'your', 'ears;']"
      ]
     },
     "execution_count": 40,
     "metadata": {},
     "output_type": "execute_result"
    }
   ],
   "source": [
    "# Print out list of tokens\n",
    "sample = \"Friends, Romans, countrymen, lend me your ears;\"\n",
    "[token.text for token in tokenizer(sample)]"
   ]
  },
  {
   "cell_type": "code",
   "execution_count": 41,
   "metadata": {},
   "outputs": [
    {
     "data": {
      "text/plain": [
       "['_',\n",
       " '__bytes__',\n",
       " '__class__',\n",
       " '__delattr__',\n",
       " '__dir__',\n",
       " '__doc__',\n",
       " '__eq__',\n",
       " '__format__',\n",
       " '__ge__',\n",
       " '__getattribute__',\n",
       " '__getitem__',\n",
       " '__gt__',\n",
       " '__hash__',\n",
       " '__init__',\n",
       " '__init_subclass__',\n",
       " '__iter__',\n",
       " '__le__',\n",
       " '__len__',\n",
       " '__lt__',\n",
       " '__ne__',\n",
       " '__new__',\n",
       " '__pyx_vtable__',\n",
       " '__reduce__',\n",
       " '__reduce_ex__',\n",
       " '__repr__',\n",
       " '__setattr__',\n",
       " '__setstate__',\n",
       " '__sizeof__',\n",
       " '__str__',\n",
       " '__subclasshook__',\n",
       " '__unicode__',\n",
       " '_bulk_merge',\n",
       " '_py_tokens',\n",
       " '_realloc',\n",
       " '_vector',\n",
       " '_vector_norm',\n",
       " 'cats',\n",
       " 'char_span',\n",
       " 'count_by',\n",
       " 'doc',\n",
       " 'ents',\n",
       " 'extend_tensor',\n",
       " 'from_array',\n",
       " 'from_bytes',\n",
       " 'from_disk',\n",
       " 'get_extension',\n",
       " 'get_lca_matrix',\n",
       " 'has_extension',\n",
       " 'has_vector',\n",
       " 'is_nered',\n",
       " 'is_parsed',\n",
       " 'is_sentenced',\n",
       " 'is_tagged',\n",
       " 'lang',\n",
       " 'lang_',\n",
       " 'mem',\n",
       " 'merge',\n",
       " 'noun_chunks',\n",
       " 'noun_chunks_iterator',\n",
       " 'print_tree',\n",
       " 'remove_extension',\n",
       " 'retokenize',\n",
       " 'sentiment',\n",
       " 'sents',\n",
       " 'set_extension',\n",
       " 'similarity',\n",
       " 'tensor',\n",
       " 'text',\n",
       " 'text_with_ws',\n",
       " 'to_array',\n",
       " 'to_bytes',\n",
       " 'to_disk',\n",
       " 'to_json',\n",
       " 'to_utf8_array',\n",
       " 'user_data',\n",
       " 'user_hooks',\n",
       " 'user_span_hooks',\n",
       " 'user_token_hooks',\n",
       " 'vector',\n",
       " 'vector_norm',\n",
       " 'vocab']"
      ]
     },
     "execution_count": 41,
     "metadata": {},
     "output_type": "execute_result"
    }
   ],
   "source": [
    "doc = nlp(sample)\n",
    "dir(doc)"
   ]
  },
  {
   "cell_type": "code",
   "execution_count": 42,
   "metadata": {},
   "outputs": [],
   "source": [
    "# Tokenizer Pipe\n",
    "\n",
    "tokens = []\n",
    "\n",
    "\"\"\" Make them tokens \"\"\"\n",
    "for doc in tokenizer.pipe(df['reviews.text'], batch_size=500):\n",
    "    doc_tokens = [token.text for token in doc]\n",
    "    tokens.append(doc_tokens)\n",
    "\n",
    "df['tokens'] = tokens"
   ]
  },
  {
   "cell_type": "code",
   "execution_count": 43,
   "metadata": {},
   "outputs": [
    {
     "data": {
      "text/plain": [
       "8343    [Great, case, to, keep, everything, in, its, place!, My, husband, love, it!!!!, Holds, a, lot, of, cds!]                                                                                                                                                                                                                                                                                                                                                                                                                                                                                                                                               \n",
       "8344    [After, discarding, and, getting, rid, of, broken, cd, cases,, broken, cds,, and, selecting, those, ones, we, really, like,, this, binder, turned, up, to, be, an, excellent, option, to, store, our, favourite, cds, and, dvds, and, keep, them, in, a, small, space, at, our, living, room,, giving, us, the, choice, to, donate, or, get, rid, of, those, cds, towers, that, took, a, lot, of, room,, despite, looking, nice., And, because, you, can, turn, the, pages,, you, can, spot, the, cd, you, want, to, play, without, the, hassle, of, taking, it, from, a, case, that, is, falling, apart., After, storing, them, cds,, ...]            \n",
       "8345    [A, few, dollars, more,, but, I, am, boycotting, amazon]                                                                                                                                                                                                                                                                                                                                                                                                                                                                                                                                                                                               \n",
       "8346    [My, initial, impression, of, this, was, very, good., The, material, is, nicer, than, the, shiny, stuff, on, my, Hama, CD, binders, and, the, netting, trim, gives, a, nice, appearance, compared, to, plain, look, of, most, budget, CD, binders.There, are, 50, pages, with, 8, disc, pockets, each, (4, per, side), giving, a, total, of, 400, capacity., The, pages, are, hung, from, the, spine, in, two, groups, of, 25., By, that, I, mean, that, 25, pages, all, have, a, single, attachment, point, to, the, plastic, spine.This, is, where, the, first, problem, with, this, binder, lies., Because, each, group, of, 25, pages, shares, ...]\n",
       "8347    [Pros:, Standard, Echo., Cons:, Older, generation, Echo., Other, Thoughts:, Arrived, on, time, and, was, new, in, box.]                                                                                                                                                                                                                                                                                                                                                                                                                                                                                                                                \n",
       "Name: tokens, dtype: object"
      ]
     },
     "execution_count": 43,
     "metadata": {},
     "output_type": "execute_result"
    }
   ],
   "source": [
    "df['tokens'].head()"
   ]
  },
  {
   "cell_type": "code",
   "execution_count": 44,
   "metadata": {},
   "outputs": [],
   "source": [
    "wc = count(df['tokens'])"
   ]
  },
  {
   "cell_type": "code",
   "execution_count": 45,
   "metadata": {},
   "outputs": [
    {
     "data": {
      "text/html": [
       "<div>\n",
       "<style scoped>\n",
       "    .dataframe tbody tr th:only-of-type {\n",
       "        vertical-align: middle;\n",
       "    }\n",
       "\n",
       "    .dataframe tbody tr th {\n",
       "        vertical-align: top;\n",
       "    }\n",
       "\n",
       "    .dataframe thead th {\n",
       "        text-align: right;\n",
       "    }\n",
       "</style>\n",
       "<table border=\"1\" class=\"dataframe\">\n",
       "  <thead>\n",
       "    <tr style=\"text-align: right;\">\n",
       "      <th></th>\n",
       "      <th>word</th>\n",
       "      <th>appears_in</th>\n",
       "      <th>count</th>\n",
       "      <th>rank</th>\n",
       "      <th>pct_total</th>\n",
       "      <th>cul_pct_total</th>\n",
       "      <th>appears_in_pct</th>\n",
       "    </tr>\n",
       "  </thead>\n",
       "  <tbody>\n",
       "    <tr>\n",
       "      <th>55</th>\n",
       "      <td>the</td>\n",
       "      <td>7230</td>\n",
       "      <td>15157</td>\n",
       "      <td>1.0</td>\n",
       "      <td>0.035131</td>\n",
       "      <td>0.035131</td>\n",
       "      <td>0.516613</td>\n",
       "    </tr>\n",
       "    <tr>\n",
       "      <th>51</th>\n",
       "      <td>and</td>\n",
       "      <td>8438</td>\n",
       "      <td>13734</td>\n",
       "      <td>2.0</td>\n",
       "      <td>0.031832</td>\n",
       "      <td>0.066963</td>\n",
       "      <td>0.602930</td>\n",
       "    </tr>\n",
       "    <tr>\n",
       "      <th>9</th>\n",
       "      <td>to</td>\n",
       "      <td>7090</td>\n",
       "      <td>12621</td>\n",
       "      <td>3.0</td>\n",
       "      <td>0.029253</td>\n",
       "      <td>0.096216</td>\n",
       "      <td>0.506610</td>\n",
       "    </tr>\n",
       "    <tr>\n",
       "      <th>37</th>\n",
       "      <td>for</td>\n",
       "      <td>7811</td>\n",
       "      <td>11753</td>\n",
       "      <td>4.0</td>\n",
       "      <td>0.027241</td>\n",
       "      <td>0.123457</td>\n",
       "      <td>0.558128</td>\n",
       "    </tr>\n",
       "    <tr>\n",
       "      <th>113</th>\n",
       "      <td>I</td>\n",
       "      <td>5846</td>\n",
       "      <td>11554</td>\n",
       "      <td>5.0</td>\n",
       "      <td>0.026780</td>\n",
       "      <td>0.150237</td>\n",
       "      <td>0.417721</td>\n",
       "    </tr>\n",
       "  </tbody>\n",
       "</table>\n",
       "</div>"
      ],
      "text/plain": [
       "    word  appears_in  count  rank  pct_total  cul_pct_total  appears_in_pct\n",
       "55   the  7230        15157  1.0   0.035131   0.035131       0.516613      \n",
       "51   and  8438        13734  2.0   0.031832   0.066963       0.602930      \n",
       "9    to   7090        12621  3.0   0.029253   0.096216       0.506610      \n",
       "37   for  7811        11753  4.0   0.027241   0.123457       0.558128      \n",
       "113  I    5846        11554  5.0   0.026780   0.150237       0.417721      "
      ]
     },
     "execution_count": 45,
     "metadata": {},
     "output_type": "execute_result"
    }
   ],
   "source": [
    "wc.head()"
   ]
  },
  {
   "cell_type": "code",
   "execution_count": 46,
   "metadata": {},
   "outputs": [
    {
     "data": {
      "image/png": "[encoded data removed]",
      "text/plain": [
       "<Figure size 432x288 with 1 Axes>"
      ]
     },
     "metadata": {
      "needs_background": "light"
     },
     "output_type": "display_data"
    }
   ],
   "source": [
    "wc_top20 = wc[wc['rank'] <= 20]\n",
    "\n",
    "squarify.plot(sizes=wc_top20['pct_total'], label=wc_top20['word'], alpha=.8 )\n",
    "plt.axis('off')\n",
    "plt.show()"
   ]
  },
  {
   "cell_type": "markdown",
   "metadata": {
    "toc-hr-collapsed": true
   },
   "source": [
    "## Challenge\n",
    "\n",
    "In the module project, you will apply tokenization to another set of review data and produce visualizations of those tokens. "
   ]
  },
  {
   "cell_type": "code",
   "execution_count": 47,
   "metadata": {},
   "outputs": [
    {
     "data": {
      "text/plain": [
       "['id',\n",
       " 'dateAdded',\n",
       " 'dateUpdated',\n",
       " 'name',\n",
       " 'asins',\n",
       " 'brand',\n",
       " 'categories',\n",
       " 'primaryCategories',\n",
       " 'imageURLs',\n",
       " 'keys',\n",
       " 'manufacturer',\n",
       " 'manufacturerNumber',\n",
       " 'reviews.date',\n",
       " 'reviews.dateSeen',\n",
       " 'reviews.didPurchase',\n",
       " 'reviews.doRecommend',\n",
       " 'reviews.id',\n",
       " 'reviews.numHelpful',\n",
       " 'reviews.rating',\n",
       " 'reviews.sourceURLs',\n",
       " 'reviews.text',\n",
       " 'reviews.title',\n",
       " 'reviews.username',\n",
       " 'sourceURLs',\n",
       " 'tokens']"
      ]
     },
     "execution_count": 47,
     "metadata": {},
     "output_type": "execute_result"
    }
   ],
   "source": [
    "list(df)"
   ]
  },
  {
   "cell_type": "markdown",
   "metadata": {
    "toc-hr-collapsed": false
   },
   "source": [
    "# Stop Words (Learn)\n",
    "<a id=\"p2\"></a>"
   ]
  },
  {
   "cell_type": "markdown",
   "metadata": {},
   "source": [
    "## Overview\n",
    "Section Agenda\n",
    "- What are they?\n",
    "- How do we get rid of them using Spacy?\n",
    "- Visualization\n",
    "- Libraries of Stop Words\n",
    "- Extending Stop Words\n",
    "- Statistical trimming\n",
    "\n",
    "If the visualizations above, you began to notice a pattern. Most of the words don't really add much to our understanding of product reviews. Words such as \"I\", \"and\", \"of\", etc. have almost no semantic meaning to us. We call these useless words \"stop words,\" because we should 'stop' ourselves from including them in the analysis. \n",
    "\n",
    "Most NLP libraries have built in lists of stop words that common english words: conjunctions, articles, adverbs, pronouns, and common verbs. The best practice, however, is to extend/customize these standard english stopwords for your problem's domain. If I am studying political science, I may want to exclude the word \"politics\" from my analysis; it's so common it does not add to my understanding. "
   ]
  },
  {
   "cell_type": "markdown",
   "metadata": {
    "toc-hr-collapsed": true
   },
   "source": [
    "## Follow Along \n",
    "\n",
    "### Default Stop Words\n",
    "Let's take a look at the standard stop words that came with our Spacy model:"
   ]
  },
  {
   "cell_type": "code",
   "execution_count": 48,
   "metadata": {},
   "outputs": [
    {
     "data": {
      "text/plain": [
       "{\"'d\",\n",
       " \"'ll\",\n",
       " \"'m\",\n",
       " \"'re\",\n",
       " \"'s\",\n",
       " \"'ve\",\n",
       " 'a',\n",
       " 'about',\n",
       " 'above',\n",
       " 'across',\n",
       " 'after',\n",
       " 'afterwards',\n",
       " 'again',\n",
       " 'against',\n",
       " 'all',\n",
       " 'almost',\n",
       " 'alone',\n",
       " 'along',\n",
       " 'already',\n",
       " 'also',\n",
       " 'although',\n",
       " 'always',\n",
       " 'am',\n",
       " 'among',\n",
       " 'amongst',\n",
       " 'amount',\n",
       " 'an',\n",
       " 'and',\n",
       " 'another',\n",
       " 'any',\n",
       " 'anyhow',\n",
       " 'anyone',\n",
       " 'anything',\n",
       " 'anyway',\n",
       " 'anywhere',\n",
       " 'are',\n",
       " 'around',\n",
       " 'as',\n",
       " 'at',\n",
       " 'back',\n",
       " 'be',\n",
       " 'became',\n",
       " 'because',\n",
       " 'become',\n",
       " 'becomes',\n",
       " 'becoming',\n",
       " 'been',\n",
       " 'before',\n",
       " 'beforehand',\n",
       " 'behind',\n",
       " 'being',\n",
       " 'below',\n",
       " 'beside',\n",
       " 'besides',\n",
       " 'between',\n",
       " 'beyond',\n",
       " 'both',\n",
       " 'bottom',\n",
       " 'but',\n",
       " 'by',\n",
       " 'ca',\n",
       " 'call',\n",
       " 'can',\n",
       " 'cannot',\n",
       " 'could',\n",
       " 'did',\n",
       " 'do',\n",
       " 'does',\n",
       " 'doing',\n",
       " 'done',\n",
       " 'down',\n",
       " 'due',\n",
       " 'during',\n",
       " 'each',\n",
       " 'eight',\n",
       " 'either',\n",
       " 'eleven',\n",
       " 'else',\n",
       " 'elsewhere',\n",
       " 'empty',\n",
       " 'enough',\n",
       " 'even',\n",
       " 'ever',\n",
       " 'every',\n",
       " 'everyone',\n",
       " 'everything',\n",
       " 'everywhere',\n",
       " 'except',\n",
       " 'few',\n",
       " 'fifteen',\n",
       " 'fifty',\n",
       " 'first',\n",
       " 'five',\n",
       " 'for',\n",
       " 'former',\n",
       " 'formerly',\n",
       " 'forty',\n",
       " 'four',\n",
       " 'from',\n",
       " 'front',\n",
       " 'full',\n",
       " 'further',\n",
       " 'get',\n",
       " 'give',\n",
       " 'go',\n",
       " 'had',\n",
       " 'has',\n",
       " 'have',\n",
       " 'he',\n",
       " 'hence',\n",
       " 'her',\n",
       " 'here',\n",
       " 'hereafter',\n",
       " 'hereby',\n",
       " 'herein',\n",
       " 'hereupon',\n",
       " 'hers',\n",
       " 'herself',\n",
       " 'him',\n",
       " 'himself',\n",
       " 'his',\n",
       " 'how',\n",
       " 'however',\n",
       " 'hundred',\n",
       " 'i',\n",
       " 'if',\n",
       " 'in',\n",
       " 'indeed',\n",
       " 'into',\n",
       " 'is',\n",
       " 'it',\n",
       " 'its',\n",
       " 'itself',\n",
       " 'just',\n",
       " 'keep',\n",
       " 'last',\n",
       " 'latter',\n",
       " 'latterly',\n",
       " 'least',\n",
       " 'less',\n",
       " 'made',\n",
       " 'make',\n",
       " 'many',\n",
       " 'may',\n",
       " 'me',\n",
       " 'meanwhile',\n",
       " 'might',\n",
       " 'mine',\n",
       " 'more',\n",
       " 'moreover',\n",
       " 'most',\n",
       " 'mostly',\n",
       " 'move',\n",
       " 'much',\n",
       " 'must',\n",
       " 'my',\n",
       " 'myself',\n",
       " \"n't\",\n",
       " 'name',\n",
       " 'namely',\n",
       " 'neither',\n",
       " 'never',\n",
       " 'nevertheless',\n",
       " 'next',\n",
       " 'nine',\n",
       " 'no',\n",
       " 'nobody',\n",
       " 'none',\n",
       " 'noone',\n",
       " 'nor',\n",
       " 'not',\n",
       " 'nothing',\n",
       " 'now',\n",
       " 'nowhere',\n",
       " 'n‘t',\n",
       " 'n’t',\n",
       " 'of',\n",
       " 'off',\n",
       " 'often',\n",
       " 'on',\n",
       " 'once',\n",
       " 'one',\n",
       " 'only',\n",
       " 'onto',\n",
       " 'or',\n",
       " 'other',\n",
       " 'others',\n",
       " 'otherwise',\n",
       " 'our',\n",
       " 'ours',\n",
       " 'ourselves',\n",
       " 'out',\n",
       " 'over',\n",
       " 'own',\n",
       " 'part',\n",
       " 'per',\n",
       " 'perhaps',\n",
       " 'please',\n",
       " 'put',\n",
       " 'quite',\n",
       " 'rather',\n",
       " 're',\n",
       " 'really',\n",
       " 'regarding',\n",
       " 'same',\n",
       " 'say',\n",
       " 'see',\n",
       " 'seem',\n",
       " 'seemed',\n",
       " 'seeming',\n",
       " 'seems',\n",
       " 'serious',\n",
       " 'several',\n",
       " 'she',\n",
       " 'should',\n",
       " 'show',\n",
       " 'side',\n",
       " 'since',\n",
       " 'six',\n",
       " 'sixty',\n",
       " 'so',\n",
       " 'some',\n",
       " 'somehow',\n",
       " 'someone',\n",
       " 'something',\n",
       " 'sometime',\n",
       " 'sometimes',\n",
       " 'somewhere',\n",
       " 'still',\n",
       " 'such',\n",
       " 'take',\n",
       " 'ten',\n",
       " 'than',\n",
       " 'that',\n",
       " 'the',\n",
       " 'their',\n",
       " 'them',\n",
       " 'themselves',\n",
       " 'then',\n",
       " 'thence',\n",
       " 'there',\n",
       " 'thereafter',\n",
       " 'thereby',\n",
       " 'therefore',\n",
       " 'therein',\n",
       " 'thereupon',\n",
       " 'these',\n",
       " 'they',\n",
       " 'third',\n",
       " 'this',\n",
       " 'those',\n",
       " 'though',\n",
       " 'three',\n",
       " 'through',\n",
       " 'throughout',\n",
       " 'thru',\n",
       " 'thus',\n",
       " 'to',\n",
       " 'together',\n",
       " 'too',\n",
       " 'top',\n",
       " 'toward',\n",
       " 'towards',\n",
       " 'twelve',\n",
       " 'twenty',\n",
       " 'two',\n",
       " 'under',\n",
       " 'unless',\n",
       " 'until',\n",
       " 'up',\n",
       " 'upon',\n",
       " 'us',\n",
       " 'used',\n",
       " 'using',\n",
       " 'various',\n",
       " 'very',\n",
       " 'via',\n",
       " 'was',\n",
       " 'we',\n",
       " 'well',\n",
       " 'were',\n",
       " 'what',\n",
       " 'whatever',\n",
       " 'when',\n",
       " 'whence',\n",
       " 'whenever',\n",
       " 'where',\n",
       " 'whereafter',\n",
       " 'whereas',\n",
       " 'whereby',\n",
       " 'wherein',\n",
       " 'whereupon',\n",
       " 'wherever',\n",
       " 'whether',\n",
       " 'which',\n",
       " 'while',\n",
       " 'whither',\n",
       " 'who',\n",
       " 'whoever',\n",
       " 'whole',\n",
       " 'whom',\n",
       " 'whose',\n",
       " 'why',\n",
       " 'will',\n",
       " 'with',\n",
       " 'within',\n",
       " 'without',\n",
       " 'would',\n",
       " 'yet',\n",
       " 'you',\n",
       " 'your',\n",
       " 'yours',\n",
       " 'yourself',\n",
       " 'yourselves',\n",
       " '‘d',\n",
       " '‘ll',\n",
       " '‘m',\n",
       " '‘re',\n",
       " '‘s',\n",
       " '‘ve',\n",
       " '’d',\n",
       " '’ll',\n",
       " '’m',\n",
       " '’re',\n",
       " '’s',\n",
       " '’ve'}"
      ]
     },
     "execution_count": 48,
     "metadata": {},
     "output_type": "execute_result"
    }
   ],
   "source": [
    "# Spacy's Default Stop Words\n",
    "nlp.Defaults.stop_words"
   ]
  },
  {
   "cell_type": "code",
   "execution_count": 50,
   "metadata": {},
   "outputs": [],
   "source": [
    "tokens = []\n",
    "\n",
    "\"\"\" Update those tokens w/o stopwords\"\"\"\n",
    "for doc in tokenizer.pipe(df['reviews.text'], batch_size=500):\n",
    "    \n",
    "    doc_tokens = []\n",
    "    \n",
    "    for token in doc:\n",
    "        if (token.is_stop == False) & (token.is_punct == False):\n",
    "            doc_tokens.append(token.text.lower())\n",
    "\n",
    "    tokens.append(doc_tokens)\n",
    "\n",
    "df['tokens'] = tokens"
   ]
  },
  {
   "cell_type": "code",
   "execution_count": 51,
   "metadata": {},
   "outputs": [
    {
     "data": {
      "text/plain": [
       "8343    [great, case, place!, husband, love, it!!!!, holds, lot, cds!]                                                                                                                                                                                                                                                                                                                                                                                                                                                                                                                                                                                                                                                                                                \n",
       "8344    [discarding, getting, rid, broken, cd, cases,, broken, cds,, selecting, ones, like,, binder, turned, excellent, option, store, favourite, cds, dvds, small, space, living, room,, giving, choice, donate, rid, cds, towers, took, lot, room,, despite, looking, nice., turn, pages,, spot, cd, want, play, hassle, taking, case, falling, apart., storing, cds,, cases, printed, covers, went, straight, recycling, centre., small, version, cds, husband, like, listen, drive, away, work.]                                                                                                                                                                                                                                                                  \n",
       "8345    [dollars, more,, boycotting, amazon]                                                                                                                                                                                                                                                                                                                                                                                                                                                                                                                                                                                                                                                                                                                          \n",
       "8346    [initial, impression, good., material, nicer, shiny, stuff, hama, cd, binders, netting, trim, gives, nice, appearance, compared, plain, look, budget, cd, binders.there, 50, pages, 8, disc, pockets, (4, side), giving, total, 400, capacity., pages, hung, spine, groups, 25., mean, 25, pages, single, attachment, point, plastic, spine.this, problem, binder, lies., group, 25, pages, shares, anchor, point, spine,, pages, sit, flat, discs., bend, arch,, apart, looking, tatty, puts, lot, tension, plastic, film., long-term, usage, suspect, plastic, film, tear, tension., makes, awkward, browse, binder, pages, don't, sit, flat., crack, bend, discs.i, look, hama, 120, binder, *should*, 30, pages, smart, hang, spine, 3, bundles, 10., ...]\n",
       "8347    [pros:, standard, echo., cons:, older, generation, echo., thoughts:, arrived, time, new, box.]                                                                                                                                                                                                                                                                                                                                                                                                                                                                                                                                                                                                                                                                \n",
       "Name: tokens, dtype: object"
      ]
     },
     "execution_count": 51,
     "metadata": {},
     "output_type": "execute_result"
    }
   ],
   "source": [
    "df.tokens.head()"
   ]
  },
  {
   "cell_type": "code",
   "execution_count": 52,
   "metadata": {},
   "outputs": [
    {
     "data": {
      "image/png": "[encoded data removed]",
      "text/plain": [
       "<Figure size 432x288 with 1 Axes>"
      ]
     },
     "metadata": {
      "needs_background": "light"
     },
     "output_type": "display_data"
    }
   ],
   "source": [
    "wc = count(df['tokens'])\n",
    "\n",
    "wc_top20 = wc[wc['rank'] <= 20]\n",
    "\n",
    "squarify.plot(sizes=wc_top20['pct_total'], label=wc_top20['word'], alpha=.8 )\n",
    "plt.axis('off')\n",
    "plt.show()"
   ]
  },
  {
   "cell_type": "code",
   "execution_count": 56,
   "metadata": {},
   "outputs": [
    {
     "data": {
      "text/plain": [
       "(0.0, 100.0, 0.0, 100.0)"
      ]
     },
     "execution_count": 56,
     "metadata": {},
     "output_type": "execute_result"
    },
    {
     "data": {
      "image/png": "[encoded data removed]",
      "text/plain": [
       "<Figure size 1296x504 with 3 Axes>"
      ]
     },
     "metadata": {
      "needs_background": "light"
     },
     "output_type": "display_data"
    }
   ],
   "source": [
    "wc = count(df['tokens'])\n",
    "wc_fire_8 = count(df[df['FireHD_8'] == True]['tokens'])\n",
    "wc_kindle = count(df[df['Kindle'] == True]['tokens'])\n",
    "\n",
    "# Get top 20 word occurences for each set of data\n",
    "wc_top20 = wc[wc['rank'] <= 20]\n",
    "wc_fire_top20 = wc_fire_8[wc_fire_8['rank'] <= 20]\n",
    "wc_kindle_top20 = wc_kindle[wc_kindle['rank'] <= 20]\n",
    "\n",
    "fig, axes = plt.subplots(1, 3, figsize=(18, 7))\n",
    "axes[0].set_title('All Amazon Reviews')\n",
    "squarify.plot(sizes=wc_top20['pct_total'], label=wc_top20['word'], alpha=.8, ax=axes[0])\n",
    "axes[0].axis('off')\n",
    "axes[1].set_title('Fire HD 8 Tablet')\n",
    "squarify.plot(sizes=wc_fire_top20['pct_total'], label=wc_fire_top20['word'], alpha=.8, ax=axes[1])\n",
    "axes[1].axis('off')\n",
    "axes[2].set_title('Kindle')\n",
    "squarify.plot(sizes=wc_kindle_top20['pct_total'], label=wc_kindle_top20['word'], alpha=.8, ax=axes[2])\n",
    "axes[2].axis('off')\n"
   ]
  },
  {
   "cell_type": "code",
   "execution_count": 53,
   "metadata": {},
   "outputs": [
    {
     "data": {
      "text/plain": [
       "True     7146\n",
       "False    6849\n",
       "Name: FireHD_8, dtype: int64"
      ]
     },
     "execution_count": 53,
     "metadata": {},
     "output_type": "execute_result"
    }
   ],
   "source": [
    "#divide by each cell in numbers\n",
    "df['FireHD_8'] = df['name'].str.contains('fire hd 8', case=False)\n",
    "df['FireHD_8'].value_counts()"
   ]
  },
  {
   "cell_type": "code",
   "execution_count": null,
   "metadata": {},
   "outputs": [],
   "source": [
    "wc_fire_8 = count(df[df['FireHD_8'] == True]['tokens'])\n",
    "\n",
    "wc_kindle = count(df[df['Kindle'] == True]['tokens'])"
   ]
  },
  {
   "cell_type": "code",
   "execution_count": 54,
   "metadata": {},
   "outputs": [
    {
     "data": {
      "text/plain": [
       "False    13356\n",
       "True     639  \n",
       "Name: Kindle, dtype: int64"
      ]
     },
     "execution_count": 54,
     "metadata": {},
     "output_type": "execute_result"
    }
   ],
   "source": [
    "df['Kindle'] = df['name'].str.contains('kindle', case=False)\n",
    "df['Kindle'].value_counts()"
   ]
  },
  {
   "cell_type": "code",
   "execution_count": 58,
   "metadata": {},
   "outputs": [
    {
     "data": {
      "text/plain": [
       "'Friends, Romans, countrymen, lend me your ears;'"
      ]
     },
     "execution_count": 58,
     "metadata": {},
     "output_type": "execute_result"
    }
   ],
   "source": [
    "sample"
   ]
  },
  {
   "cell_type": "code",
   "execution_count": 59,
   "metadata": {},
   "outputs": [],
   "source": [
    "doc = nlp(sample)"
   ]
  },
  {
   "cell_type": "code",
   "execution_count": null,
   "metadata": {},
   "outputs": [],
   "source": [
    "#batch size is recommendation for spacy"
   ]
  },
  {
   "cell_type": "markdown",
   "metadata": {},
   "source": [
    "### Extending Stop Words"
   ]
  },
  {
   "cell_type": "code",
   "execution_count": 60,
   "metadata": {},
   "outputs": [
    {
     "name": "stdout",
     "output_type": "stream",
     "text": [
      "<class 'set'>\n"
     ]
    }
   ],
   "source": [
    "print(type(nlp.Defaults.stop_words))"
   ]
  },
  {
   "cell_type": "code",
   "execution_count": 61,
   "metadata": {},
   "outputs": [],
   "source": [
    "STOP_WORDS = nlp.Defaults.stop_words.union(['batteries','I', 'amazon', 'i', 'Amazon', 'it', \"it's\", 'it.', 'the', 'this',])"
   ]
  },
  {
   "cell_type": "code",
   "execution_count": 62,
   "metadata": {},
   "outputs": [
    {
     "data": {
      "text/plain": [
       "{\"'d\",\n",
       " \"'ll\",\n",
       " \"'m\",\n",
       " \"'re\",\n",
       " \"'s\",\n",
       " \"'ve\",\n",
       " 'Amazon',\n",
       " 'I',\n",
       " 'a',\n",
       " 'about',\n",
       " 'above',\n",
       " 'across',\n",
       " 'after',\n",
       " 'afterwards',\n",
       " 'again',\n",
       " 'against',\n",
       " 'all',\n",
       " 'almost',\n",
       " 'alone',\n",
       " 'along',\n",
       " 'already',\n",
       " 'also',\n",
       " 'although',\n",
       " 'always',\n",
       " 'am',\n",
       " 'amazon',\n",
       " 'among',\n",
       " 'amongst',\n",
       " 'amount',\n",
       " 'an',\n",
       " 'and',\n",
       " 'another',\n",
       " 'any',\n",
       " 'anyhow',\n",
       " 'anyone',\n",
       " 'anything',\n",
       " 'anyway',\n",
       " 'anywhere',\n",
       " 'are',\n",
       " 'around',\n",
       " 'as',\n",
       " 'at',\n",
       " 'back',\n",
       " 'batteries',\n",
       " 'be',\n",
       " 'became',\n",
       " 'because',\n",
       " 'become',\n",
       " 'becomes',\n",
       " 'becoming',\n",
       " 'been',\n",
       " 'before',\n",
       " 'beforehand',\n",
       " 'behind',\n",
       " 'being',\n",
       " 'below',\n",
       " 'beside',\n",
       " 'besides',\n",
       " 'between',\n",
       " 'beyond',\n",
       " 'both',\n",
       " 'bottom',\n",
       " 'but',\n",
       " 'by',\n",
       " 'ca',\n",
       " 'call',\n",
       " 'can',\n",
       " 'cannot',\n",
       " 'could',\n",
       " 'did',\n",
       " 'do',\n",
       " 'does',\n",
       " 'doing',\n",
       " 'done',\n",
       " 'down',\n",
       " 'due',\n",
       " 'during',\n",
       " 'each',\n",
       " 'eight',\n",
       " 'either',\n",
       " 'eleven',\n",
       " 'else',\n",
       " 'elsewhere',\n",
       " 'empty',\n",
       " 'enough',\n",
       " 'even',\n",
       " 'ever',\n",
       " 'every',\n",
       " 'everyone',\n",
       " 'everything',\n",
       " 'everywhere',\n",
       " 'except',\n",
       " 'few',\n",
       " 'fifteen',\n",
       " 'fifty',\n",
       " 'first',\n",
       " 'five',\n",
       " 'for',\n",
       " 'former',\n",
       " 'formerly',\n",
       " 'forty',\n",
       " 'four',\n",
       " 'from',\n",
       " 'front',\n",
       " 'full',\n",
       " 'further',\n",
       " 'get',\n",
       " 'give',\n",
       " 'go',\n",
       " 'had',\n",
       " 'has',\n",
       " 'have',\n",
       " 'he',\n",
       " 'hence',\n",
       " 'her',\n",
       " 'here',\n",
       " 'hereafter',\n",
       " 'hereby',\n",
       " 'herein',\n",
       " 'hereupon',\n",
       " 'hers',\n",
       " 'herself',\n",
       " 'him',\n",
       " 'himself',\n",
       " 'his',\n",
       " 'how',\n",
       " 'however',\n",
       " 'hundred',\n",
       " 'i',\n",
       " 'if',\n",
       " 'in',\n",
       " 'indeed',\n",
       " 'into',\n",
       " 'is',\n",
       " 'it',\n",
       " \"it's\",\n",
       " 'it.',\n",
       " 'its',\n",
       " 'itself',\n",
       " 'just',\n",
       " 'keep',\n",
       " 'last',\n",
       " 'latter',\n",
       " 'latterly',\n",
       " 'least',\n",
       " 'less',\n",
       " 'made',\n",
       " 'make',\n",
       " 'many',\n",
       " 'may',\n",
       " 'me',\n",
       " 'meanwhile',\n",
       " 'might',\n",
       " 'mine',\n",
       " 'more',\n",
       " 'moreover',\n",
       " 'most',\n",
       " 'mostly',\n",
       " 'move',\n",
       " 'much',\n",
       " 'must',\n",
       " 'my',\n",
       " 'myself',\n",
       " \"n't\",\n",
       " 'name',\n",
       " 'namely',\n",
       " 'neither',\n",
       " 'never',\n",
       " 'nevertheless',\n",
       " 'next',\n",
       " 'nine',\n",
       " 'no',\n",
       " 'nobody',\n",
       " 'none',\n",
       " 'noone',\n",
       " 'nor',\n",
       " 'not',\n",
       " 'nothing',\n",
       " 'now',\n",
       " 'nowhere',\n",
       " 'n‘t',\n",
       " 'n’t',\n",
       " 'of',\n",
       " 'off',\n",
       " 'often',\n",
       " 'on',\n",
       " 'once',\n",
       " 'one',\n",
       " 'only',\n",
       " 'onto',\n",
       " 'or',\n",
       " 'other',\n",
       " 'others',\n",
       " 'otherwise',\n",
       " 'our',\n",
       " 'ours',\n",
       " 'ourselves',\n",
       " 'out',\n",
       " 'over',\n",
       " 'own',\n",
       " 'part',\n",
       " 'per',\n",
       " 'perhaps',\n",
       " 'please',\n",
       " 'put',\n",
       " 'quite',\n",
       " 'rather',\n",
       " 're',\n",
       " 'really',\n",
       " 'regarding',\n",
       " 'same',\n",
       " 'say',\n",
       " 'see',\n",
       " 'seem',\n",
       " 'seemed',\n",
       " 'seeming',\n",
       " 'seems',\n",
       " 'serious',\n",
       " 'several',\n",
       " 'she',\n",
       " 'should',\n",
       " 'show',\n",
       " 'side',\n",
       " 'since',\n",
       " 'six',\n",
       " 'sixty',\n",
       " 'so',\n",
       " 'some',\n",
       " 'somehow',\n",
       " 'someone',\n",
       " 'something',\n",
       " 'sometime',\n",
       " 'sometimes',\n",
       " 'somewhere',\n",
       " 'still',\n",
       " 'such',\n",
       " 'take',\n",
       " 'ten',\n",
       " 'than',\n",
       " 'that',\n",
       " 'the',\n",
       " 'their',\n",
       " 'them',\n",
       " 'themselves',\n",
       " 'then',\n",
       " 'thence',\n",
       " 'there',\n",
       " 'thereafter',\n",
       " 'thereby',\n",
       " 'therefore',\n",
       " 'therein',\n",
       " 'thereupon',\n",
       " 'these',\n",
       " 'they',\n",
       " 'third',\n",
       " 'this',\n",
       " 'those',\n",
       " 'though',\n",
       " 'three',\n",
       " 'through',\n",
       " 'throughout',\n",
       " 'thru',\n",
       " 'thus',\n",
       " 'to',\n",
       " 'together',\n",
       " 'too',\n",
       " 'top',\n",
       " 'toward',\n",
       " 'towards',\n",
       " 'twelve',\n",
       " 'twenty',\n",
       " 'two',\n",
       " 'under',\n",
       " 'unless',\n",
       " 'until',\n",
       " 'up',\n",
       " 'upon',\n",
       " 'us',\n",
       " 'used',\n",
       " 'using',\n",
       " 'various',\n",
       " 'very',\n",
       " 'via',\n",
       " 'was',\n",
       " 'we',\n",
       " 'well',\n",
       " 'were',\n",
       " 'what',\n",
       " 'whatever',\n",
       " 'when',\n",
       " 'whence',\n",
       " 'whenever',\n",
       " 'where',\n",
       " 'whereafter',\n",
       " 'whereas',\n",
       " 'whereby',\n",
       " 'wherein',\n",
       " 'whereupon',\n",
       " 'wherever',\n",
       " 'whether',\n",
       " 'which',\n",
       " 'while',\n",
       " 'whither',\n",
       " 'who',\n",
       " 'whoever',\n",
       " 'whole',\n",
       " 'whom',\n",
       " 'whose',\n",
       " 'why',\n",
       " 'will',\n",
       " 'with',\n",
       " 'within',\n",
       " 'without',\n",
       " 'would',\n",
       " 'yet',\n",
       " 'you',\n",
       " 'your',\n",
       " 'yours',\n",
       " 'yourself',\n",
       " 'yourselves',\n",
       " '‘d',\n",
       " '‘ll',\n",
       " '‘m',\n",
       " '‘re',\n",
       " '‘s',\n",
       " '‘ve',\n",
       " '’d',\n",
       " '’ll',\n",
       " '’m',\n",
       " '’re',\n",
       " '’s',\n",
       " '’ve'}"
      ]
     },
     "execution_count": 62,
     "metadata": {},
     "output_type": "execute_result"
    }
   ],
   "source": [
    "STOP_WORDS"
   ]
  },
  {
   "cell_type": "code",
   "execution_count": 63,
   "metadata": {},
   "outputs": [],
   "source": [
    "tokens = []\n",
    "\n",
    "for doc in tokenizer.pipe(df['reviews.text'], batch_size=500):\n",
    "    \n",
    "    doc_tokens = []\n",
    "    \n",
    "    for token in doc: \n",
    "        if token.text.lower() not in STOP_WORDS:\n",
    "            doc_tokens.append(token.text.lower())\n",
    "   \n",
    "    tokens.append(doc_tokens)\n",
    "    \n",
    "df['tokens'] = tokens"
   ]
  },
  {
   "cell_type": "code",
   "execution_count": 64,
   "metadata": {},
   "outputs": [
    {
     "data": {
      "text/html": [
       "<div>\n",
       "<style scoped>\n",
       "    .dataframe tbody tr th:only-of-type {\n",
       "        vertical-align: middle;\n",
       "    }\n",
       "\n",
       "    .dataframe tbody tr th {\n",
       "        vertical-align: top;\n",
       "    }\n",
       "\n",
       "    .dataframe thead th {\n",
       "        text-align: right;\n",
       "    }\n",
       "</style>\n",
       "<table border=\"1\" class=\"dataframe\">\n",
       "  <thead>\n",
       "    <tr style=\"text-align: right;\">\n",
       "      <th></th>\n",
       "      <th>word</th>\n",
       "      <th>appears_in</th>\n",
       "      <th>count</th>\n",
       "      <th>rank</th>\n",
       "      <th>pct_total</th>\n",
       "      <th>cul_pct_total</th>\n",
       "      <th>appears_in_pct</th>\n",
       "    </tr>\n",
       "  </thead>\n",
       "  <tbody>\n",
       "    <tr>\n",
       "      <th>7</th>\n",
       "      <td>great</td>\n",
       "      <td>3620</td>\n",
       "      <td>4181</td>\n",
       "      <td>1.0</td>\n",
       "      <td>0.020612</td>\n",
       "      <td>0.020612</td>\n",
       "      <td>0.258664</td>\n",
       "    </tr>\n",
       "    <tr>\n",
       "      <th>1515</th>\n",
       "      <td>tablet</td>\n",
       "      <td>3463</td>\n",
       "      <td>4176</td>\n",
       "      <td>2.0</td>\n",
       "      <td>0.020588</td>\n",
       "      <td>0.041200</td>\n",
       "      <td>0.247446</td>\n",
       "    </tr>\n",
       "    <tr>\n",
       "      <th>6</th>\n",
       "      <td>love</td>\n",
       "      <td>2234</td>\n",
       "      <td>2465</td>\n",
       "      <td>3.0</td>\n",
       "      <td>0.012152</td>\n",
       "      <td>0.053352</td>\n",
       "      <td>0.159628</td>\n",
       "    </tr>\n",
       "    <tr>\n",
       "      <th>1192</th>\n",
       "      <td>bought</td>\n",
       "      <td>2194</td>\n",
       "      <td>2327</td>\n",
       "      <td>4.0</td>\n",
       "      <td>0.011472</td>\n",
       "      <td>0.064824</td>\n",
       "      <td>0.156770</td>\n",
       "    </tr>\n",
       "    <tr>\n",
       "      <th>109</th>\n",
       "      <td>easy</td>\n",
       "      <td>2107</td>\n",
       "      <td>2275</td>\n",
       "      <td>5.0</td>\n",
       "      <td>0.011216</td>\n",
       "      <td>0.076040</td>\n",
       "      <td>0.150554</td>\n",
       "    </tr>\n",
       "  </tbody>\n",
       "</table>\n",
       "</div>"
      ],
      "text/plain": [
       "        word  appears_in  count  rank  pct_total  cul_pct_total  \\\n",
       "7     great   3620        4181   1.0   0.020612   0.020612        \n",
       "1515  tablet  3463        4176   2.0   0.020588   0.041200        \n",
       "6     love    2234        2465   3.0   0.012152   0.053352        \n",
       "1192  bought  2194        2327   4.0   0.011472   0.064824        \n",
       "109   easy    2107        2275   5.0   0.011216   0.076040        \n",
       "\n",
       "      appears_in_pct  \n",
       "7     0.258664        \n",
       "1515  0.247446        \n",
       "6     0.159628        \n",
       "1192  0.156770        \n",
       "109   0.150554        "
      ]
     },
     "execution_count": 64,
     "metadata": {},
     "output_type": "execute_result"
    }
   ],
   "source": [
    "wc = count(df['tokens'])\n",
    "wc.head()"
   ]
  },
  {
   "cell_type": "code",
   "execution_count": 65,
   "metadata": {},
   "outputs": [
    {
     "data": {
      "image/png": "[encoded data removed]",
      "text/plain": [
       "<Figure size 432x288 with 1 Axes>"
      ]
     },
     "metadata": {
      "needs_background": "light"
     },
     "output_type": "display_data"
    }
   ],
   "source": [
    "wc_top20 = wc[wc['rank'] <= 20]\n",
    "\n",
    "squarify.plot(sizes=wc_top20['pct_total'], label=wc_top20['word'], alpha=.8 )\n",
    "plt.axis('off')\n",
    "plt.show()"
   ]
  },
  {
   "cell_type": "code",
   "execution_count": 66,
   "metadata": {},
   "outputs": [
    {
     "data": {
      "text/plain": [
       "5    9371\n",
       "4    3703\n",
       "3    551 \n",
       "1    187 \n",
       "2    183 \n",
       "Name: reviews.rating, dtype: int64"
      ]
     },
     "execution_count": 66,
     "metadata": {},
     "output_type": "execute_result"
    }
   ],
   "source": [
    "df['reviews.rating'].value_counts()"
   ]
  },
  {
   "cell_type": "markdown",
   "metadata": {},
   "source": [
    "### Statistical Trimming\n",
    "\n",
    "So far, we have talked about stop word in relation to either broad english words or domain specific stop words. Another common approach to stop word removal is via statistical trimming. The basic idea: preserve the words that give the most about of variation in your data. \n",
    "\n",
    "Do you remember this graph?"
   ]
  },
  {
   "cell_type": "code",
   "execution_count": 67,
   "metadata": {},
   "outputs": [
    {
     "data": {
      "image/png": "[encoded data removed]",
      "text/plain": [
       "<Figure size 432x288 with 1 Axes>"
      ]
     },
     "metadata": {
      "needs_background": "light"
     },
     "output_type": "display_data"
    }
   ],
   "source": [
    "sns.lineplot(x='rank', y='cul_pct_total', data=wc);"
   ]
  },
  {
   "cell_type": "markdown",
   "metadata": {},
   "source": [
    "This graph tells us that only a *handful* of words represented 80% of words in the overall corpus. We can interpret this in two ways: \n",
    "1. The words that appear most frequently may not provide any insight into the mean on the documents since they are so prevalent. \n",
    "2. Words that appear infrequency (at the end of the graph) also probably do not add much value, because the are mentioned so rarely. \n",
    "\n",
    "Let's take a look at the words at the bottom and the top and make a decision for ourselves:"
   ]
  },
  {
   "cell_type": "code",
   "execution_count": 68,
   "metadata": {},
   "outputs": [
    {
     "data": {
      "text/html": [
       "<div>\n",
       "<style scoped>\n",
       "    .dataframe tbody tr th:only-of-type {\n",
       "        vertical-align: middle;\n",
       "    }\n",
       "\n",
       "    .dataframe tbody tr th {\n",
       "        vertical-align: top;\n",
       "    }\n",
       "\n",
       "    .dataframe thead th {\n",
       "        text-align: right;\n",
       "    }\n",
       "</style>\n",
       "<table border=\"1\" class=\"dataframe\">\n",
       "  <thead>\n",
       "    <tr style=\"text-align: right;\">\n",
       "      <th></th>\n",
       "      <th>word</th>\n",
       "      <th>appears_in</th>\n",
       "      <th>count</th>\n",
       "      <th>rank</th>\n",
       "      <th>pct_total</th>\n",
       "      <th>cul_pct_total</th>\n",
       "      <th>appears_in_pct</th>\n",
       "    </tr>\n",
       "  </thead>\n",
       "  <tbody>\n",
       "    <tr>\n",
       "      <th>14454</th>\n",
       "      <td>say.................................................it's</td>\n",
       "      <td>1</td>\n",
       "      <td>1</td>\n",
       "      <td>14454.0</td>\n",
       "      <td>0.000005</td>\n",
       "      <td>0.999906</td>\n",
       "      <td>0.000071</td>\n",
       "    </tr>\n",
       "    <tr>\n",
       "      <th>14453</th>\n",
       "      <td>kindlelishous!!!!!!!!!!!!!</td>\n",
       "      <td>1</td>\n",
       "      <td>1</td>\n",
       "      <td>14455.0</td>\n",
       "      <td>0.000005</td>\n",
       "      <td>0.999911</td>\n",
       "      <td>0.000071</td>\n",
       "    </tr>\n",
       "    <tr>\n",
       "      <th>14455</th>\n",
       "      <td>competent,</td>\n",
       "      <td>1</td>\n",
       "      <td>1</td>\n",
       "      <td>14456.0</td>\n",
       "      <td>0.000005</td>\n",
       "      <td>0.999916</td>\n",
       "      <td>0.000071</td>\n",
       "    </tr>\n",
       "    <tr>\n",
       "      <th>14456</th>\n",
       "      <td>3-year-old,</td>\n",
       "      <td>1</td>\n",
       "      <td>1</td>\n",
       "      <td>14457.0</td>\n",
       "      <td>0.000005</td>\n",
       "      <td>0.999921</td>\n",
       "      <td>0.000071</td>\n",
       "    </tr>\n",
       "    <tr>\n",
       "      <th>14457</th>\n",
       "      <td>objective</td>\n",
       "      <td>1</td>\n",
       "      <td>1</td>\n",
       "      <td>14458.0</td>\n",
       "      <td>0.000005</td>\n",
       "      <td>0.999926</td>\n",
       "      <td>0.000071</td>\n",
       "    </tr>\n",
       "    <tr>\n",
       "      <th>14459</th>\n",
       "      <td>dollars.my</td>\n",
       "      <td>1</td>\n",
       "      <td>1</td>\n",
       "      <td>14459.0</td>\n",
       "      <td>0.000005</td>\n",
       "      <td>0.999931</td>\n",
       "      <td>0.000071</td>\n",
       "    </tr>\n",
       "    <tr>\n",
       "      <th>14460</th>\n",
       "      <td>relies</td>\n",
       "      <td>1</td>\n",
       "      <td>1</td>\n",
       "      <td>14460.0</td>\n",
       "      <td>0.000005</td>\n",
       "      <td>0.999936</td>\n",
       "      <td>0.000071</td>\n",
       "    </tr>\n",
       "    <tr>\n",
       "      <th>14458</th>\n",
       "      <td>gps.</td>\n",
       "      <td>1</td>\n",
       "      <td>1</td>\n",
       "      <td>14461.0</td>\n",
       "      <td>0.000005</td>\n",
       "      <td>0.999941</td>\n",
       "      <td>0.000071</td>\n",
       "    </tr>\n",
       "    <tr>\n",
       "      <th>14461</th>\n",
       "      <td>readi,g</td>\n",
       "      <td>1</td>\n",
       "      <td>1</td>\n",
       "      <td>14462.0</td>\n",
       "      <td>0.000005</td>\n",
       "      <td>0.999946</td>\n",
       "      <td>0.000071</td>\n",
       "    </tr>\n",
       "    <tr>\n",
       "      <th>14464</th>\n",
       "      <td>perfectly..great</td>\n",
       "      <td>1</td>\n",
       "      <td>1</td>\n",
       "      <td>14463.0</td>\n",
       "      <td>0.000005</td>\n",
       "      <td>0.999951</td>\n",
       "      <td>0.000071</td>\n",
       "    </tr>\n",
       "    <tr>\n",
       "      <th>14465</th>\n",
       "      <td>closes.</td>\n",
       "      <td>1</td>\n",
       "      <td>1</td>\n",
       "      <td>14464.0</td>\n",
       "      <td>0.000005</td>\n",
       "      <td>0.999956</td>\n",
       "      <td>0.000071</td>\n",
       "    </tr>\n",
       "    <tr>\n",
       "      <th>14467</th>\n",
       "      <td>blanking</td>\n",
       "      <td>1</td>\n",
       "      <td>1</td>\n",
       "      <td>14465.0</td>\n",
       "      <td>0.000005</td>\n",
       "      <td>0.999961</td>\n",
       "      <td>0.000071</td>\n",
       "    </tr>\n",
       "    <tr>\n",
       "      <th>14462</th>\n",
       "      <td>app\"</td>\n",
       "      <td>1</td>\n",
       "      <td>1</td>\n",
       "      <td>14466.0</td>\n",
       "      <td>0.000005</td>\n",
       "      <td>0.999965</td>\n",
       "      <td>0.000071</td>\n",
       "    </tr>\n",
       "    <tr>\n",
       "      <th>14466</th>\n",
       "      <td>have...then</td>\n",
       "      <td>1</td>\n",
       "      <td>1</td>\n",
       "      <td>14467.0</td>\n",
       "      <td>0.000005</td>\n",
       "      <td>0.999970</td>\n",
       "      <td>0.000071</td>\n",
       "    </tr>\n",
       "    <tr>\n",
       "      <th>14463</th>\n",
       "      <td>error.</td>\n",
       "      <td>1</td>\n",
       "      <td>1</td>\n",
       "      <td>14468.0</td>\n",
       "      <td>0.000005</td>\n",
       "      <td>0.999975</td>\n",
       "      <td>0.000071</td>\n",
       "    </tr>\n",
       "    <tr>\n",
       "      <th>14468</th>\n",
       "      <td>moztly</td>\n",
       "      <td>1</td>\n",
       "      <td>1</td>\n",
       "      <td>14469.0</td>\n",
       "      <td>0.000005</td>\n",
       "      <td>0.999980</td>\n",
       "      <td>0.000071</td>\n",
       "    </tr>\n",
       "    <tr>\n",
       "      <th>14469</th>\n",
       "      <td>titles,</td>\n",
       "      <td>1</td>\n",
       "      <td>1</td>\n",
       "      <td>14470.0</td>\n",
       "      <td>0.000005</td>\n",
       "      <td>0.999985</td>\n",
       "      <td>0.000071</td>\n",
       "    </tr>\n",
       "    <tr>\n",
       "      <th>14470</th>\n",
       "      <td>it..better</td>\n",
       "      <td>1</td>\n",
       "      <td>1</td>\n",
       "      <td>14471.0</td>\n",
       "      <td>0.000005</td>\n",
       "      <td>0.999990</td>\n",
       "      <td>0.000071</td>\n",
       "    </tr>\n",
       "    <tr>\n",
       "      <th>14471</th>\n",
       "      <td>shows/movies!</td>\n",
       "      <td>1</td>\n",
       "      <td>1</td>\n",
       "      <td>14472.0</td>\n",
       "      <td>0.000005</td>\n",
       "      <td>0.999995</td>\n",
       "      <td>0.000071</td>\n",
       "    </tr>\n",
       "    <tr>\n",
       "      <th>14472</th>\n",
       "      <td>bookreader.</td>\n",
       "      <td>1</td>\n",
       "      <td>1</td>\n",
       "      <td>14473.0</td>\n",
       "      <td>0.000005</td>\n",
       "      <td>1.000000</td>\n",
       "      <td>0.000071</td>\n",
       "    </tr>\n",
       "  </tbody>\n",
       "</table>\n",
       "</div>"
      ],
      "text/plain": [
       "                                                           word  appears_in  \\\n",
       "14454  say.................................................it's  1            \n",
       "14453  kindlelishous!!!!!!!!!!!!!                                1            \n",
       "14455  competent,                                                1            \n",
       "14456  3-year-old,                                               1            \n",
       "14457  objective                                                 1            \n",
       "14459  dollars.my                                                1            \n",
       "14460  relies                                                    1            \n",
       "14458  gps.                                                      1            \n",
       "14461  readi,g                                                   1            \n",
       "14464  perfectly..great                                          1            \n",
       "14465  closes.                                                   1            \n",
       "14467  blanking                                                  1            \n",
       "14462  app\"                                                      1            \n",
       "14466  have...then                                               1            \n",
       "14463  error.                                                    1            \n",
       "14468  moztly                                                    1            \n",
       "14469  titles,                                                   1            \n",
       "14470  it..better                                                1            \n",
       "14471  shows/movies!                                             1            \n",
       "14472  bookreader.                                               1            \n",
       "\n",
       "       count     rank  pct_total  cul_pct_total  appears_in_pct  \n",
       "14454  1      14454.0  0.000005   0.999906       0.000071        \n",
       "14453  1      14455.0  0.000005   0.999911       0.000071        \n",
       "14455  1      14456.0  0.000005   0.999916       0.000071        \n",
       "14456  1      14457.0  0.000005   0.999921       0.000071        \n",
       "14457  1      14458.0  0.000005   0.999926       0.000071        \n",
       "14459  1      14459.0  0.000005   0.999931       0.000071        \n",
       "14460  1      14460.0  0.000005   0.999936       0.000071        \n",
       "14458  1      14461.0  0.000005   0.999941       0.000071        \n",
       "14461  1      14462.0  0.000005   0.999946       0.000071        \n",
       "14464  1      14463.0  0.000005   0.999951       0.000071        \n",
       "14465  1      14464.0  0.000005   0.999956       0.000071        \n",
       "14467  1      14465.0  0.000005   0.999961       0.000071        \n",
       "14462  1      14466.0  0.000005   0.999965       0.000071        \n",
       "14466  1      14467.0  0.000005   0.999970       0.000071        \n",
       "14463  1      14468.0  0.000005   0.999975       0.000071        \n",
       "14468  1      14469.0  0.000005   0.999980       0.000071        \n",
       "14469  1      14470.0  0.000005   0.999985       0.000071        \n",
       "14470  1      14471.0  0.000005   0.999990       0.000071        \n",
       "14471  1      14472.0  0.000005   0.999995       0.000071        \n",
       "14472  1      14473.0  0.000005   1.000000       0.000071        "
      ]
     },
     "execution_count": 68,
     "metadata": {},
     "output_type": "execute_result"
    }
   ],
   "source": [
    "wc.tail(20)"
   ]
  },
  {
   "cell_type": "code",
   "execution_count": 69,
   "metadata": {},
   "outputs": [
    {
     "data": {
      "text/plain": [
       "count    14473.000000\n",
       "mean     0.000945    \n",
       "std      0.005579    \n",
       "min      0.000071    \n",
       "25%      0.000071    \n",
       "50%      0.000143    \n",
       "75%      0.000357    \n",
       "max      0.258664    \n",
       "Name: appears_in_pct, dtype: float64"
      ]
     },
     "execution_count": 69,
     "metadata": {},
     "output_type": "execute_result"
    }
   ],
   "source": [
    "wc['appears_in_pct'].describe()"
   ]
  },
  {
   "cell_type": "code",
   "execution_count": 70,
   "metadata": {},
   "outputs": [
    {
     "data": {
      "image/png": "[encoded data removed]",
      "text/plain": [
       "<Figure size 432x288 with 1 Axes>"
      ]
     },
     "metadata": {
      "needs_background": "light"
     },
     "output_type": "display_data"
    }
   ],
   "source": [
    "# Frequency of appears in documents\n",
    "sns.distplot(wc['appears_in_pct']);"
   ]
  },
  {
   "cell_type": "code",
   "execution_count": 71,
   "metadata": {},
   "outputs": [
    {
     "data": {
      "image/png": "[encoded data removed]",
      "text/plain": [
       "<Figure size 432x288 with 1 Axes>"
      ]
     },
     "metadata": {
      "needs_background": "light"
     },
     "output_type": "display_data"
    }
   ],
   "source": [
    "# Tree-Map w/ Words that appear in a least 2.5% of documents. \n",
    "\n",
    "wc = wc[wc['appears_in_pct'] >= 0.025]\n",
    "\n",
    "sns.distplot(wc['appears_in_pct']);"
   ]
  },
  {
   "cell_type": "code",
   "execution_count": 72,
   "metadata": {},
   "outputs": [
    {
     "data": {
      "text/plain": [
       "(67, 7)"
      ]
     },
     "execution_count": 72,
     "metadata": {},
     "output_type": "execute_result"
    }
   ],
   "source": [
    "wc.shape"
   ]
  },
  {
   "cell_type": "markdown",
   "metadata": {},
   "source": [
    "## Challenge\n",
    "\n",
    "In the module project, you will apply stop word removal to a new corpus. You will focus on applying dictionary based stop word removal, but as a stretch goal, you should consider applying statistical stopword trimming. "
   ]
  },
  {
   "cell_type": "markdown",
   "metadata": {
    "toc-hr-collapsed": false
   },
   "source": [
    "# Stemming & Lemmatization (Learn)\n",
    "<a id=\"p3\"></a>"
   ]
  },
  {
   "cell_type": "markdown",
   "metadata": {
    "toc-hr-collapsed": false
   },
   "source": [
    "## Overview\n",
    "\n",
    "You can see from our example above there is still some normalization to do to get a clean analysis. You notice that there many words (*i.e.* 'batteries', 'battery') which share the same root word. We can use either the process of stemming or lemmatization to trim our words down to the 'root' word. \n",
    "\n",
    "__Section Agenda__:\n",
    "\n",
    "- Which is which\n",
    "- why use one v. other\n",
    "- show side by side visualizations \n",
    "- how to do it in spacy & nltk\n",
    "- introduce PoS in here as well"
   ]
  },
  {
   "cell_type": "markdown",
   "metadata": {
    "toc-hr-collapsed": true
   },
   "source": [
    "## Follow Along"
   ]
  },
  {
   "cell_type": "markdown",
   "metadata": {
    "toc-hr-collapsed": true
   },
   "source": [
    "### Stemming\n",
    "\n",
    "> *a process for removing the commoner morphological and inflexional endings from words in English. Its main use is as part of a term normalisation process that is usually done when setting up Information Retrieval systems.* - [Martin Porter](https://tartarus.org/martin/PorterStemmer/)\n",
    "\n",
    "Some examples include:\n",
    "- 'ing'\n",
    "- 'ed'\n",
    "- 's'\n",
    "\n",
    "These rules are by no means comprehensive, but they are somewhere to start. Most stemming is done by well documented algorithms such as Porter, Snowball, and Dawson. Porter and its newer version Snowball are the most popular stemming algorithms today. For more information on various stemming algorithms check out [*\"A Comparative Study of Stemming Algorithms\"*](https://pdfs.semanticscholar.org/1c0c/0fa35d4ff8a2f925eb955e48d655494bd167.pdf) \n",
    "\n",
    "\n",
    "Spacy does not do stemming out of the box, but instead uses a different technique called *lemmatization* which we will discuss in the next section. Let's turn to an antique python package `nltk` for stemming. "
   ]
  },
  {
   "cell_type": "code",
   "execution_count": 73,
   "metadata": {},
   "outputs": [
    {
     "name": "stdout",
     "output_type": "stream",
     "text": [
      "wolf\n",
      "wolv\n",
      "python\n",
      "python\n",
      "python\n",
      "pythonli\n"
     ]
    }
   ],
   "source": [
    "from nltk.stem import PorterStemmer\n",
    "#porter stemmer, iteratble list passed through and then any word is reduced\n",
    "ps = PorterStemmer()\n",
    "\n",
    "words = [\"wolf\", \"wolves\"]\n",
    "word_py = ['python', 'pythoner', 'pythoned', 'pythonly']\n",
    "\n",
    "for word in words:\n",
    "    print(ps.stem(word))\n",
    "    \n",
    "for wordy in word_py:\n",
    "    print(ps.stem(wordy))"
   ]
  },
  {
   "cell_type": "markdown",
   "metadata": {},
   "source": [
    "### Two Minute Challenge\n",
    "\n",
    "Apply the Porter stemming algorithm to the tokens in the `df` dataframe. Visualize the results in the tree graph we have been using for this session."
   ]
  },
  {
   "cell_type": "code",
   "execution_count": 74,
   "metadata": {},
   "outputs": [
    {
     "name": "stderr",
     "output_type": "stream",
     "text": [
      "/Users/blakelobato/opt/anaconda3/envs/U4-S1-NLP/lib/python3.7/site-packages/tqdm/std.py:658: FutureWarning: The Panel class is removed from pandas. Accessing it from the top-level namespace will also be removed in the next version\n",
      "  from pandas import Panel\n"
     ]
    }
   ],
   "source": [
    "#leverage tqdm for progress_apply\n",
    "from tqdm import tqdm\n",
    "tqdm.pandas()"
   ]
  },
  {
   "cell_type": "code",
   "execution_count": 75,
   "metadata": {},
   "outputs": [
    {
     "name": "stderr",
     "output_type": "stream",
     "text": [
      "100%|██████████| 13995/13995 [00:04<00:00, 2838.91it/s]\n"
     ]
    },
    {
     "data": {
      "text/html": [
       "<div>\n",
       "<style scoped>\n",
       "    .dataframe tbody tr th:only-of-type {\n",
       "        vertical-align: middle;\n",
       "    }\n",
       "\n",
       "    .dataframe tbody tr th {\n",
       "        vertical-align: top;\n",
       "    }\n",
       "\n",
       "    .dataframe thead th {\n",
       "        text-align: right;\n",
       "    }\n",
       "</style>\n",
       "<table border=\"1\" class=\"dataframe\">\n",
       "  <thead>\n",
       "    <tr style=\"text-align: right;\">\n",
       "      <th></th>\n",
       "      <th>id</th>\n",
       "      <th>dateAdded</th>\n",
       "      <th>dateUpdated</th>\n",
       "      <th>name</th>\n",
       "      <th>asins</th>\n",
       "      <th>brand</th>\n",
       "      <th>categories</th>\n",
       "      <th>primaryCategories</th>\n",
       "      <th>imageURLs</th>\n",
       "      <th>keys</th>\n",
       "      <th>...</th>\n",
       "      <th>reviews.rating</th>\n",
       "      <th>reviews.sourceURLs</th>\n",
       "      <th>reviews.text</th>\n",
       "      <th>reviews.title</th>\n",
       "      <th>reviews.username</th>\n",
       "      <th>sourceURLs</th>\n",
       "      <th>tokens</th>\n",
       "      <th>FireHD_8</th>\n",
       "      <th>Kindle</th>\n",
       "      <th>stems</th>\n",
       "    </tr>\n",
       "  </thead>\n",
       "  <tbody>\n",
       "    <tr>\n",
       "      <th>8343</th>\n",
       "      <td>AVpe7nGV1cnluZ0-aG2o</td>\n",
       "      <td>2014-10-28T11:14:38Z</td>\n",
       "      <td>2019-04-25T09:05:28Z</td>\n",
       "      <td>AmazonBasics Nylon CD/DVD Binder (400 Capacity)</td>\n",
       "      <td>B00DIHVMEA,B00EZ1ZTV0</td>\n",
       "      <td>amazonbasics</td>\n",
       "      <td>Audio &amp; Video Accessories,TV, Video &amp; Home Audio,Home Audio &amp; Video Accessories,DVD Cases,Electronics,Media Cases &amp; Storage,TV, Video &amp; Audio Accessories,Media Storage &amp; Organization,Disc Storage Wallets,Consumer Electronics,CD, DVD &amp; Blu-ray Discs,Blank Audio/Video Media,Accessories &amp; Supplies,all electronics</td>\n",
       "      <td>Electronics</td>\n",
       "      <td>http://ecx.images-amazon.com/images/I/41jQha7Z7VL._SS40_.jpg,https://i.ebayimg.com/images/g/fzIAAOSwyHJcfeFd/s-l64.jpg,http://ecx.images-amazon.com/images/I/41wHqrf0wpL._SS40_.jpg,https://images-na.ssl-images-amazon.com/images/I/A10hSrURNlL._SL1500_.jpg,https://images-na.ssl-images-amazon.com/images/I/41rePmoxK0L._SS40_.jpg,https://images-na.ssl-images-amazon.com/images/I/41rePmoxK0L._SY300_QL70_.jpg,http://ecx.images-amazon.com/images/I/01G2aSYe7yS._SS40_PKmb-play-button-overlay-thumb_.png,https://i.ebayimg.com/thumbs/images/g/UsYAAOSwF31b4vv0/s-l96.jpg,https://images-na.ssl-images-amazon.com/images/I/81MKtWTvVfL._SL1500_.jpg,https://i.ebayimg.com/thumbs/images/g/hW4AAOSwn-lZcBGA/s-l200.jpg,https://i.ebayimg.com/images/g/VTYAAOSwKLxbX3mg/s-l64.jpg,https://i.ebayimg.com/images/g/~DQAAOSwwcFcfeFa/s-l300.jpg,https://images-na.ssl-images-amazon.com/images/I/91Qkogm3eRL._SL1500_.jpg,http://ecx.images-amazon.com/images/I/411OrNMIkpL._SS40_.jpg,https://images-na.ssl-images-amazon.com/images/I/81veZwqxAwL._SL1500_.jpg,https://i.ebayimg.com/images/g/hrUAAOSwoXZcfeFm/s-l64.jpg</td>\n",
       "      <td>amazonbasicsnyloncddvdbinder400capacity/b00ez1ztv0,amazonbasicsnyloncddvdbinder400capacity/113673983053,amazonbasicsnyloncddvdbinder400capacity/b00dihvmea,amazonbasics/ybb12400r2</td>\n",
       "      <td>...</td>\n",
       "      <td>5</td>\n",
       "      <td>https://www.ebay.com/itm/Amazonbasics-Nylon-Cd-Dvd-Binder-400-Capacity/113673983053</td>\n",
       "      <td>Great case to keep everything in its place! My husband love it!!!! Holds a lot of cds!</td>\n",
       "      <td>Excellent product</td>\n",
       "      <td>qs341_5</td>\n",
       "      <td>https://www.ebay.com/itm/AmazonBasics-Nylon-CD-DVD-Binder-400-Capacity/142888810490,https://www.amazon.com/AmazonBasics-Nylon-DVD-Binder-Capacity/dp/B00DIHVMEA,http://www.amazon.com/AmazonBasics-Nylon-DVD-Wallet-Capacity/dp/B00DIHVM36,https://www.amazon.com/AmazonBasics-Nylon-DVD-Binder-Capacity/dp/B00DIHVMEA/,https://www.ebay.com/itm/Amazonbasics-Nylon-Cd-Dvd-Binder-400-Capacity/113673983053</td>\n",
       "      <td>[great, case, place!, husband, love, it!!!!, holds, lot, cds!]</td>\n",
       "      <td>False</td>\n",
       "      <td>False</td>\n",
       "      <td>[great, case, place!, husband, love, it!!!!, hold, lot, cds!]</td>\n",
       "    </tr>\n",
       "  </tbody>\n",
       "</table>\n",
       "<p>1 rows × 28 columns</p>\n",
       "</div>"
      ],
      "text/plain": [
       "                        id             dateAdded           dateUpdated  \\\n",
       "8343  AVpe7nGV1cnluZ0-aG2o  2014-10-28T11:14:38Z  2019-04-25T09:05:28Z   \n",
       "\n",
       "                                                 name                  asins  \\\n",
       "8343  AmazonBasics Nylon CD/DVD Binder (400 Capacity)  B00DIHVMEA,B00EZ1ZTV0   \n",
       "\n",
       "             brand  \\\n",
       "8343  amazonbasics   \n",
       "\n",
       "                                                                                                                                                                                                                                                                                                                   categories  \\\n",
       "8343  Audio & Video Accessories,TV, Video & Home Audio,Home Audio & Video Accessories,DVD Cases,Electronics,Media Cases & Storage,TV, Video & Audio Accessories,Media Storage & Organization,Disc Storage Wallets,Consumer Electronics,CD, DVD & Blu-ray Discs,Blank Audio/Video Media,Accessories & Supplies,all electronics   \n",
       "\n",
       "     primaryCategories  \\\n",
       "8343  Electronics        \n",
       "\n",
       "                                                                                                                                                                                                                                                                                                                                                                                                                                                                                                                                                                                                                                                                                                                                                                                                                                                                                                                                                                                                                                                                                                                         imageURLs  \\\n",
       "8343  http://ecx.images-amazon.com/images/I/41jQha7Z7VL._SS40_.jpg,https://i.ebayimg.com/images/g/fzIAAOSwyHJcfeFd/s-l64.jpg,http://ecx.images-amazon.com/images/I/41wHqrf0wpL._SS40_.jpg,https://images-na.ssl-images-amazon.com/images/I/A10hSrURNlL._SL1500_.jpg,https://images-na.ssl-images-amazon.com/images/I/41rePmoxK0L._SS40_.jpg,https://images-na.ssl-images-amazon.com/images/I/41rePmoxK0L._SY300_QL70_.jpg,http://ecx.images-amazon.com/images/I/01G2aSYe7yS._SS40_PKmb-play-button-overlay-thumb_.png,https://i.ebayimg.com/thumbs/images/g/UsYAAOSwF31b4vv0/s-l96.jpg,https://images-na.ssl-images-amazon.com/images/I/81MKtWTvVfL._SL1500_.jpg,https://i.ebayimg.com/thumbs/images/g/hW4AAOSwn-lZcBGA/s-l200.jpg,https://i.ebayimg.com/images/g/VTYAAOSwKLxbX3mg/s-l64.jpg,https://i.ebayimg.com/images/g/~DQAAOSwwcFcfeFa/s-l300.jpg,https://images-na.ssl-images-amazon.com/images/I/91Qkogm3eRL._SL1500_.jpg,http://ecx.images-amazon.com/images/I/411OrNMIkpL._SS40_.jpg,https://images-na.ssl-images-amazon.com/images/I/81veZwqxAwL._SL1500_.jpg,https://i.ebayimg.com/images/g/hrUAAOSwoXZcfeFm/s-l64.jpg   \n",
       "\n",
       "                                                                                                                                                                                    keys  \\\n",
       "8343  amazonbasicsnyloncddvdbinder400capacity/b00ez1ztv0,amazonbasicsnyloncddvdbinder400capacity/113673983053,amazonbasicsnyloncddvdbinder400capacity/b00dihvmea,amazonbasics/ybb12400r2   \n",
       "\n",
       "      ... reviews.rating  \\\n",
       "8343  ...  5               \n",
       "\n",
       "                                                                       reviews.sourceURLs  \\\n",
       "8343  https://www.ebay.com/itm/Amazonbasics-Nylon-Cd-Dvd-Binder-400-Capacity/113673983053   \n",
       "\n",
       "                                                                                reviews.text  \\\n",
       "8343  Great case to keep everything in its place! My husband love it!!!! Holds a lot of cds!   \n",
       "\n",
       "          reviews.title reviews.username  \\\n",
       "8343  Excellent product  qs341_5           \n",
       "\n",
       "                                                                                                                                                                                                                                                                                                                                                                                                       sourceURLs  \\\n",
       "8343  https://www.ebay.com/itm/AmazonBasics-Nylon-CD-DVD-Binder-400-Capacity/142888810490,https://www.amazon.com/AmazonBasics-Nylon-DVD-Binder-Capacity/dp/B00DIHVMEA,http://www.amazon.com/AmazonBasics-Nylon-DVD-Wallet-Capacity/dp/B00DIHVM36,https://www.amazon.com/AmazonBasics-Nylon-DVD-Binder-Capacity/dp/B00DIHVMEA/,https://www.ebay.com/itm/Amazonbasics-Nylon-Cd-Dvd-Binder-400-Capacity/113673983053   \n",
       "\n",
       "                                                              tokens  \\\n",
       "8343  [great, case, place!, husband, love, it!!!!, holds, lot, cds!]   \n",
       "\n",
       "      FireHD_8  Kindle  \\\n",
       "8343  False     False    \n",
       "\n",
       "                                                              stems  \n",
       "8343  [great, case, place!, husband, love, it!!!!, hold, lot, cds!]  \n",
       "\n",
       "[1 rows x 28 columns]"
      ]
     },
     "execution_count": 75,
     "metadata": {},
     "output_type": "execute_result"
    }
   ],
   "source": [
    "# Put in a new column `stems`\n",
    "df['stems'] = df.tokens.progress_apply(lambda x: [ps.stem(wordy) for wordy in x])\n",
    "df.head(1)"
   ]
  },
  {
   "cell_type": "code",
   "execution_count": 76,
   "metadata": {},
   "outputs": [
    {
     "data": {
      "image/png": "[encoded data removed]",
      "text/plain": [
       "<Figure size 432x288 with 1 Axes>"
      ]
     },
     "metadata": {
      "needs_background": "light"
     },
     "output_type": "display_data"
    }
   ],
   "source": [
    "wc = count(df['stems'])\n",
    "\n",
    "wc_top20 = wc[wc['rank'] <= 20]\n",
    "\n",
    "squarify.plot(sizes=wc_top20['pct_total'], label=wc_top20['word'], alpha=.8 )\n",
    "plt.axis('off')\n",
    "plt.show()"
   ]
  },
  {
   "cell_type": "markdown",
   "metadata": {
    "toc-hr-collapsed": false
   },
   "source": [
    "### Lemmatization\n",
    "\n",
    "You notice immediately that results are kinda funky - words just oddly chopped off. The Porter algorithm did exactly what it knows to do: chop off endings. Stemming works well in applications where humans don't have to worry about reading the results. Search engines and more broadly information retrieval algorithms use stemming. Why? Because it's fast. \n",
    "\n",
    "Lemmatization on the other hand is more methodical. The goal is to transform a word into its base form called a lemma. Plural nouns with funky spellings get transformed to singular tense. Verbs are all transformed to the transitive. Nice tidy data for a visualization. :) However, this tidy data can come at computational cost. Spacy does a pretty freaking good job of it though. Let's take a look:"
   ]
  },
  {
   "cell_type": "code",
   "execution_count": 77,
   "metadata": {},
   "outputs": [
    {
     "name": "stdout",
     "output_type": "stream",
     "text": [
      "This    this\n",
      "is    be\n",
      "the    the\n",
      "start    start\n",
      "of    of\n",
      "our    -PRON-\n",
      "NLP    NLP\n",
      "adventures    adventure\n",
      ".    .\n",
      "We    -PRON-\n",
      "started    start\n",
      "here    here\n",
      "with    with\n",
      "Spacy    Spacy\n",
      ".    .\n",
      "We    -PRON-\n",
      "are    be\n",
      "starting    start\n",
      "here    here\n",
      "with    with\n",
      "NLP    NLP\n",
      ".    .\n"
     ]
    }
   ],
   "source": [
    "sent = \"This is the start of our NLP adventures. We started here with Spacy. We are starting here with NLP.\"\n",
    "\n",
    "nlp = spacy.load(\"en_core_web_lg\")\n",
    "\n",
    "doc = nlp(sent)\n",
    "\n",
    "# Lemma Attributes\n",
    "for token in doc:\n",
    "    print(token.text, \"  \", token.lemma_)"
   ]
  },
  {
   "cell_type": "code",
   "execution_count": 78,
   "metadata": {},
   "outputs": [],
   "source": [
    "# Wrap it all in a function\n",
    "def get_lemmas(text):\n",
    "\n",
    "    lemmas = []\n",
    "    \n",
    "    doc = nlp(text)\n",
    "    \n",
    "    # Something goes here :P\n",
    "    for token in doc: \n",
    "        if ((token.is_stop == False) and (token.is_punct == False)) and (token.pos_ != 'PRON'):\n",
    "            lemmas.append(token.lemma_)\n",
    "    \n",
    "    return lemmas"
   ]
  },
  {
   "cell_type": "code",
   "execution_count": 79,
   "metadata": {},
   "outputs": [],
   "source": [
    "df['lemmas'] = df['reviews.text'].apply(get_lemmas)"
   ]
  },
  {
   "cell_type": "code",
   "execution_count": 80,
   "metadata": {},
   "outputs": [
    {
     "data": {
      "text/plain": [
       "8343    [great, case, place, husband, love, hold, lot, cd]                                                                                                                                                                                                                                                                                                                                                                                                                                                                                                                                                                                                                                                \n",
       "8344    [discard, get, rid, broken, cd, case, broken, cd, select, one, like, binder, turn, excellent, option, store, favourite, cd, dvd, small, space, living, room, give, choice, donate, rid, cd, tower, take, lot, room, despite, look, nice, turn, page, spot, cd, want, play, hassle, take, case, fall, apart, store, cd, case, print, cover, go, straight, recycling, centre, small, version, cd, husband, like, listen, drive, away, work]                                                                                                                                                                                                                                                         \n",
       "8345    [dollar, boycott, amazon]                                                                                                                                                                                                                                                                                                                                                                                                                                                                                                                                                                                                                                                                         \n",
       "8346    [initial, impression, good, material, nice, shiny, stuff, Hama, CD, binder, netting, trim, give, nice, appearance, compare, plain, look, budget, cd, binder, 50, page, 8, disc, pocket, 4, give, total, 400, capacity, page, hang, spine, group, 25, mean, 25, page, single, attachment, point, plastic, spine, problem, binder, lie, group, 25, page, share, anchor, point, spine, page, sit, flat, disc, bend, arch, apart, look, tatty, put, lot, tension, plastic, film, long, term, usage, suspect, plastic, film, tear, tension, make, awkward, browse, binder, page, sit, flat, crack, bend, disc, look, Hama, 120, binder, 30, page, smart, hang, spine, 3, bundle, 10, spread, page, ...]\n",
       "8347    [pro, Standard, Echo, con, old, generation, Echo, thought, arrive, time, new, box]                                                                                                                                                                                                                                                                                                                                                                                                                                                                                                                                                                                                                \n",
       "Name: lemmas, dtype: object"
      ]
     },
     "execution_count": 80,
     "metadata": {},
     "output_type": "execute_result"
    }
   ],
   "source": [
    "df['lemmas'].head()"
   ]
  },
  {
   "cell_type": "code",
   "execution_count": 81,
   "metadata": {},
   "outputs": [
    {
     "data": {
      "image/png": "[encoded data removed]",
      "text/plain": [
       "<Figure size 432x288 with 1 Axes>"
      ]
     },
     "metadata": {
      "needs_background": "light"
     },
     "output_type": "display_data"
    }
   ],
   "source": [
    "wc = count(df['lemmas'])\n",
    "wc_top20 = wc[wc['rank'] <= 20]\n",
    "\n",
    "squarify.plot(sizes=wc_top20['pct_total'], label=wc_top20['word'], alpha=.8 )\n",
    "plt.axis('off')\n",
    "plt.show()"
   ]
  },
  {
   "cell_type": "markdown",
   "metadata": {},
   "source": [
    "## Challenge\n",
    "\n",
    "You should know how to apply lemmatization with Spacy to a corpus of text. "
   ]
  },
  {
   "cell_type": "markdown",
   "metadata": {},
   "source": [
    "# Review\n",
    "\n",
    "In this module project, you've seen us apply Natural Language Processing techniques (tokenization, stopword removal, and lemmatization) to a corpus of Amazon text reviews. We analyzed those reviews using these techniques and discovered that Amazon customers are generally satisfied with the battery life of Amazon products and generally appear satisfied. \n",
    "\n",
    "You will apply similar techniques to today's [module project assignment](LS_DS_411_Text_Data_Assignment.ipynb) to analyze coffee shop reviews from yelp. Remember that the techniques of processing the text are just the beginning. There are many ways to slice and dice the data. "
   ]
  },
  {
   "cell_type": "markdown",
   "metadata": {},
   "source": [
    "# Sources\n",
    "\n",
    "* Spacy 101 - https://course.spacy.io\n",
    "* NLTK Book - https://www.nltk.org/book/\n",
    "* An Introduction to Information Retrieval - https://nlp.stanford.edu/IR-book/pdf/irbookonlinereading.pdf"
   ]
  },
  {
   "cell_type": "markdown",
   "metadata": {
    "toc-hr-collapsed": true
   },
   "source": [
    "## Advanced Resources & Techniques\n",
    "- Named Entity Recognition (NER)\n",
    "- Dependcy Trees \n",
    "- Generators\n",
    "- the major libraries (NLTK, Spacy, Gensim)"
   ]
  }
 ],
 "metadata": {
  "kernelspec": {
   "display_name": "U4-S1-NLP (Python3)",
   "language": "python",
   "name": "u4-s1-nlp"
  },
  "language_info": {
   "codemirror_mode": {
    "name": "ipython",
    "version": 3
   },
   "file_extension": ".py",
   "mimetype": "text/x-python",
   "name": "python",
   "nbconvert_exporter": "python",
   "pygments_lexer": "ipython3",
   "version": "3.7.0"
  },
  "toc-autonumbering": false,
  "toc-showcode": false,
  "toc-showmarkdowntxt": false
 },
 "nbformat": 4,
 "nbformat_minor": 4
}
